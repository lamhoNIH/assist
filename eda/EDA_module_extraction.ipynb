{
 "cells": [
  {
   "cell_type": "markdown",
   "metadata": {},
   "source": [
    "# This notebook is to evaluate quality of module extraction"
   ]
  },
  {
   "cell_type": "code",
   "execution_count": 2,
   "metadata": {},
   "outputs": [],
   "source": [
    "import pandas as pd\n",
    "import numpy as np\n",
    "import seaborn as sns\n",
    "import networkx as nx\n",
    "import community\n",
    "from itertools import combinations\n",
    "from scipy.stats import ttest_ind\n",
    "from sknetwork.clustering import Louvain\n",
    "from sklearn.metrics import normalized_mutual_info_score as nmi\n",
    "import matplotlib.pyplot as plt\n",
    "%matplotlib inline"
   ]
  },
  {
   "cell_type": "markdown",
   "metadata": {},
   "source": [
    "# Evaluations on network embedding: skip for now"
   ]
  },
  {
   "cell_type": "markdown",
   "metadata": {},
   "source": [
    "# Evaluations on community detection on the network "
   ]
  },
  {
   "cell_type": "markdown",
   "metadata": {},
   "source": [
    "## Evaluation 1: correlation between phenotypes and network modules"
   ]
  },
  {
   "cell_type": "code",
   "execution_count": 3,
   "metadata": {},
   "outputs": [],
   "source": [
    "meta = pd.read_csv(r'G:\\Shared drives\\NIAAA_ASSIST\\Data\\kapoor2019_coga.inia.detailed.pheno.04.12.17.csv')"
   ]
  },
  {
   "cell_type": "code",
   "execution_count": 85,
   "metadata": {},
   "outputs": [
    {
     "data": {
      "text/html": [
       "<div>\n",
       "<style scoped>\n",
       "    .dataframe tbody tr th:only-of-type {\n",
       "        vertical-align: middle;\n",
       "    }\n",
       "\n",
       "    .dataframe tbody tr th {\n",
       "        vertical-align: top;\n",
       "    }\n",
       "\n",
       "    .dataframe thead th {\n",
       "        text-align: right;\n",
       "    }\n",
       "</style>\n",
       "<table border=\"1\" class=\"dataframe\">\n",
       "  <thead>\n",
       "    <tr style=\"text-align: right;\">\n",
       "      <th></th>\n",
       "      <th>SUNumber</th>\n",
       "      <th>IID</th>\n",
       "      <th>RNAsequencedby</th>\n",
       "      <th>Frozentissue</th>\n",
       "      <th>BMI</th>\n",
       "      <th>RIN</th>\n",
       "      <th>Age</th>\n",
       "      <th>Gender</th>\n",
       "      <th>Ethnicity</th>\n",
       "      <th>Alc_status</th>\n",
       "      <th>...</th>\n",
       "      <th>Agonal_phase</th>\n",
       "      <th>Liver_class</th>\n",
       "      <th>Smoking_frequency</th>\n",
       "      <th>Pack_yrs_1_pktperday_1_yr)</th>\n",
       "      <th>AUDIT</th>\n",
       "      <th>alcohol_intake_gmsperday</th>\n",
       "      <th>Total_drinking_yrs</th>\n",
       "      <th>Depression</th>\n",
       "      <th>Anxiety</th>\n",
       "      <th>SR</th>\n",
       "    </tr>\n",
       "  </thead>\n",
       "  <tbody>\n",
       "    <tr>\n",
       "      <th>0</th>\n",
       "      <td>214.0</td>\n",
       "      <td>X214</td>\n",
       "      <td>INIA</td>\n",
       "      <td>Left</td>\n",
       "      <td>35.0</td>\n",
       "      <td>7.0</td>\n",
       "      <td>48</td>\n",
       "      <td>Female</td>\n",
       "      <td>European</td>\n",
       "      <td>Alcoholic</td>\n",
       "      <td>...</td>\n",
       "      <td>Rapid</td>\n",
       "      <td>Steatosis</td>\n",
       "      <td>99 - Not reported</td>\n",
       "      <td>NaN</td>\n",
       "      <td>186.0</td>\n",
       "      <td>266.0</td>\n",
       "      <td>23.0</td>\n",
       "      <td>Yes</td>\n",
       "      <td>No</td>\n",
       "      <td>1</td>\n",
       "    </tr>\n",
       "    <tr>\n",
       "      <th>1</th>\n",
       "      <td>460.0</td>\n",
       "      <td>X460</td>\n",
       "      <td>INIA</td>\n",
       "      <td>Right</td>\n",
       "      <td>22.0</td>\n",
       "      <td>7.4</td>\n",
       "      <td>49</td>\n",
       "      <td>Female</td>\n",
       "      <td>European</td>\n",
       "      <td>Control</td>\n",
       "      <td>...</td>\n",
       "      <td>Rapid</td>\n",
       "      <td>Normal</td>\n",
       "      <td>99 - Not reported</td>\n",
       "      <td>NaN</td>\n",
       "      <td>NaN</td>\n",
       "      <td>NaN</td>\n",
       "      <td>NaN</td>\n",
       "      <td>No</td>\n",
       "      <td>No</td>\n",
       "      <td>2</td>\n",
       "    </tr>\n",
       "    <tr>\n",
       "      <th>2</th>\n",
       "      <td>584.0</td>\n",
       "      <td>X584</td>\n",
       "      <td>INIA</td>\n",
       "      <td>Right</td>\n",
       "      <td>22.0</td>\n",
       "      <td>7.3</td>\n",
       "      <td>52</td>\n",
       "      <td>Female</td>\n",
       "      <td>European</td>\n",
       "      <td>Alcoholic</td>\n",
       "      <td>...</td>\n",
       "      <td>Rapid</td>\n",
       "      <td>Normal</td>\n",
       "      <td>01 - Everyday/7days per week</td>\n",
       "      <td>42.0</td>\n",
       "      <td>42.0</td>\n",
       "      <td>102.0</td>\n",
       "      <td>27.0</td>\n",
       "      <td>Yes</td>\n",
       "      <td>No</td>\n",
       "      <td>3</td>\n",
       "    </tr>\n",
       "    <tr>\n",
       "      <th>3</th>\n",
       "      <td>551.0</td>\n",
       "      <td>X551</td>\n",
       "      <td>INIA</td>\n",
       "      <td>Right</td>\n",
       "      <td>41.0</td>\n",
       "      <td>7.6</td>\n",
       "      <td>51</td>\n",
       "      <td>Female</td>\n",
       "      <td>European</td>\n",
       "      <td>Control</td>\n",
       "      <td>...</td>\n",
       "      <td>Intermediate</td>\n",
       "      <td>Steatosis</td>\n",
       "      <td>99 - Not reported</td>\n",
       "      <td>NaN</td>\n",
       "      <td>0.0</td>\n",
       "      <td>0.0</td>\n",
       "      <td>NaN</td>\n",
       "      <td>No</td>\n",
       "      <td>No</td>\n",
       "      <td>4</td>\n",
       "    </tr>\n",
       "    <tr>\n",
       "      <th>4</th>\n",
       "      <td>530.0</td>\n",
       "      <td>X530</td>\n",
       "      <td>INIA</td>\n",
       "      <td>Right</td>\n",
       "      <td>23.0</td>\n",
       "      <td>7.6</td>\n",
       "      <td>56</td>\n",
       "      <td>Female</td>\n",
       "      <td>European</td>\n",
       "      <td>Alcoholic</td>\n",
       "      <td>...</td>\n",
       "      <td>Rapid</td>\n",
       "      <td>Normal</td>\n",
       "      <td>01 - Everyday/7days per week</td>\n",
       "      <td>38.0</td>\n",
       "      <td>56.0</td>\n",
       "      <td>136.0</td>\n",
       "      <td>31.0</td>\n",
       "      <td>Yes</td>\n",
       "      <td>No</td>\n",
       "      <td>5</td>\n",
       "    </tr>\n",
       "  </tbody>\n",
       "</table>\n",
       "<p>5 rows × 27 columns</p>\n",
       "</div>"
      ],
      "text/plain": [
       "   SUNumber   IID RNAsequencedby Frozentissue   BMI  RIN  Age  Gender  \\\n",
       "0     214.0  X214           INIA         Left  35.0  7.0   48  Female   \n",
       "1     460.0  X460           INIA        Right  22.0  7.4   49  Female   \n",
       "2     584.0  X584           INIA        Right  22.0  7.3   52  Female   \n",
       "3     551.0  X551           INIA        Right  41.0  7.6   51  Female   \n",
       "4     530.0  X530           INIA        Right  23.0  7.6   56  Female   \n",
       "\n",
       "  Ethnicity Alc_status  ...  Agonal_phase Liver_class  \\\n",
       "0  European  Alcoholic  ...         Rapid   Steatosis   \n",
       "1  European    Control  ...         Rapid      Normal   \n",
       "2  European  Alcoholic  ...         Rapid      Normal   \n",
       "3  European    Control  ...  Intermediate   Steatosis   \n",
       "4  European  Alcoholic  ...         Rapid      Normal   \n",
       "\n",
       "              Smoking_frequency Pack_yrs_1_pktperday_1_yr)  AUDIT  \\\n",
       "0             99 - Not reported                        NaN  186.0   \n",
       "1             99 - Not reported                        NaN    NaN   \n",
       "2  01 - Everyday/7days per week                       42.0   42.0   \n",
       "3             99 - Not reported                        NaN    0.0   \n",
       "4  01 - Everyday/7days per week                       38.0   56.0   \n",
       "\n",
       "   alcohol_intake_gmsperday Total_drinking_yrs Depression Anxiety SR  \n",
       "0                     266.0               23.0        Yes      No  1  \n",
       "1                       NaN                NaN         No      No  2  \n",
       "2                     102.0               27.0        Yes      No  3  \n",
       "3                       0.0                NaN         No      No  4  \n",
       "4                     136.0               31.0        Yes      No  5  \n",
       "\n",
       "[5 rows x 27 columns]"
      ]
     },
     "execution_count": 85,
     "metadata": {},
     "output_type": "execute_result"
    }
   ],
   "source": [
    "meta.head()"
   ]
  },
  {
   "cell_type": "code",
   "execution_count": 5,
   "metadata": {},
   "outputs": [],
   "source": [
    "expression = pd.read_csv(r'G:\\Shared drives\\NIAAA_ASSIST\\Data\\kapoor2019_batch.age.rin.sex.pm.alc.corrected.coga.inia.expression.txt', sep = '\\t')"
   ]
  },
  {
   "cell_type": "code",
   "execution_count": 398,
   "metadata": {},
   "outputs": [
    {
     "data": {
      "text/html": [
       "<div>\n",
       "<style scoped>\n",
       "    .dataframe tbody tr th:only-of-type {\n",
       "        vertical-align: middle;\n",
       "    }\n",
       "\n",
       "    .dataframe tbody tr th {\n",
       "        vertical-align: top;\n",
       "    }\n",
       "\n",
       "    .dataframe thead th {\n",
       "        text-align: right;\n",
       "    }\n",
       "</style>\n",
       "<table border=\"1\" class=\"dataframe\">\n",
       "  <thead>\n",
       "    <tr style=\"text-align: right;\">\n",
       "      <th></th>\n",
       "      <th>id</th>\n",
       "      <th>X214</th>\n",
       "      <th>X460</th>\n",
       "      <th>X584</th>\n",
       "      <th>X551</th>\n",
       "      <th>X530</th>\n",
       "      <th>X571</th>\n",
       "      <th>X327</th>\n",
       "      <th>X723</th>\n",
       "      <th>X637</th>\n",
       "      <th>...</th>\n",
       "      <th>X693</th>\n",
       "      <th>X88.225</th>\n",
       "      <th>X88.274</th>\n",
       "      <th>X88.304</th>\n",
       "      <th>X89.221</th>\n",
       "      <th>X89.577</th>\n",
       "      <th>X89.61</th>\n",
       "      <th>X90.92</th>\n",
       "      <th>X94</th>\n",
       "      <th>X97</th>\n",
       "    </tr>\n",
       "  </thead>\n",
       "  <tbody>\n",
       "    <tr>\n",
       "      <th>0</th>\n",
       "      <td>ENSG00000223972</td>\n",
       "      <td>-4.261581</td>\n",
       "      <td>-4.423967</td>\n",
       "      <td>-6.102518</td>\n",
       "      <td>-4.958797</td>\n",
       "      <td>-4.071654</td>\n",
       "      <td>-3.037635</td>\n",
       "      <td>-5.439682</td>\n",
       "      <td>-2.832259</td>\n",
       "      <td>-4.710384</td>\n",
       "      <td>...</td>\n",
       "      <td>-3.372538</td>\n",
       "      <td>-3.873464</td>\n",
       "      <td>-6.436325</td>\n",
       "      <td>-1.721412</td>\n",
       "      <td>-3.507418</td>\n",
       "      <td>-4.409269</td>\n",
       "      <td>-2.736698</td>\n",
       "      <td>-3.965118</td>\n",
       "      <td>-3.569057</td>\n",
       "      <td>-4.102774</td>\n",
       "    </tr>\n",
       "    <tr>\n",
       "      <th>1</th>\n",
       "      <td>ENSG00000227232</td>\n",
       "      <td>3.133118</td>\n",
       "      <td>2.389945</td>\n",
       "      <td>1.877375</td>\n",
       "      <td>2.657129</td>\n",
       "      <td>3.186562</td>\n",
       "      <td>2.524341</td>\n",
       "      <td>2.407419</td>\n",
       "      <td>2.396011</td>\n",
       "      <td>1.967437</td>\n",
       "      <td>...</td>\n",
       "      <td>3.208310</td>\n",
       "      <td>1.955924</td>\n",
       "      <td>2.420009</td>\n",
       "      <td>2.445241</td>\n",
       "      <td>2.125047</td>\n",
       "      <td>2.098679</td>\n",
       "      <td>1.902287</td>\n",
       "      <td>1.755228</td>\n",
       "      <td>2.172712</td>\n",
       "      <td>2.793735</td>\n",
       "    </tr>\n",
       "    <tr>\n",
       "      <th>2</th>\n",
       "      <td>ENSG00000243485</td>\n",
       "      <td>-6.378719</td>\n",
       "      <td>-6.450555</td>\n",
       "      <td>-6.511875</td>\n",
       "      <td>-5.654745</td>\n",
       "      <td>-6.225215</td>\n",
       "      <td>-6.162609</td>\n",
       "      <td>-5.803749</td>\n",
       "      <td>-6.211318</td>\n",
       "      <td>-5.408333</td>\n",
       "      <td>...</td>\n",
       "      <td>-6.064959</td>\n",
       "      <td>-6.182780</td>\n",
       "      <td>-4.020032</td>\n",
       "      <td>-6.139515</td>\n",
       "      <td>-6.338852</td>\n",
       "      <td>-4.801172</td>\n",
       "      <td>-6.263975</td>\n",
       "      <td>-5.980506</td>\n",
       "      <td>-4.492686</td>\n",
       "      <td>-6.072103</td>\n",
       "    </tr>\n",
       "    <tr>\n",
       "      <th>3</th>\n",
       "      <td>ENSG00000237613</td>\n",
       "      <td>-6.590814</td>\n",
       "      <td>-6.828669</td>\n",
       "      <td>-6.738715</td>\n",
       "      <td>-6.004365</td>\n",
       "      <td>-6.433103</td>\n",
       "      <td>-6.444835</td>\n",
       "      <td>-6.012983</td>\n",
       "      <td>-6.565688</td>\n",
       "      <td>-5.575865</td>\n",
       "      <td>...</td>\n",
       "      <td>-6.167764</td>\n",
       "      <td>-6.221876</td>\n",
       "      <td>-6.188361</td>\n",
       "      <td>-6.281222</td>\n",
       "      <td>-6.327757</td>\n",
       "      <td>-6.249489</td>\n",
       "      <td>-6.256040</td>\n",
       "      <td>-6.147352</td>\n",
       "      <td>-6.191377</td>\n",
       "      <td>-6.250276</td>\n",
       "    </tr>\n",
       "    <tr>\n",
       "      <th>4</th>\n",
       "      <td>ENSG00000268020</td>\n",
       "      <td>-6.872157</td>\n",
       "      <td>-7.177326</td>\n",
       "      <td>-7.078476</td>\n",
       "      <td>-6.299411</td>\n",
       "      <td>-6.755489</td>\n",
       "      <td>-6.657818</td>\n",
       "      <td>-6.384120</td>\n",
       "      <td>-6.914770</td>\n",
       "      <td>-5.867969</td>\n",
       "      <td>...</td>\n",
       "      <td>-6.555348</td>\n",
       "      <td>-6.780160</td>\n",
       "      <td>-6.527293</td>\n",
       "      <td>-6.802767</td>\n",
       "      <td>-6.672362</td>\n",
       "      <td>-6.628928</td>\n",
       "      <td>-5.243607</td>\n",
       "      <td>-6.711166</td>\n",
       "      <td>-6.641645</td>\n",
       "      <td>-2.583216</td>\n",
       "    </tr>\n",
       "  </tbody>\n",
       "</table>\n",
       "<p>5 rows × 140 columns</p>\n",
       "</div>"
      ],
      "text/plain": [
       "                id      X214      X460      X584      X551      X530  \\\n",
       "0  ENSG00000223972 -4.261581 -4.423967 -6.102518 -4.958797 -4.071654   \n",
       "1  ENSG00000227232  3.133118  2.389945  1.877375  2.657129  3.186562   \n",
       "2  ENSG00000243485 -6.378719 -6.450555 -6.511875 -5.654745 -6.225215   \n",
       "3  ENSG00000237613 -6.590814 -6.828669 -6.738715 -6.004365 -6.433103   \n",
       "4  ENSG00000268020 -6.872157 -7.177326 -7.078476 -6.299411 -6.755489   \n",
       "\n",
       "       X571      X327      X723      X637  ...      X693   X88.225   X88.274  \\\n",
       "0 -3.037635 -5.439682 -2.832259 -4.710384  ... -3.372538 -3.873464 -6.436325   \n",
       "1  2.524341  2.407419  2.396011  1.967437  ...  3.208310  1.955924  2.420009   \n",
       "2 -6.162609 -5.803749 -6.211318 -5.408333  ... -6.064959 -6.182780 -4.020032   \n",
       "3 -6.444835 -6.012983 -6.565688 -5.575865  ... -6.167764 -6.221876 -6.188361   \n",
       "4 -6.657818 -6.384120 -6.914770 -5.867969  ... -6.555348 -6.780160 -6.527293   \n",
       "\n",
       "    X88.304   X89.221   X89.577    X89.61    X90.92       X94       X97  \n",
       "0 -1.721412 -3.507418 -4.409269 -2.736698 -3.965118 -3.569057 -4.102774  \n",
       "1  2.445241  2.125047  2.098679  1.902287  1.755228  2.172712  2.793735  \n",
       "2 -6.139515 -6.338852 -4.801172 -6.263975 -5.980506 -4.492686 -6.072103  \n",
       "3 -6.281222 -6.327757 -6.249489 -6.256040 -6.147352 -6.191377 -6.250276  \n",
       "4 -6.802767 -6.672362 -6.628928 -5.243607 -6.711166 -6.641645 -2.583216  \n",
       "\n",
       "[5 rows x 140 columns]"
      ]
     },
     "execution_count": 398,
     "metadata": {},
     "output_type": "execute_result"
    }
   ],
   "source": [
    "expression.head()"
   ]
  },
  {
   "cell_type": "code",
   "execution_count": 401,
   "metadata": {},
   "outputs": [],
   "source": [
    "expression = expression[expression.id.isin(tom_df.index)]"
   ]
  },
  {
   "cell_type": "code",
   "execution_count": 402,
   "metadata": {},
   "outputs": [],
   "source": [
    "expression_t = expression.T\n",
    "expression_t.columns = expression_t.iloc[0,:]\n",
    "expression_t.drop('id', inplace=True)"
   ]
  },
  {
   "cell_type": "code",
   "execution_count": 404,
   "metadata": {},
   "outputs": [],
   "source": [
    "expression_meta = pd.merge(expression_t, meta, left_index = True, right_on = 'IID')"
   ]
  },
  {
   "cell_type": "markdown",
   "metadata": {},
   "source": [
    "### Find variable genes between phenotype groups. Use Alc_status as the control since it was used to calculate DE."
   ]
  },
  {
   "cell_type": "markdown",
   "metadata": {},
   "source": [
    "#### Use t-test to compare between the alcoholic group and the control group. It only works when they're two groups. For multiple groups or groups with continuous values (such as AUDIT), we need other methods to get those \"variable genes\". I haven't figured out the method yet. "
   ]
  },
  {
   "cell_type": "code",
   "execution_count": 533,
   "metadata": {},
   "outputs": [],
   "source": [
    "variable_genes = []\n",
    "for col in expression_meta.columns[:19911]:\n",
    "    ttest = ttest_ind(expression_meta[expression_meta.Alc_status == 'Alcoholic'][col], expression_meta[expression_meta.Alc_status == 'Control'][col])\n",
    "    if ttest[1] < 0.5:\n",
    "        variable_genes.append(col)"
   ]
  },
  {
   "cell_type": "code",
   "execution_count": 534,
   "metadata": {},
   "outputs": [],
   "source": [
    "# collect up genes if the mean is higher in alcoholic than control\n",
    "up_genes = []\n",
    "for gene in high_genes:\n",
    "    alc = expression_meta[expression_meta.Alc_status == 'Alcoholic'][gene]\n",
    "    control = expression_meta[expression_meta.Alc_status == 'Control'][gene]\n",
    "    if np.mean(alc) > np.mean(control):\n",
    "        up_genes.append(gene)"
   ]
  },
  {
   "cell_type": "code",
   "execution_count": 535,
   "metadata": {},
   "outputs": [],
   "source": [
    "down_genes = []\n",
    "for gene in high_genes:\n",
    "    alc = expression_meta[expression_meta.Alc_status == 'Alcoholic'][gene]\n",
    "    control = expression_meta[expression_meta.Alc_status == 'Control'][gene]\n",
    "    if np.mean(alc) < np.mean(control):\n",
    "        down_genes.append(gene)"
   ]
  },
  {
   "cell_type": "code",
   "execution_count": 425,
   "metadata": {},
   "outputs": [],
   "source": [
    "deseq = pd.read_excel(r'G:\\Shared drives\\NIAAA_ASSIST\\Data\\deseq.alc.vs.control.age.rin.batch.gender.PMI.corrected.w.prot.coding.gene.name.xlsx')"
   ]
  },
  {
   "cell_type": "code",
   "execution_count": 199,
   "metadata": {},
   "outputs": [],
   "source": [
    "tom_df = pd.read_csv(r'G:\\Shared drives\\NIAAA_ASSIST\\Data\\Kapoor_TOM.csv', index_col = 0)"
   ]
  },
  {
   "cell_type": "code",
   "execution_count": 495,
   "metadata": {},
   "outputs": [],
   "source": [
    "community_df = pd.read_csv(r'G:\\Shared drives\\NIAAA_ASSIST\\Data\\network_louvain_community.csv')"
   ]
  },
  {
   "cell_type": "markdown",
   "metadata": {},
   "source": [
    "### Use NMI to determine how well the network community labels correlate with the alcohol phenotypes. The idea is up_genes belong to 1 cluster and down_genes belong to another cluster. "
   ]
  },
  {
   "cell_type": "code",
   "execution_count": 515,
   "metadata": {},
   "outputs": [],
   "source": [
    "def nmi_features_genes_n_community(gene_sets, community = community_df):\n",
    "    community_id = []\n",
    "    gene_set_id = []\n",
    "    for i, g_set in enumerate(gene_sets):\n",
    "        community_id += community_df[community_df['id'].isin(g_set)]['louvain_label'].tolist()\n",
    "        gene_set_id += [i]*len(g_set)\n",
    "    return nmi(community_id, gene_set_id)"
   ]
  },
  {
   "cell_type": "code",
   "execution_count": 537,
   "metadata": {},
   "outputs": [
    {
     "data": {
      "text/plain": [
       "0.05035338718910613"
      ]
     },
     "execution_count": 537,
     "metadata": {},
     "output_type": "execute_result"
    }
   ],
   "source": [
    "# up_genes and down_genes each as a cluster \n",
    "nmi_features_genes_n_community([up_genes, down_genes])"
   ]
  },
  {
   "cell_type": "code",
   "execution_count": 538,
   "metadata": {},
   "outputs": [
    {
     "data": {
      "text/plain": [
       "0.0"
      ]
     },
     "execution_count": 538,
     "metadata": {},
     "output_type": "execute_result"
    }
   ],
   "source": [
    "# up_genes as a cluster only\n",
    "nmi_features_genes_n_community([up_genes])"
   ]
  },
  {
   "cell_type": "code",
   "execution_count": 539,
   "metadata": {},
   "outputs": [
    {
     "data": {
      "text/plain": [
       "0.0"
      ]
     },
     "execution_count": 539,
     "metadata": {},
     "output_type": "execute_result"
    }
   ],
   "source": [
    "# down_genes as a cluster only\n",
    "nmi_features_genes_n_community([down_genes])"
   ]
  },
  {
   "cell_type": "markdown",
   "metadata": {},
   "source": [
    "### Looks like we need another way to measure the correlation"
   ]
  }
 ],
 "metadata": {
  "kernelspec": {
   "display_name": "Python 3",
   "language": "python",
   "name": "python3"
  },
  "language_info": {
   "codemirror_mode": {
    "name": "ipython",
    "version": 3
   },
   "file_extension": ".py",
   "mimetype": "text/x-python",
   "name": "python",
   "nbconvert_exporter": "python",
   "pygments_lexer": "ipython3",
   "version": "3.8.3"
  }
 },
 "nbformat": 4,
 "nbformat_minor": 4
}
