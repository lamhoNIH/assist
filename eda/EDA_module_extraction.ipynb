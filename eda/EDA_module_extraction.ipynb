{
 "cells": [
  {
   "cell_type": "markdown",
   "metadata": {},
   "source": [
    "# This notebook is to evaluate quality of module extraction"
   ]
  },
  {
   "cell_type": "code",
   "execution_count": 1,
   "metadata": {},
   "outputs": [],
   "source": [
    "import pandas as pd\n",
    "import numpy as np\n",
    "import seaborn as sns\n",
    "import networkx as nx\n",
    "import community\n",
    "from itertools import combinations\n",
    "from scipy.stats import ttest_ind\n",
    "from sknetwork.clustering import Louvain\n",
    "from sklearn.metrics import normalized_mutual_info_score as nmi\n",
    "from scipy.stats import f_oneway\n",
    "from functions.subset_network import subset_network\n",
    "from functions.graph_distance import *\n",
    "from functions.network_embedding import network_embedding\n",
    "from sklearn.cluster import KMeans\n",
    "import matplotlib.pyplot as plt\n",
    "%matplotlib inline"
   ]
  },
  {
   "cell_type": "code",
   "execution_count": 132,
   "metadata": {},
   "outputs": [],
   "source": [
    "%load_ext autoreload\n",
    "%autoreload 2"
   ]
  },
  {
   "cell_type": "markdown",
   "metadata": {},
   "source": [
    "# Evaluations on network embedding: skip for now"
   ]
  },
  {
   "cell_type": "markdown",
   "metadata": {},
   "source": [
    "## Evaluation 1: embedding cluster comparison"
   ]
  },
  {
   "cell_type": "code",
   "execution_count": null,
   "metadata": {},
   "outputs": [],
   "source": [
    "# Different subnetwork will create different embedding. How will the clusters from these different embeddings compare?"
   ]
  },
  {
   "cell_type": "code",
   "execution_count": null,
   "metadata": {},
   "outputs": [],
   "source": [
    "tom_df = pd.read_csv(r'G:\\Shared drives\\NIAAA_ASSIST\\Data\\Kapoor_TOM.csv', index_col = 0) "
   ]
  },
  {
   "cell_type": "code",
   "execution_count": 140,
   "metadata": {},
   "outputs": [
    {
     "name": "stdout",
     "output_type": "stream",
     "text": [
      "Number of edges left: 10100.0\n"
     ]
    },
    {
     "name": "stderr",
     "output_type": "stream",
     "text": [
      "Computing transition probabilities: 100%|██████████████████████████████████████| 19911/19911 [00:08<00:00, 2420.51it/s]\n",
      "Generating walks (CPU: 1): 100%|█████████████████████████████████████████████████████| 100/100 [00:38<00:00,  2.62it/s]\n"
     ]
    },
    {
     "name": "stdout",
     "output_type": "stream",
     "text": [
      "embedding data saved\n",
      "Number of edges left: 4967.0\n"
     ]
    },
    {
     "name": "stderr",
     "output_type": "stream",
     "text": [
      "Computing transition probabilities: 100%|██████████████████████████████████████| 19911/19911 [00:03<00:00, 5177.89it/s]\n",
      "Generating walks (CPU: 1): 100%|█████████████████████████████████████████████████████| 100/100 [00:32<00:00,  3.06it/s]\n"
     ]
    },
    {
     "name": "stdout",
     "output_type": "stream",
     "text": [
      "embedding data saved\n",
      "Number of edges left: 1092.0\n"
     ]
    },
    {
     "name": "stderr",
     "output_type": "stream",
     "text": [
      "Computing transition probabilities: 100%|█████████████████████████████████████| 19911/19911 [00:00<00:00, 57051.81it/s]\n",
      "Generating walks (CPU: 1): 100%|█████████████████████████████████████████████████████| 100/100 [00:16<00:00,  6.00it/s]\n"
     ]
    },
    {
     "name": "stdout",
     "output_type": "stream",
     "text": [
      "embedding data saved\n"
     ]
    }
   ],
   "source": [
    "subset_G = []\n",
    "subset_df = []\n",
    "for weight in [0.218, 0.24, 0.278]:\n",
    "    subset, G = subset_network(tom_df, weight, 0.98)\n",
    "    subset_df.append(subset)\n",
    "    subset_G.append(G)\n",
    "    emb_df = network_embedding(G, 16, 100, 10, 'C:/Users/bbche/Documents/GitRepos/assist/data', weight)"
   ]
  },
  {
   "cell_type": "markdown",
   "metadata": {},
   "source": [
    "### Evaluation 1a: compare subnetwork by graph distance"
   ]
  },
  {
   "cell_type": "code",
   "execution_count": 150,
   "metadata": {},
   "outputs": [
    {
     "data": {
      "image/png": "[encoded data removed]",
      "text/plain": [
       "<Figure size 720x360 with 2 Axes>"
      ]
     },
     "metadata": {},
     "output_type": "display_data"
    }
   ],
   "source": [
    "plot_graph_distance(subset_df, ['10k edges', '5k edges', '1k edges'])"
   ]
  },
  {
   "cell_type": "markdown",
   "metadata": {},
   "source": [
    "### Evaluation 1b: compare embedding from subnetworks by comparing k mean clusters with jaccard and NMI"
   ]
  },
  {
   "cell_type": "code",
   "execution_count": 51,
   "metadata": {},
   "outputs": [],
   "source": [
    "def run_kmeans(embedding_df, n_clusters):\n",
    "    kmeans = KMeans(n_clusters=n_clusters, random_state=0).fit_predict(embedding_df)\n",
    "    k_mean_df = pd.DataFrame({'id':embedding_df.index, 'kmean_label':kmeans})\n",
    "    return k_mean_df"
   ]
  },
  {
   "cell_type": "code",
   "execution_count": 66,
   "metadata": {},
   "outputs": [],
   "source": [
    "def jaccard_similarity(list1, list2):\n",
    "    intersection = len(set(list1).intersection(list2))\n",
    "    union = len(set(list1)) + len(set(list2)) - intersection\n",
    "    return intersection / union"
   ]
  },
  {
   "cell_type": "code",
   "execution_count": 76,
   "metadata": {},
   "outputs": [],
   "source": [
    "def cluster_jaccard(cluster_df1, cluster_df2, cluster_column, comparison_names, top = None):\n",
    "    '''\n",
    "    plot jaccard pairwise comparison on the communities in 2 networks or the kmeans clusters in 2 network embeddings\n",
    "    title: main title for the two subplots\n",
    "    cluster_column: the column name of the cluster labels\n",
    "    comparison_names: names of the groups in comparison\n",
    "    top: top n comparison to show in the boxplot since it could be misleadingly small if we include all jaccard scores\n",
    "    # we're only interested in the modules that have majority of the matching nodes between 2 networks\n",
    "    '''\n",
    "    c1_list = []\n",
    "    c2_list = []\n",
    "    j_list = []\n",
    "    for c1 in cluster_df1[cluster_column].unique():\n",
    "        for c2 in cluster_df2[cluster_column].unique():\n",
    "            sub1 = cluster_df1[cluster_df1[cluster_column] == c1].index\n",
    "            sub2 = cluster_df2[cluster_df2[cluster_column] == c2].index\n",
    "            c1_list.append(c1)\n",
    "            c2_list.append(c2)\n",
    "            j_list.append(jaccard_similarity(sub1, sub2))\n",
    "            \n",
    "    jac_df = pd.DataFrame({'community1':c1_list, 'community2':c2_list, 'jaccard':j_list})\n",
    "    jac_df = jac_df.pivot(index = 'community1', columns = 'community2', values = 'jaccard')\n",
    "    sns.set(font_scale=1.2)\n",
    "    sns.set_style('white')\n",
    "\n",
    "    fig = plt.figure(figsize = (8, 5))\n",
    "    gs = gridspec.GridSpec(1,2, width_ratios = [3,1]) # set the subplot width ratio\n",
    "    ax0 = plt.subplot(gs[0])\n",
    "    # plot heatmap for pairwise jaccard comparison\n",
    "    sns.heatmap(jac_df, cmap = 'Reds', xticklabels=True, yticklabels=True)\n",
    "    plt.xlabel(comparison_names[1])\n",
    "    plt.ylabel(comparison_names[0])\n",
    "    plt.title('Jaccard pairwise module comparison')\n",
    "    plt.xticks(rotation=0)\n",
    "    ax1 = plt.subplot(gs[1])\n",
    "    # boxplot of jaccard distribution\n",
    "    all_jac_values = jac_df.values.flatten()\n",
    "    if top != None:\n",
    "        sorted_jac_values = sorted(all_jac_values, reverse = True)\n",
    "        sns.boxplot(x= None, y = sorted_jac_values[:top])\n",
    "    else:\n",
    "        sns.boxplot(x= None, y = all_jac_values)\n",
    "    plt.ylim(0,1)\n",
    "    plt.title('Jaccard distribution')\n",
    "    plt.suptitle(f'{comparison_names[0]} vs {comparison_names[1]}')"
   ]
  },
  {
   "cell_type": "code",
   "execution_count": 58,
   "metadata": {},
   "outputs": [],
   "source": [
    "import os\n",
    "os.chdir(r'C:\\Users\\bbche\\Documents\\GitRepos\\assist\\data')\n",
    "subset_kmeans = []\n",
    "for file in ['embedded_cutoff0.3_len16_walk100.csv', 'embedded_cutoff0.35_len16_walk100.csv']:\n",
    "    emb = pd.read_csv(file, index_col = 0)\n",
    "    subset_kmeans.append(run_kmeans(emb, 5))"
   ]
  },
  {
   "cell_type": "code",
   "execution_count": 78,
   "metadata": {},
   "outputs": [
    {
     "data": {
      "image/png": "[encoded data removed]",
      "text/plain": [
       "<Figure size 576x360 with 3 Axes>"
      ]
     },
     "metadata": {},
     "output_type": "display_data"
    }
   ],
   "source": [
    "cluster_jaccard(subset_kmeans[0], subset_kmeans[1], 'kmean_label', ['weight = 0.3','weight = 0.35'], top = 3)"
   ]
  },
  {
   "cell_type": "code",
   "execution_count": null,
   "metadata": {},
   "outputs": [],
   "source": []
  },
  {
   "cell_type": "markdown",
   "metadata": {},
   "source": [
    "# Evaluations on community detection on the network "
   ]
  },
  {
   "cell_type": "markdown",
   "metadata": {},
   "source": [
    "## Evaluation 1: correlation between phenotypes and network modules"
   ]
  },
  {
   "cell_type": "code",
   "execution_count": 2,
   "metadata": {},
   "outputs": [],
   "source": [
    "meta = pd.read_csv(r'G:\\Shared drives\\NIAAA_ASSIST\\Data\\kapoor2019_coga.inia.detailed.pheno.04.12.17.csv')"
   ]
  },
  {
   "cell_type": "code",
   "execution_count": 3,
   "metadata": {},
   "outputs": [],
   "source": [
    "expression = pd.read_csv(r'G:\\Shared drives\\NIAAA_ASSIST\\Data\\kapoor2019_batch.age.rin.sex.pm.alc.corrected.coga.inia.expression.txt', sep = '\\t')"
   ]
  },
  {
   "cell_type": "code",
   "execution_count": 5,
   "metadata": {},
   "outputs": [],
   "source": [
    "tom_df = pd.read_csv(r'G:\\Shared drives\\NIAAA_ASSIST\\Data\\Kapoor_TOM.csv', index_col = 0) "
   ]
  },
  {
   "cell_type": "code",
   "execution_count": 6,
   "metadata": {},
   "outputs": [],
   "source": [
    "expression = expression[expression.id.isin(tom_df.index)]"
   ]
  },
  {
   "cell_type": "code",
   "execution_count": 7,
   "metadata": {},
   "outputs": [],
   "source": [
    "expression_t = expression.T\n",
    "expression_t.columns = expression_t.iloc[0,:]\n",
    "expression_t.drop('id', inplace=True)"
   ]
  },
  {
   "cell_type": "code",
   "execution_count": 8,
   "metadata": {},
   "outputs": [],
   "source": [
    "expression_meta = pd.merge(expression_t, meta, left_index = True, right_on = 'IID')"
   ]
  },
  {
   "cell_type": "markdown",
   "metadata": {},
   "source": [
    "## Evaluation 1a: Find variable genes between phenotype groups. Use Alc_status as the control since it was used to calculate DE."
   ]
  },
  {
   "cell_type": "markdown",
   "metadata": {},
   "source": [
    "#### Use t-test to compare between the alcoholic group and the control group. It only works when they're two groups. For multiple groups or groups with continuous values (such as AUDIT), we need other methods to get those \"variable genes\". I haven't figured out the method yet. "
   ]
  },
  {
   "cell_type": "code",
   "execution_count": 15,
   "metadata": {},
   "outputs": [],
   "source": [
    "variable_genes = []\n",
    "for col in expression_meta.columns[:19911]:\n",
    "    ttest = ttest_ind(expression_meta[expression_meta.Alc_status == 'Alcoholic'][col], expression_meta[expression_meta.Alc_status == 'Control'][col])\n",
    "    if ttest[1] < 0.5:\n",
    "        variable_genes.append(col)"
   ]
  },
  {
   "cell_type": "code",
   "execution_count": 17,
   "metadata": {},
   "outputs": [],
   "source": [
    "# collect up genes if the mean is higher in alcoholic than control\n",
    "up_genes = []\n",
    "for gene in variable_genes:\n",
    "    alc = expression_meta[expression_meta.Alc_status == 'Alcoholic'][gene]\n",
    "    control = expression_meta[expression_meta.Alc_status == 'Control'][gene]\n",
    "    if np.mean(alc) > np.mean(control):\n",
    "        up_genes.append(gene)"
   ]
  },
  {
   "cell_type": "code",
   "execution_count": 18,
   "metadata": {},
   "outputs": [],
   "source": [
    "down_genes = []\n",
    "for gene in variable_genes:\n",
    "    alc = expression_meta[expression_meta.Alc_status == 'Alcoholic'][gene]\n",
    "    control = expression_meta[expression_meta.Alc_status == 'Control'][gene]\n",
    "    if np.mean(alc) < np.mean(control):\n",
    "        down_genes.append(gene)"
   ]
  },
  {
   "cell_type": "code",
   "execution_count": 12,
   "metadata": {},
   "outputs": [],
   "source": [
    "deseq = pd.read_excel(r'G:\\Shared drives\\NIAAA_ASSIST\\Data\\deseq.alc.vs.control.age.rin.batch.gender.PMI.corrected.w.prot.coding.gene.name.xlsx')"
   ]
  },
  {
   "cell_type": "code",
   "execution_count": 11,
   "metadata": {},
   "outputs": [],
   "source": [
    "community_df = pd.read_csv(r'G:\\Shared drives\\NIAAA_ASSIST\\Data\\network_louvain_default.csv')"
   ]
  },
  {
   "cell_type": "markdown",
   "metadata": {},
   "source": [
    "### Use NMI to determine how well the network community labels correlate with the alcohol phenotypes. The idea is up_genes belong to 1 cluster and down_genes belong to another cluster. "
   ]
  },
  {
   "cell_type": "code",
   "execution_count": 13,
   "metadata": {},
   "outputs": [],
   "source": [
    "def nmi_features_genes_n_community(gene_sets, community = community_df):\n",
    "    community_id = []\n",
    "    gene_set_id = []\n",
    "    for i, g_set in enumerate(gene_sets):\n",
    "        community_id += community_df[community_df['id'].isin(g_set)]['louvain_label'].tolist()\n",
    "        gene_set_id += [i]*len(g_set)\n",
    "    return nmi(community_id, gene_set_id)"
   ]
  },
  {
   "cell_type": "code",
   "execution_count": 33,
   "metadata": {},
   "outputs": [],
   "source": [
    "# up_genes and down_genes each as a cluster \n",
    "nmi_both = nmi_features_genes_n_community([up_genes, down_genes])"
   ]
  },
  {
   "cell_type": "code",
   "execution_count": 34,
   "metadata": {},
   "outputs": [],
   "source": [
    "# up_genes as a cluster only\n",
    "nmi_up = nmi_features_genes_n_community([up_genes])"
   ]
  },
  {
   "cell_type": "code",
   "execution_count": 35,
   "metadata": {},
   "outputs": [],
   "source": [
    "# down_genes as a cluster only\n",
    "nmi_down = nmi_features_genes_n_community([down_genes])"
   ]
  },
  {
   "cell_type": "code",
   "execution_count": 38,
   "metadata": {},
   "outputs": [
    {
     "data": {
      "image/png": "[encoded data removed]",
      "text/plain": [
       "<Figure size 432x288 with 1 Axes>"
      ]
     },
     "metadata": {
      "needs_background": "light"
     },
     "output_type": "display_data"
    }
   ],
   "source": [
    "plt.scatter(['both','up', 'down'], [nmi_both, nmi_up, nmi_down])\n",
    "plt.xlabel('cluster type')\n",
    "plt.ylabel('NMI')\n",
    "plt.title('NMI between community and DE');"
   ]
  },
  {
   "cell_type": "markdown",
   "metadata": {},
   "source": [
    "## Evaluation 1b: Measure percentage of genes in a module that are significantly variable for specific traits"
   ]
  },
  {
   "cell_type": "markdown",
   "metadata": {},
   "source": [
    "### What percentage of genes are significantly different between AUDIT groups as determined by ANOVA?"
   ]
  },
  {
   "cell_type": "code",
   "execution_count": 22,
   "metadata": {},
   "outputs": [],
   "source": [
    "expression_meta['audit_category'] = 0\n",
    "expression_meta.loc[expression_meta['AUDIT'] < 25, 'audit_category'] = 'under 25'\n",
    "expression_meta.loc[expression_meta['AUDIT'].between(25, 50), 'audit_category'] = '25-50'\n",
    "expression_meta.loc[expression_meta['AUDIT'].between(50, 100), 'audit_category'] = '50-100'\n",
    "expression_meta.loc[expression_meta['AUDIT']> 100, 'audit_category'] = 'above 100'\n",
    "# remove rows without AUDIT labels\n",
    "audit_subset = expression_meta[expression_meta.audit_category != 0]"
   ]
  },
  {
   "cell_type": "code",
   "execution_count": 23,
   "metadata": {},
   "outputs": [],
   "source": [
    "def get_module_sig_gene_perc(expression_meta_df, community_df, module, trait):\n",
    "    '''\n",
    "    A function to get the percentage of genes in a module that are significantly variable by trait\n",
    "    '''\n",
    "    module_genes = community_df[community_df.louvain_label == module]['id'].tolist()\n",
    "    module_expression = expression_meta_df[module_genes].apply(pd.to_numeric)\n",
    "    \n",
    "    module_expression= module_expression.assign(trait = expression_meta_df[f'{trait}'])\n",
    "\n",
    "    # collect genes from the module with p < 0.05 based on 1-way ANOVA\n",
    "    anova_sig_genes = []\n",
    "    trait_category = module_expression['trait'].unique()\n",
    "    for gene in module_genes:\n",
    "        if f_oneway(*(module_expression[module_expression['trait'] == category][gene] for category in trait_category))[1] < 0.05: # if p-value < 0.05, add the gene to list\n",
    "            anova_sig_genes.append(gene)\n",
    "    return round(100* len(anova_sig_genes)/len(module_genes), 2) # return the % of genes found significant by ANOVA"
   ]
  },
  {
   "cell_type": "code",
   "execution_count": 29,
   "metadata": {},
   "outputs": [],
   "source": [
    "sig_gene_perc = []\n",
    "for i in range(10):  \n",
    "    sig_gene_perc.append(get_module_sig_gene_perc(audit_subset, community_df, i, 'audit_category'))"
   ]
  },
  {
   "cell_type": "code",
   "execution_count": 32,
   "metadata": {},
   "outputs": [
    {
     "data": {
      "image/png": "[encoded data removed]",
      "text/plain": [
       "<Figure size 432x288 with 1 Axes>"
      ]
     },
     "metadata": {
      "needs_background": "light"
     },
     "output_type": "display_data"
    }
   ],
   "source": [
    "plt.scatter(range(10), sig_gene_perc)\n",
    "plt.xlabel('community label')\n",
    "plt.ylabel('% significant genes')\n",
    "plt.title('% significant genes by community');"
   ]
  }
 ],
 "metadata": {
  "kernelspec": {
   "display_name": "Python 3",
   "language": "python",
   "name": "python3"
  },
  "language_info": {
   "codemirror_mode": {
    "name": "ipython",
    "version": 3
   },
   "file_extension": ".py",
   "mimetype": "text/x-python",
   "name": "python",
   "nbconvert_exporter": "python",
   "pygments_lexer": "ipython3",
   "version": "3.8.3"
  }
 },
 "nbformat": 4,
 "nbformat_minor": 4
}
