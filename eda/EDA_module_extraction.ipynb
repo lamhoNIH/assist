{
 "cells": [
  {
   "cell_type": "markdown",
   "metadata": {},
   "source": [
    "# This notebook is to evaluate quality of module extraction"
   ]
  },
  {
   "cell_type": "code",
   "execution_count": 1,
   "metadata": {},
   "outputs": [],
   "source": [
    "import pandas as pd\n",
    "import numpy as np\n",
    "import seaborn as sns\n",
    "import networkx as nx\n",
    "import community\n",
    "from itertools import combinations\n",
    "from scipy.stats import ttest_ind\n",
    "from sknetwork.clustering import Louvain\n",
    "from sklearn.metrics import normalized_mutual_info_score as nmi\n",
    "from scipy.stats import f_oneway\n",
    "import matplotlib.pyplot as plt\n",
    "%matplotlib inline"
   ]
  },
  {
   "cell_type": "markdown",
   "metadata": {},
   "source": [
    "# Evaluations on network embedding: skip for now"
   ]
  },
  {
   "cell_type": "markdown",
   "metadata": {},
   "source": [
    "# Evaluations on community detection on the network "
   ]
  },
  {
   "cell_type": "markdown",
   "metadata": {},
   "source": [
    "## Evaluation 1: correlation between phenotypes and network modules"
   ]
  },
  {
   "cell_type": "code",
   "execution_count": 2,
   "metadata": {},
   "outputs": [],
   "source": [
    "meta = pd.read_csv(r'G:\\Shared drives\\NIAAA_ASSIST\\Data\\kapoor2019_coga.inia.detailed.pheno.04.12.17.csv')"
   ]
  },
  {
   "cell_type": "code",
   "execution_count": 3,
   "metadata": {},
   "outputs": [],
   "source": [
    "expression = pd.read_csv(r'G:\\Shared drives\\NIAAA_ASSIST\\Data\\kapoor2019_batch.age.rin.sex.pm.alc.corrected.coga.inia.expression.txt', sep = '\\t')"
   ]
  },
  {
   "cell_type": "code",
   "execution_count": 5,
   "metadata": {},
   "outputs": [],
   "source": [
    "tom_df = pd.read_csv(r'G:\\Shared drives\\NIAAA_ASSIST\\Data\\Kapoor_TOM.csv', index_col = 0) "
   ]
  },
  {
   "cell_type": "code",
   "execution_count": 6,
   "metadata": {},
   "outputs": [],
   "source": [
    "expression = expression[expression.id.isin(tom_df.index)]"
   ]
  },
  {
   "cell_type": "code",
   "execution_count": 7,
   "metadata": {},
   "outputs": [],
   "source": [
    "expression_t = expression.T\n",
    "expression_t.columns = expression_t.iloc[0,:]\n",
    "expression_t.drop('id', inplace=True)"
   ]
  },
  {
   "cell_type": "code",
   "execution_count": 8,
   "metadata": {},
   "outputs": [],
   "source": [
    "expression_meta = pd.merge(expression_t, meta, left_index = True, right_on = 'IID')"
   ]
  },
  {
   "cell_type": "markdown",
   "metadata": {},
   "source": [
    "## Evaluation 1a: Find variable genes between phenotype groups. Use Alc_status as the control since it was used to calculate DE."
   ]
  },
  {
   "cell_type": "markdown",
   "metadata": {},
   "source": [
    "#### Use t-test to compare between the alcoholic group and the control group. It only works when they're two groups. For multiple groups or groups with continuous values (such as AUDIT), we need other methods to get those \"variable genes\". I haven't figured out the method yet. "
   ]
  },
  {
   "cell_type": "code",
   "execution_count": 15,
   "metadata": {},
   "outputs": [],
   "source": [
    "variable_genes = []\n",
    "for col in expression_meta.columns[:19911]:\n",
    "    ttest = ttest_ind(expression_meta[expression_meta.Alc_status == 'Alcoholic'][col], expression_meta[expression_meta.Alc_status == 'Control'][col])\n",
    "    if ttest[1] < 0.5:\n",
    "        variable_genes.append(col)"
   ]
  },
  {
   "cell_type": "code",
   "execution_count": 17,
   "metadata": {},
   "outputs": [],
   "source": [
    "# collect up genes if the mean is higher in alcoholic than control\n",
    "up_genes = []\n",
    "for gene in variable_genes:\n",
    "    alc = expression_meta[expression_meta.Alc_status == 'Alcoholic'][gene]\n",
    "    control = expression_meta[expression_meta.Alc_status == 'Control'][gene]\n",
    "    if np.mean(alc) > np.mean(control):\n",
    "        up_genes.append(gene)"
   ]
  },
  {
   "cell_type": "code",
   "execution_count": 18,
   "metadata": {},
   "outputs": [],
   "source": [
    "down_genes = []\n",
    "for gene in variable_genes:\n",
    "    alc = expression_meta[expression_meta.Alc_status == 'Alcoholic'][gene]\n",
    "    control = expression_meta[expression_meta.Alc_status == 'Control'][gene]\n",
    "    if np.mean(alc) < np.mean(control):\n",
    "        down_genes.append(gene)"
   ]
  },
  {
   "cell_type": "code",
   "execution_count": 12,
   "metadata": {},
   "outputs": [],
   "source": [
    "deseq = pd.read_excel(r'G:\\Shared drives\\NIAAA_ASSIST\\Data\\deseq.alc.vs.control.age.rin.batch.gender.PMI.corrected.w.prot.coding.gene.name.xlsx')"
   ]
  },
  {
   "cell_type": "code",
   "execution_count": 11,
   "metadata": {},
   "outputs": [],
   "source": [
    "community_df = pd.read_csv(r'G:\\Shared drives\\NIAAA_ASSIST\\Data\\network_louvain_default.csv')"
   ]
  },
  {
   "cell_type": "markdown",
   "metadata": {},
   "source": [
    "### Use NMI to determine how well the network community labels correlate with the alcohol phenotypes. The idea is up_genes belong to 1 cluster and down_genes belong to another cluster. "
   ]
  },
  {
   "cell_type": "code",
   "execution_count": 13,
   "metadata": {},
   "outputs": [],
   "source": [
    "def nmi_features_genes_n_community(gene_sets, community = community_df):\n",
    "    community_id = []\n",
    "    gene_set_id = []\n",
    "    for i, g_set in enumerate(gene_sets):\n",
    "        community_id += community_df[community_df['id'].isin(g_set)]['louvain_label'].tolist()\n",
    "        gene_set_id += [i]*len(g_set)\n",
    "    return nmi(community_id, gene_set_id)"
   ]
  },
  {
   "cell_type": "code",
   "execution_count": 33,
   "metadata": {},
   "outputs": [],
   "source": [
    "# up_genes and down_genes each as a cluster \n",
    "nmi_both = nmi_features_genes_n_community([up_genes, down_genes])"
   ]
  },
  {
   "cell_type": "code",
   "execution_count": 34,
   "metadata": {},
   "outputs": [],
   "source": [
    "# up_genes as a cluster only\n",
    "nmi_up = nmi_features_genes_n_community([up_genes])"
   ]
  },
  {
   "cell_type": "code",
   "execution_count": 35,
   "metadata": {},
   "outputs": [],
   "source": [
    "# down_genes as a cluster only\n",
    "nmi_down = nmi_features_genes_n_community([down_genes])"
   ]
  },
  {
   "cell_type": "code",
   "execution_count": 38,
   "metadata": {},
   "outputs": [
    {
     "data": {
      "image/png": "[encoded data removed]",
      "text/plain": [
       "<Figure size 432x288 with 1 Axes>"
      ]
     },
     "metadata": {
      "needs_background": "light"
     },
     "output_type": "display_data"
    }
   ],
   "source": [
    "plt.scatter(['both','up', 'down'], [nmi_both, nmi_up, nmi_down])\n",
    "plt.xlabel('cluster type')\n",
    "plt.ylabel('NMI')\n",
    "plt.title('NMI between community and DE');"
   ]
  },
  {
   "cell_type": "markdown",
   "metadata": {},
   "source": [
    "## Evaluation 1b: Measure percentage of genes in a module that are significantly variable for specific traits"
   ]
  },
  {
   "cell_type": "markdown",
   "metadata": {},
   "source": [
    "### What percentage of genes are significantly different between AUDIT groups as determined by ANOVA?"
   ]
  },
  {
   "cell_type": "code",
   "execution_count": 22,
   "metadata": {},
   "outputs": [],
   "source": [
    "expression_meta['audit_category'] = 0\n",
    "expression_meta.loc[expression_meta['AUDIT'] < 25, 'audit_category'] = 'under 25'\n",
    "expression_meta.loc[expression_meta['AUDIT'].between(25, 50), 'audit_category'] = '25-50'\n",
    "expression_meta.loc[expression_meta['AUDIT'].between(50, 100), 'audit_category'] = '50-100'\n",
    "expression_meta.loc[expression_meta['AUDIT']> 100, 'audit_category'] = 'above 100'\n",
    "# remove rows without AUDIT labels\n",
    "audit_subset = expression_meta[expression_meta.audit_category != 0]"
   ]
  },
  {
   "cell_type": "code",
   "execution_count": 23,
   "metadata": {},
   "outputs": [],
   "source": [
    "def get_module_sig_gene_perc(expression_meta_df, community_df, module, trait):\n",
    "    '''\n",
    "    A function to get the percentage of genes in a module that are significantly variable by trait\n",
    "    '''\n",
    "    module_genes = community_df[community_df.louvain_label == module]['id'].tolist()\n",
    "    module_expression = expression_meta_df[module_genes].apply(pd.to_numeric)\n",
    "    \n",
    "    module_expression= module_expression.assign(trait = expression_meta_df[f'{trait}'])\n",
    "\n",
    "    # collect genes from the module with p < 0.05 based on 1-way ANOVA\n",
    "    anova_sig_genes = []\n",
    "    trait_category = module_expression['trait'].unique()\n",
    "    for gene in module_genes:\n",
    "        if f_oneway(*(module_expression[module_expression['trait'] == category][gene] for category in trait_category))[1] < 0.05: # if p-value < 0.05, add the gene to list\n",
    "            anova_sig_genes.append(gene)\n",
    "    return round(100* len(anova_sig_genes)/len(module_genes), 2) # return the % of genes found significant by ANOVA"
   ]
  },
  {
   "cell_type": "code",
   "execution_count": 29,
   "metadata": {},
   "outputs": [],
   "source": [
    "sig_gene_perc = []\n",
    "for i in range(10):  \n",
    "    sig_gene_perc.append(get_module_sig_gene_perc(audit_subset, community_df, i, 'audit_category'))"
   ]
  },
  {
   "cell_type": "code",
   "execution_count": 32,
   "metadata": {},
   "outputs": [
    {
     "data": {
      "image/png": "[encoded data removed]",
      "text/plain": [
       "<Figure size 432x288 with 1 Axes>"
      ]
     },
     "metadata": {
      "needs_background": "light"
     },
     "output_type": "display_data"
    }
   ],
   "source": [
    "plt.scatter(range(10), sig_gene_perc)\n",
    "plt.xlabel('community label')\n",
    "plt.ylabel('% significant genes')\n",
    "plt.title('% significant genes by community');"
   ]
  }
 ],
 "metadata": {
  "kernelspec": {
   "display_name": "Python 3",
   "language": "python",
   "name": "python3"
  },
  "language_info": {
   "codemirror_mode": {
    "name": "ipython",
    "version": 3
   },
   "file_extension": ".py",
   "mimetype": "text/x-python",
   "name": "python",
   "nbconvert_exporter": "python",
   "pygments_lexer": "ipython3",
   "version": "3.8.3"
  }
 },
 "nbformat": 4,
 "nbformat_minor": 4
}
