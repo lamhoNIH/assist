{
 "cells": [
  {
   "cell_type": "markdown",
   "id": "color-encoding",
   "metadata": {},
   "source": [
    "# This notebook has 2 tasks\n",
    "## 1. Analyze the IPA results\n",
    "## 2. Determine overlap between rat AUD genes and our critical genes"
   ]
  },
  {
   "cell_type": "code",
   "execution_count": 1,
   "id": "junior-diversity",
   "metadata": {},
   "outputs": [],
   "source": [
    "import sys\n",
    "sys.path.append(\"../..\")\n",
    "import pandas as pd\n",
    "import numpy as np\n",
    "import seaborn as sns\n",
    "from sys import platform \n",
    "prefix = 'G:' if platform == 'win32' else '/Volumes/GoogleDrive'\n",
    "import matplotlib.pyplot as plt\n",
    "%matplotlib inline\n",
    "%load_ext autoreload\n",
    "%autoreload 2"
   ]
  },
  {
   "cell_type": "code",
   "execution_count": 2,
   "id": "incoming-springer",
   "metadata": {},
   "outputs": [],
   "source": [
    "deseq = pd.read_excel(prefix +'/Shared drives/NIAAA_ASSIST/Data/deseq.alc.vs.control.age.rin.batch.gender.PMI.corrected.w.prot.coding.gene.name.xlsx')"
   ]
  },
  {
   "cell_type": "code",
   "execution_count": 9,
   "id": "removable-burns",
   "metadata": {},
   "outputs": [],
   "source": [
    "cg_regulators = pd.read_csv(prefix + 'Shared drives/NIAAA_ASSIST/Data/IPA analysis/critical_genes_outputs_upstream_regulators.csv', index_col = 0, encoding = \"ISO-8859-1\")"
   ]
  },
  {
   "cell_type": "code",
   "execution_count": 21,
   "id": "bibliographic-permission",
   "metadata": {},
   "outputs": [],
   "source": [
    "neigh_regulators = pd.read_csv(prefix + 'Shared drives/NIAAA_ASSIST/Data/IPA analysis/neighbouring_genes_outputs_upstream_regulators.csv', index_col = 0, encoding = \"ISO-8859-1\")"
   ]
  },
  {
   "cell_type": "markdown",
   "id": "built-alarm",
   "metadata": {},
   "source": [
    "# First test: hypergeometric test to determine the probability of getting ~30 overlapping genes between the DEG regulators and critical genes/neighbor genes"
   ]
  },
  {
   "cell_type": "code",
   "execution_count": 26,
   "id": "insured-zimbabwe",
   "metadata": {},
   "outputs": [],
   "source": [
    "from scipy.stats import hypergeom"
   ]
  },
  {
   "cell_type": "code",
   "execution_count": 15,
   "id": "competitive-samba",
   "metadata": {},
   "outputs": [],
   "source": [
    "deg_regulators = pd.read_csv(prefix + '/Shared drives/NIAAA_ASSIST/Data/IPA analysis/deseq_upstream_regulators_unfiltered.csv')\n",
    "deg_regulators_sig = deg_regulators[deg_regulators['p-value of overlap'] < 0.05]['Upstream Regulator']"
   ]
  },
  {
   "cell_type": "code",
   "execution_count": 16,
   "id": "hybrid-pencil",
   "metadata": {},
   "outputs": [
    {
     "data": {
      "text/plain": [
       "660"
      ]
     },
     "execution_count": 16,
     "metadata": {},
     "output_type": "execute_result"
    }
   ],
   "source": [
    "len(deg_regulators_sig)"
   ]
  },
  {
   "cell_type": "code",
   "execution_count": 158,
   "id": "lesbian-consequence",
   "metadata": {},
   "outputs": [],
   "source": [
    "[M,n,N] = [19911, 660, 829]"
   ]
  },
  {
   "cell_type": "code",
   "execution_count": 159,
   "id": "illegal-zealand",
   "metadata": {},
   "outputs": [],
   "source": [
    "rv = hypergeom(M, n, N)"
   ]
  },
  {
   "cell_type": "code",
   "execution_count": 175,
   "id": "adult-sussex",
   "metadata": {},
   "outputs": [
    {
     "name": "stdout",
     "output_type": "stream",
     "text": [
      "probability of getting 33 genes overlap\n"
     ]
    },
    {
     "data": {
      "text/plain": [
       "0.041224166911110575"
      ]
     },
     "execution_count": 175,
     "metadata": {},
     "output_type": "execute_result"
    }
   ],
   "source": [
    "print('probability of getting 33 genes overlap')\n",
    "rv.pmf(33)"
   ]
  },
  {
   "cell_type": "markdown",
   "id": "level-ambassador",
   "metadata": {},
   "source": [
    "# Second test: bootstrapping to determine the probability of getting 30 overlapping genes"
   ]
  },
  {
   "cell_type": "code",
   "execution_count": 3,
   "id": "higher-performer",
   "metadata": {},
   "outputs": [],
   "source": [
    "import mygene"
   ]
  },
  {
   "cell_type": "code",
   "execution_count": 4,
   "id": "conventional-parent",
   "metadata": {},
   "outputs": [],
   "source": [
    "network_IDs = pd.read_csv(prefix + '/Shared drives/NIAAA_ASSIST/Data/eda_derived/network_IDs.csv', index_col = 0)"
   ]
  },
  {
   "cell_type": "code",
   "execution_count": 5,
   "id": "exempt-confusion",
   "metadata": {},
   "outputs": [
    {
     "data": {
      "text/plain": [
       "19911"
      ]
     },
     "execution_count": 5,
     "metadata": {},
     "output_type": "execute_result"
    }
   ],
   "source": [
    "len(network_IDs)"
   ]
  },
  {
   "cell_type": "code",
   "execution_count": 6,
   "id": "other-column",
   "metadata": {
    "collapsed": true,
    "jupyter": {
     "outputs_hidden": true
    }
   },
   "outputs": [
    {
     "name": "stdout",
     "output_type": "stream",
     "text": [
      "querying 1-1000...done.\n",
      "querying 1001-2000...done.\n",
      "querying 2001-3000...done.\n",
      "querying 3001-4000...done.\n",
      "querying 4001-5000...done.\n",
      "querying 5001-6000...done.\n",
      "querying 6001-7000...done.\n",
      "querying 7001-8000...done.\n",
      "querying 8001-9000...done.\n",
      "querying 9001-10000...done.\n",
      "querying 10001-11000...done.\n",
      "querying 11001-12000...done.\n",
      "querying 12001-13000...done.\n",
      "querying 13001-14000...done.\n",
      "querying 14001-15000...done.\n",
      "querying 15001-16000...done.\n",
      "querying 16001-17000...done.\n",
      "querying 17001-18000...done.\n",
      "querying 18001-19000...done.\n",
      "querying 19001-19911...done.\n",
      "Finished.\n",
      "1 input query terms found dup hits:\n",
      "\t[('ENSG00000229425', 2)]\n",
      "687 input query terms found no hit:\n",
      "\t['ENSG00000237683', 'ENSG00000269227', 'ENSG00000271895', 'ENSG00000204377', 'ENSG00000271840', 'ENS\n",
      "Pass \"returnall=True\" to return complete lists of duplicate or missing query terms.\n"
     ]
    }
   ],
   "source": [
    "# use mygene to convert ensemble IDs to gene symbols\n",
    "mg = mygene.MyGeneInfo()\n",
    "query_data = mg.querymany(list(network_IDs['0']) , scopes='ensembl.gene', fields='symbol', species='human')"
   ]
  },
  {
   "cell_type": "code",
   "execution_count": 32,
   "id": "smooth-accreditation",
   "metadata": {
    "collapsed": true,
    "jupyter": {
     "outputs_hidden": true
    }
   },
   "outputs": [
    {
     "name": "stdout",
     "output_type": "stream",
     "text": [
      "ENSG00000237683\n",
      "ENSG00000269227\n",
      "ENSG00000271895\n",
      "ENSG00000204377\n",
      "ENSG00000271840\n",
      "ENSG00000272796\n",
      "ENSG00000226852\n",
      "ENSG00000212673\n",
      "ENSG00000116883\n",
      "ENSG00000255103\n",
      "ENSG00000182109\n",
      "ENSG00000236624\n",
      "ENSG00000227839\n",
      "ENSG00000271782\n",
      "ENSG00000270172\n",
      "ENSG00000272091\n",
      "ENSG00000212670\n",
      "ENSG00000248835\n",
      "ENSG00000270742\n",
      "ENSG00000269624\n",
      "ENSG00000069712\n",
      "ENSG00000235565\n",
      "ENSG00000269998\n",
      "ENSG00000261254\n",
      "ENSG00000238975\n",
      "ENSG00000236066\n",
      "ENSG00000273131\n",
      "ENSG00000269996\n",
      "ENSG00000230255\n",
      "ENSG00000234978\n",
      "ENSG00000232745\n",
      "ENSG00000232274\n",
      "ENSG00000230850\n",
      "ENSG00000225278\n",
      "ENSG00000185044\n",
      "ENSG00000236943\n",
      "ENSG00000225241\n",
      "ENSG00000168614\n",
      "ENSG00000268172\n",
      "ENSG00000223380\n",
      "ENSG00000213240\n",
      "ENSG00000163386\n",
      "ENSG00000117289\n",
      "ENSG00000181039\n",
      "ENSG00000152022\n",
      "ENSG00000131795\n",
      "ENSG00000121848\n",
      "ENSG00000152042\n",
      "ENSG00000232637\n",
      "ENSG00000239475\n",
      "ENSG00000186275\n",
      "ENSG00000271721\n",
      "ENSG00000143140\n",
      "ENSG00000226335\n",
      "ENSG00000122497\n",
      "ENSG00000203832\n",
      "ENSG00000243452\n",
      "ENSG00000203827\n",
      "ENSG00000235999\n",
      "ENSG00000269501\n",
      "ENSG00000239903\n",
      "ENSG00000163113\n",
      "ENSG00000187145\n",
      "ENSG00000260766\n",
      "ENSG00000235477\n",
      "ENSG00000237096\n",
      "ENSG00000239373\n",
      "ENSG00000260938\n",
      "ENSG00000135847\n",
      "ENSG00000272198\n",
      "ENSG00000261185\n",
      "ENSG00000262180\n",
      "ENSG00000272579\n",
      "ENSG00000269690\n",
      "ENSG00000229874\n",
      "ENSG00000163486\n",
      "ENSG00000143466\n",
      "ENSG00000136653\n",
      "ENSG00000229841\n",
      "ENSG00000228106\n",
      "ENSG00000232372\n",
      "ENSG00000203691\n",
      "ENSG00000203257\n",
      "ENSG00000234453\n",
      "ENSG00000234086\n",
      "ENSG00000116957\n",
      "ENSG00000225554\n",
      "ENSG00000188206\n",
      "ENSG00000196936\n",
      "ENSG00000232694\n",
      "ENSG00000242357\n",
      "ENSG00000272992\n",
      "ENSG00000268549\n",
      "ENSG00000152487\n",
      "ENSG00000204683\n",
      "ENSG00000232224\n",
      "ENSG00000236983\n",
      "ENSG00000196960\n",
      "ENSG00000150076\n",
      "ENSG00000273038\n",
      "ENSG00000225119\n",
      "ENSG00000272373\n",
      "ENSG00000223477\n",
      "ENSG00000152726\n",
      "ENSG00000165388\n",
      "ENSG00000107618\n",
      "ENSG00000107623\n",
      "ENSG00000183675\n",
      "ENSG00000204164\n",
      "ENSG00000227781\n",
      "ENSG00000179296\n",
      "ENSG00000243899\n",
      "ENSG00000126542\n",
      "ENSG00000174194\n",
      "ENSG00000225784\n",
      "ENSG00000138293\n",
      "ENSG00000138297\n",
      "ENSG00000214982\n",
      "ENSG00000269165\n",
      "ENSG00000269700\n",
      "ENSG00000267957\n",
      "ENSG00000269772\n",
      "ENSG00000227136\n",
      "ENSG00000226381\n",
      "ENSG00000271738\n",
      "ENSG00000221378\n",
      "ENSG00000173088\n",
      "ENSG00000269948\n",
      "ENSG00000155640\n",
      "ENSG00000231025\n",
      "ENSG00000269783\n",
      "ENSG00000225302\n",
      "ENSG00000270235\n",
      "ENSG00000177236\n",
      "ENSG00000250404\n",
      "ENSG00000152268\n",
      "ENSG00000203504\n",
      "ENSG00000261355\n",
      "ENSG00000196559\n",
      "ENSG00000252447\n",
      "ENSG00000269290\n",
      "ENSG00000269990\n",
      "ENSG00000258297\n",
      "ENSG00000259799\n",
      "ENSG00000272301\n",
      "ENSG00000271757\n",
      "ENSG00000180771\n",
      "ENSG00000271885\n",
      "ENSG00000256885\n",
      "ENSG00000170647\n",
      "ENSG00000231611\n",
      "ENSG00000231865\n",
      "ENSG00000255090\n",
      "ENSG00000263906\n",
      "ENSG00000238693\n",
      "ENSG00000238504\n",
      "ENSG00000264919\n",
      "ENSG00000255864\n",
      "ENSG00000268865\n",
      "ENSG00000257742\n",
      "ENSG00000269282\n",
      "ENSG00000201678\n",
      "ENSG00000268367\n",
      "ENSG00000257499\n",
      "ENSG00000252883\n",
      "ENSG00000256248\n",
      "ENSG00000251695\n",
      "ENSG00000257613\n",
      "ENSG00000268721\n",
      "ENSG00000231121\n",
      "ENSG00000266347\n",
      "ENSG00000221625\n",
      "ENSG00000260987\n",
      "ENSG00000257877\n",
      "ENSG00000270018\n",
      "ENSG00000171471\n",
      "ENSG00000256031\n",
      "ENSG00000261827\n",
      "ENSG00000182500\n",
      "ENSG00000256304\n",
      "ENSG00000235423\n",
      "ENSG00000270028\n",
      "ENSG00000269923\n",
      "ENSG00000257061\n",
      "ENSG00000239776\n",
      "ENSG00000269591\n",
      "ENSG00000203614\n",
      "ENSG00000215549\n",
      "ENSG00000268344\n",
      "ENSG00000230633\n",
      "ENSG00000237152\n",
      "ENSG00000270101\n",
      "ENSG00000165659\n",
      "ENSG00000272349\n",
      "ENSG00000270581\n",
      "ENSG00000221473\n",
      "ENSG00000268702\n",
      "ENSG00000265770\n",
      "ENSG00000258486\n",
      "ENSG00000269832\n",
      "ENSG00000266037\n",
      "ENSG00000265150\n",
      "ENSG00000268466\n",
      "ENSG00000258882\n",
      "ENSG00000259796\n",
      "ENSG00000255994\n",
      "ENSG00000257040\n",
      "ENSG00000259606\n",
      "ENSG00000261372\n",
      "ENSG00000229645\n",
      "ENSG00000269375\n",
      "ENSG00000251769\n",
      "ENSG00000252873\n",
      "ENSG00000251949\n",
      "ENSG00000232018\n",
      "ENSG00000271417\n",
      "ENSG00000256050\n",
      "ENSG00000153575\n",
      "ENSG00000068793\n",
      "ENSG00000259344\n",
      "ENSG00000187667\n",
      "ENSG00000153666\n",
      "ENSG00000140181\n",
      "ENSG00000260760\n",
      "ENSG00000270704\n",
      "ENSG00000271347\n",
      "ENSG00000257151\n",
      "ENSG00000270246\n",
      "ENSG00000270523\n",
      "ENSG00000270015\n",
      "ENSG00000259714\n",
      "ENSG00000261374\n",
      "ENSG00000261597\n",
      "ENSG00000259298\n",
      "ENSG00000207964\n",
      "ENSG00000261425\n",
      "ENSG00000260787\n",
      "ENSG00000261086\n",
      "ENSG00000254414\n",
      "ENSG00000166748\n",
      "ENSG00000271997\n",
      "ENSG00000260359\n",
      "ENSG00000256323\n",
      "ENSG00000196674\n",
      "ENSG00000260411\n",
      "ENSG00000262944\n",
      "ENSG00000260432\n",
      "ENSG00000263013\n",
      "ENSG00000260872\n",
      "ENSG00000259806\n",
      "ENSG00000259888\n",
      "ENSG00000185928\n",
      "ENSG00000261690\n",
      "ENSG00000260114\n",
      "ENSG00000261685\n",
      "ENSG00000260936\n",
      "ENSG00000261705\n",
      "ENSG00000261088\n",
      "ENSG00000260023\n",
      "ENSG00000268927\n",
      "ENSG00000261337\n",
      "ENSG00000187008\n",
      "ENSG00000263320\n",
      "ENSG00000259901\n",
      "ENSG00000260539\n",
      "ENSG00000260523\n",
      "ENSG00000205047\n",
      "ENSG00000261574\n",
      "ENSG00000262194\n",
      "ENSG00000262758\n",
      "ENSG00000212734\n",
      "ENSG00000269871\n",
      "ENSG00000198150\n",
      "ENSG00000273290\n",
      "ENSG00000231595\n",
      "ENSG00000267350\n",
      "ENSG00000213077\n",
      "ENSG00000264885\n",
      "ENSG00000205217\n",
      "ENSG00000154035\n",
      "ENSG00000264469\n",
      "ENSG00000264098\n",
      "ENSG00000183405\n",
      "ENSG00000264608\n",
      "ENSG00000224113\n",
      "ENSG00000267003\n",
      "ENSG00000141150\n",
      "ENSG00000129270\n",
      "ENSG00000172660\n",
      "ENSG00000267025\n",
      "ENSG00000172653\n",
      "ENSG00000108278\n",
      "ENSG00000141140\n",
      "ENSG00000184886\n",
      "ENSG00000005955\n",
      "ENSG00000236002\n",
      "ENSG00000108272\n",
      "ENSG00000129282\n",
      "ENSG00000108270\n",
      "ENSG00000132142\n",
      "ENSG00000254982\n",
      "ENSG00000167230\n",
      "ENSG00000108264\n",
      "ENSG00000161326\n",
      "ENSG00000006114\n",
      "ENSG00000141141\n",
      "ENSG00000185128\n",
      "ENSG00000197681\n",
      "ENSG00000174093\n",
      "ENSG00000174100\n",
      "ENSG00000188888\n",
      "ENSG00000174111\n",
      "ENSG00000225485\n",
      "ENSG00000017373\n",
      "ENSG00000179294\n",
      "ENSG00000108292\n",
      "ENSG00000230055\n",
      "ENSG00000056661\n",
      "ENSG00000108294\n",
      "ENSG00000141720\n",
      "ENSG00000108296\n",
      "ENSG00000266753\n",
      "ENSG00000224911\n",
      "ENSG00000261589\n",
      "ENSG00000262951\n",
      "ENSG00000267667\n",
      "ENSG00000263931\n",
      "ENSG00000266411\n",
      "ENSG00000269657\n",
      "ENSG00000267194\n",
      "ENSG00000260248\n",
      "ENSG00000265242\n",
      "ENSG00000204282\n",
      "ENSG00000175911\n",
      "ENSG00000263053\n",
      "ENSG00000171282\n",
      "ENSG00000184551\n",
      "ENSG00000268852\n",
      "ENSG00000238790\n",
      "ENSG00000215527\n",
      "ENSG00000267702\n",
      "ENSG00000272746\n",
      "ENSG00000264222\n",
      "ENSG00000263350\n",
      "ENSG00000267167\n",
      "ENSG00000183791\n",
      "ENSG00000267010\n",
      "ENSG00000267161\n",
      "ENSG00000034063\n",
      "ENSG00000267427\n",
      "ENSG00000263264\n",
      "ENSG00000266912\n",
      "ENSG00000270143\n",
      "ENSG00000243745\n",
      "ENSG00000268032\n",
      "ENSG00000269131\n",
      "ENSG00000213971\n",
      "ENSG00000205246\n",
      "ENSG00000272635\n",
      "ENSG00000256383\n",
      "ENSG00000203403\n",
      "ENSG00000105663\n",
      "ENSG00000266935\n",
      "ENSG00000267381\n",
      "ENSG00000189144\n",
      "ENSG00000229481\n",
      "ENSG00000267473\n",
      "ENSG00000268262\n",
      "ENSG00000090920\n",
      "ENSG00000268166\n",
      "ENSG00000267163\n",
      "ENSG00000167383\n",
      "ENSG00000267242\n",
      "ENSG00000167765\n",
      "ENSG00000268225\n",
      "ENSG00000269051\n",
      "ENSG00000182909\n",
      "ENSG00000269808\n",
      "ENSG00000272268\n",
      "ENSG00000260837\n",
      "ENSG00000260396\n",
      "ENSG00000266118\n",
      "ENSG00000261452\n",
      "ENSG00000272048\n",
      "ENSG00000233438\n",
      "ENSG00000217075\n",
      "ENSG00000256845\n",
      "ENSG00000268688\n",
      "ENSG00000268898\n",
      "ENSG00000260977\n",
      "ENSG00000236558\n",
      "ENSG00000215968\n",
      "ENSG00000272385\n",
      "ENSG00000138041\n",
      "ENSG00000188971\n",
      "ENSG00000238465\n",
      "ENSG00000211984\n",
      "ENSG00000233991\n",
      "ENSG00000163067\n",
      "ENSG00000270081\n",
      "ENSG00000269686\n",
      "ENSG00000176824\n",
      "ENSG00000235949\n",
      "ENSG00000268821\n",
      "ENSG00000228389\n",
      "ENSG00000260931\n",
      "ENSG00000266413\n",
      "ENSG00000260006\n",
      "ENSG00000180672\n",
      "ENSG00000244567\n",
      "ENSG00000267034\n",
      "ENSG00000261428\n",
      "ENSG00000228989\n",
      "ENSG00000177764\n",
      "ENSG00000203630\n",
      "ENSG00000230839\n",
      "ENSG00000233895\n",
      "ENSG00000225490\n",
      "ENSG00000221319\n",
      "ENSG00000226751\n",
      "ENSG00000228798\n",
      "ENSG00000270093\n",
      "ENSG00000186842\n",
      "ENSG00000221396\n",
      "ENSG00000216197\n",
      "ENSG00000215447\n",
      "ENSG00000235878\n",
      "ENSG00000272283\n",
      "ENSG00000273164\n",
      "ENSG00000215513\n",
      "ENSG00000234252\n",
      "ENSG00000272216\n",
      "ENSG00000236850\n",
      "ENSG00000198477\n",
      "ENSG00000270041\n",
      "ENSG00000184674\n",
      "ENSG00000260065\n",
      "ENSG00000238910\n",
      "ENSG00000224050\n",
      "ENSG00000227895\n",
      "ENSG00000183473\n",
      "ENSG00000219016\n",
      "ENSG00000130489\n",
      "ENSG00000269975\n",
      "ENSG00000250439\n",
      "ENSG00000272511\n",
      "ENSG00000264219\n",
      "ENSG00000234165\n",
      "ENSG00000213846\n",
      "ENSG00000228214\n",
      "ENSG00000272452\n",
      "ENSG00000179837\n",
      "ENSG00000162290\n",
      "ENSG00000212104\n",
      "ENSG00000229729\n",
      "ENSG00000233280\n",
      "ENSG00000261533\n",
      "ENSG00000273488\n",
      "ENSG00000206532\n",
      "ENSG00000272761\n",
      "ENSG00000207770\n",
      "ENSG00000272947\n",
      "ENSG00000187695\n",
      "ENSG00000272565\n",
      "ENSG00000232013\n",
      "ENSG00000268175\n",
      "ENSG00000241732\n",
      "ENSG00000250588\n",
      "ENSG00000183657\n",
      "ENSG00000269728\n",
      "ENSG00000270178\n",
      "ENSG00000203632\n",
      "ENSG00000223401\n",
      "ENSG00000213132\n",
      "ENSG00000197701\n",
      "ENSG00000211553\n",
      "ENSG00000252150\n",
      "ENSG00000179979\n",
      "ENSG00000261643\n",
      "ENSG00000249645\n",
      "ENSG00000196355\n",
      "ENSG00000261496\n",
      "ENSG00000225892\n",
      "ENSG00000248280\n",
      "ENSG00000178972\n",
      "ENSG00000246448\n",
      "ENSG00000248828\n",
      "ENSG00000270750\n",
      "ENSG00000263738\n",
      "ENSG00000216089\n",
      "ENSG00000268885\n",
      "ENSG00000272520\n",
      "ENSG00000272016\n",
      "ENSG00000272093\n",
      "ENSG00000272365\n",
      "ENSG00000250889\n",
      "ENSG00000266045\n",
      "ENSG00000272367\n",
      "ENSG00000272869\n",
      "ENSG00000270067\n",
      "ENSG00000248175\n",
      "ENSG00000249643\n",
      "ENSG00000234290\n",
      "ENSG00000270237\n",
      "ENSG00000196963\n",
      "ENSG00000252793\n",
      "ENSG00000265875\n",
      "ENSG00000253864\n",
      "ENSG00000269936\n",
      "ENSG00000270346\n",
      "ENSG00000261015\n",
      "ENSG00000223291\n",
      "ENSG00000252966\n",
      "ENSG00000198366\n",
      "ENSG00000196176\n",
      "ENSG00000124529\n",
      "ENSG00000197697\n",
      "ENSG00000188987\n",
      "ENSG00000197846\n",
      "ENSG00000198518\n",
      "ENSG00000187990\n",
      "ENSG00000168274\n",
      "ENSG00000198327\n",
      "ENSG00000261353\n",
      "ENSG00000198339\n",
      "ENSG00000197914\n",
      "ENSG00000222894\n",
      "ENSG00000228962\n",
      "ENSG00000221743\n",
      "ENSG00000233844\n",
      "ENSG00000226524\n",
      "ENSG00000203871\n",
      "ENSG00000226684\n",
      "ENSG00000224849\n",
      "ENSG00000228439\n",
      "ENSG00000243587\n",
      "ENSG00000230177\n",
      "ENSG00000155130\n",
      "ENSG00000240050\n",
      "ENSG00000231842\n",
      "ENSG00000228972\n",
      "ENSG00000182404\n",
      "ENSG00000227112\n",
      "ENSG00000227844\n",
      "ENSG00000224460\n",
      "ENSG00000225135\n",
      "ENSG00000219448\n",
      "ENSG00000236537\n",
      "ENSG00000270949\n",
      "ENSG00000256391\n",
      "ENSG00000223414\n",
      "ENSG00000269048\n",
      "ENSG00000197146\n",
      "ENSG00000175873\n",
      "ENSG00000269781\n",
      "ENSG00000260054\n",
      "ENSG00000273477\n",
      "ENSG00000273237\n",
      "ENSG00000232270\n",
      "ENSG00000223473\n",
      "ENSG00000232559\n",
      "ENSG00000235475\n",
      "ENSG00000254184\n",
      "ENSG00000077809\n",
      "ENSG00000160828\n",
      "ENSG00000174374\n",
      "ENSG00000232561\n",
      "ENSG00000198750\n",
      "ENSG00000135213\n",
      "ENSG00000235751\n",
      "ENSG00000272377\n",
      "ENSG00000235982\n",
      "ENSG00000221048\n",
      "ENSG00000242687\n",
      "ENSG00000222482\n",
      "ENSG00000260336\n",
      "ENSG00000166667\n",
      "ENSG00000271529\n",
      "ENSG00000270810\n",
      "ENSG00000239815\n",
      "ENSG00000236338\n",
      "ENSG00000273081\n",
      "ENSG00000239045\n",
      "ENSG00000244291\n",
      "ENSG00000272005\n",
      "ENSG00000237647\n",
      "ENSG00000254269\n",
      "ENSG00000253640\n",
      "ENSG00000264588\n",
      "ENSG00000271927\n",
      "ENSG00000221027\n",
      "ENSG00000182319\n",
      "ENSG00000215346\n",
      "ENSG00000255098\n",
      "ENSG00000238460\n",
      "ENSG00000271948\n",
      "ENSG00000173566\n",
      "ENSG00000104725\n",
      "ENSG00000253222\n",
      "ENSG00000272327\n",
      "ENSG00000254100\n",
      "ENSG00000270024\n",
      "ENSG00000213865\n",
      "ENSG00000221185\n",
      "ENSG00000212998\n",
      "ENSG00000212997\n",
      "ENSG00000238533\n",
      "ENSG00000254281\n",
      "ENSG00000254615\n",
      "ENSG00000271975\n",
      "ENSG00000272486\n",
      "ENSG00000253248\n",
      "ENSG00000259758\n",
      "ENSG00000182851\n",
      "ENSG00000271912\n",
      "ENSG00000227184\n",
      "ENSG00000170727\n",
      "ENSG00000170616\n",
      "ENSG00000235326\n",
      "ENSG00000215066\n",
      "ENSG00000231459\n",
      "ENSG00000241043\n",
      "ENSG00000233137\n",
      "ENSG00000227921\n",
      "ENSG00000185020\n",
      "ENSG00000215142\n",
      "ENSG00000196409\n",
      "ENSG00000269225\n",
      "ENSG00000132498\n",
      "ENSG00000170165\n",
      "ENSG00000232116\n",
      "ENSG00000182368\n",
      "ENSG00000237792\n",
      "ENSG00000237869\n",
      "ENSG00000203438\n",
      "ENSG00000227318\n",
      "ENSG00000270092\n",
      "ENSG00000238638\n",
      "ENSG00000264898\n",
      "ENSG00000232833\n",
      "ENSG00000196774\n",
      "ENSG00000155282\n",
      "ENSG00000229789\n",
      "ENSG00000204794\n",
      "ENSG00000238919\n",
      "ENSG00000233961\n",
      "ENSG00000227558\n",
      "ENSG00000231242\n",
      "ENSG00000240907\n",
      "ENSG00000269337\n",
      "ENSG00000241781\n",
      "ENSG00000186354\n",
      "ENSG00000231632\n",
      "ENSG00000227603\n",
      "ENSG00000243444\n",
      "ENSG00000241978\n",
      "ENSG00000272960\n",
      "ENSG00000273281\n",
      "ENSG00000272593\n",
      "ENSG00000130723\n",
      "ENSG00000235117\n",
      "ENSG00000205664\n",
      "ENSG00000234449\n",
      "ENSG00000252111\n",
      "ENSG00000260822\n",
      "ENSG00000176034\n",
      "ENSG00000184596\n",
      "ENSG00000017621\n",
      "ENSG00000242013\n",
      "ENSG00000182646\n",
      "ENSG00000270189\n",
      "ENSG00000270223\n",
      "ENSG00000271430\n",
      "ENSG00000176274\n",
      "ENSG00000261409\n",
      "ENSG00000226958\n",
      "ENSG00000227285\n",
      "ENSG00000265082\n",
      "ENSG00000184258\n",
      "ENSG00000221870\n",
      "ENSG00000155984\n",
      "ENSG00000147402\n",
      "ENSG00000259886\n",
      "ENSG00000147382\n",
      "ENSG00000073009\n",
      "ENSG00000197932\n",
      "ENSG00000233864\n"
     ]
    }
   ],
   "source": [
    "# copy and paste the remaining genes without symbols to https://www.biotools.fr/human/ensembl_symbol_converter and save them in a txt file\n",
    "for gene in query_data:\n",
    "    if 'notfound' in gene:\n",
    "        print(gene['query'])"
   ]
  },
  {
   "cell_type": "code",
   "execution_count": 7,
   "id": "broadband-vietnam",
   "metadata": {},
   "outputs": [],
   "source": [
    "remaining_gene_mapping = pd.read_csv(prefix + '/Shared drives/NIAAA_ASSIST/Data/feature_extraction_derived/remaining_gene_mapping.txt', sep = '\\t', header = None)"
   ]
  },
  {
   "cell_type": "code",
   "execution_count": 8,
   "id": "cross-suicide",
   "metadata": {},
   "outputs": [],
   "source": [
    "# convert the query data to a dictionary\n",
    "gene_mapping_dict = {}\n",
    "for gene in query_data:\n",
    "    if 'notfound' in gene:\n",
    "        gene_mapping_dict[gene['query']] = None\n",
    "    else:\n",
    "        gene_mapping_dict[gene['query']] = gene['symbol']\n",
    "\n",
    "all_gene_symbols = network_IDs['0'].map(gene_mapping_dict)"
   ]
  },
  {
   "cell_type": "code",
   "execution_count": 9,
   "id": "average-victoria",
   "metadata": {},
   "outputs": [],
   "source": [
    "# load the gene symbols found in the ensembl to symbol converter\n",
    "remaining_gene_mapping_dict = pd.Series(remaining_gene_mapping[1].values, index = remaining_gene_mapping[0]).to_dict()"
   ]
  },
  {
   "cell_type": "code",
   "execution_count": 10,
   "id": "wrong-voltage",
   "metadata": {},
   "outputs": [],
   "source": [
    "# loop through the remainder ones. If exists as a str, add it to the gene_mapping_dict\n",
    "for gene in remaining_gene_mapping_dict:\n",
    "    if type(remaining_gene_mapping_dict[gene]) == str:\n",
    "        gene_mapping_dict[gene] = remaining_gene_mapping_dict[gene]"
   ]
  },
  {
   "cell_type": "code",
   "execution_count": 11,
   "id": "incoming-creature",
   "metadata": {},
   "outputs": [],
   "source": [
    "gene_mapping = pd.DataFrame(gene_mapping_dict.items(), columns = ['id','symbol'])\n",
    "gene_mapping.to_csv(prefix + '/Shared drives/NIAAA_ASSIST/Data/feature_extraction_derived/gene_mapping_df.csv', index = 0)"
   ]
  },
  {
   "cell_type": "code",
   "execution_count": null,
   "id": "sonic-gallery",
   "metadata": {},
   "outputs": [],
   "source": []
  },
  {
   "cell_type": "code",
   "execution_count": 12,
   "id": "upper-monthly",
   "metadata": {},
   "outputs": [],
   "source": [
    "cg_df = pd.read_csv(prefix + '/Shared drives/NIAAA_ASSIST/Data/feature_extraction_derived/epoch=100_alpha=0.1_critical_gene_df.csv')"
   ]
  },
  {
   "cell_type": "code",
   "execution_count": 13,
   "id": "previous-jason",
   "metadata": {},
   "outputs": [],
   "source": [
    "cg_symbols = list(cg_df['gene'].map(gene_mapping_dict))"
   ]
  },
  {
   "cell_type": "code",
   "execution_count": 17,
   "id": "alone-certification",
   "metadata": {},
   "outputs": [
    {
     "name": "stdout",
     "output_type": "stream",
     "text": [
      "# critical genes overlap with DEG regulators\n"
     ]
    },
    {
     "data": {
      "text/plain": [
       "33"
      ]
     },
     "execution_count": 17,
     "metadata": {},
     "output_type": "execute_result"
    }
   ],
   "source": [
    "print('# critical genes overlap with DEG regulators')\n",
    "len(set(cg_symbols).intersection(deg_regulators_sig))"
   ]
  },
  {
   "cell_type": "code",
   "execution_count": 22,
   "id": "speaking-person",
   "metadata": {},
   "outputs": [],
   "source": [
    "neighbors_df = pd.read_csv(prefix + '/Shared drives/NIAAA_ASSIST/Data/feature_extraction_derived/top_830_neighbor_genes.csv')"
   ]
  },
  {
   "cell_type": "code",
   "execution_count": 23,
   "id": "current-reminder",
   "metadata": {},
   "outputs": [],
   "source": [
    "neighbors_symbols = list(neighbors_df['gene'].map(gene_mapping_dict))"
   ]
  },
  {
   "cell_type": "code",
   "execution_count": null,
   "id": "handmade-sullivan",
   "metadata": {},
   "outputs": [],
   "source": [
    "# The last neighbor gene ENSG00000155961 was removed to match the number of critical genes (829)"
   ]
  },
  {
   "cell_type": "code",
   "execution_count": 24,
   "id": "settled-washington",
   "metadata": {},
   "outputs": [
    {
     "name": "stdout",
     "output_type": "stream",
     "text": [
      "# neighbor genes overlap with DEG regulators\n"
     ]
    },
    {
     "data": {
      "text/plain": [
       "34"
      ]
     },
     "execution_count": 24,
     "metadata": {},
     "output_type": "execute_result"
    }
   ],
   "source": [
    "print('# neighbor genes overlap with DEG regulators')\n",
    "len(set(neighbors_symbols).intersection(deg_regulators_sig))"
   ]
  },
  {
   "cell_type": "code",
   "execution_count": 25,
   "id": "comic-necklace",
   "metadata": {},
   "outputs": [
    {
     "name": "stdout",
     "output_type": "stream",
     "text": [
      "# of critical genes that are also the neighbor genes\n"
     ]
    },
    {
     "data": {
      "text/plain": [
       "80"
      ]
     },
     "execution_count": 25,
     "metadata": {},
     "output_type": "execute_result"
    }
   ],
   "source": [
    "print('# of critical genes that are also the neighbor genes')\n",
    "len(set(cg_symbols).intersection(neighbors_symbols))"
   ]
  },
  {
   "cell_type": "code",
   "execution_count": 248,
   "id": "subsequent-needle",
   "metadata": {},
   "outputs": [
    {
     "name": "stdout",
     "output_type": "stream",
     "text": [
      "overlap between cg that regulate DEGs and neighbors that regulate DEGs {'DECR1', 'NQO1', 'BCAR3', 'TNIK'}\n"
     ]
    }
   ],
   "source": [
    "cg_deg_regulator = set(cg_symbols).intersection(deg_regulators_sig)\n",
    "neighbor_deg_regulator = set(neighbors_symbols).intersection(deg_regulators_sig)\n",
    "print('overlap between cg that regulate DEGs and neighbors that regulate DEGs', cg_deg_regulator.intersection(neighbor_deg_regulator))"
   ]
  },
  {
   "cell_type": "markdown",
   "id": "internal-fleece",
   "metadata": {},
   "source": [
    "## Random selection to determine probability of the observed overlap between critical genes and DEG regulators"
   ]
  },
  {
   "cell_type": "code",
   "execution_count": 35,
   "id": "organic-export",
   "metadata": {},
   "outputs": [],
   "source": [
    "overlap_cnt = []\n",
    "for i in range(10000):\n",
    "    random_genes = all_gene_symbols.sample(829) # randomly select 829 genes from all the genes in the network\n",
    "    overlap_cnt.append(len(set(random_genes).intersection(deg_regulators_sig))) # how much of these randomly selected genes overlap with the deg regulators"
   ]
  },
  {
   "cell_type": "code",
   "execution_count": 37,
   "id": "attempted-guide",
   "metadata": {},
   "outputs": [
    {
     "data": {
      "image/png": "[encoded data removed]",
      "text/plain": [
       "<Figure size 432x288 with 1 Axes>"
      ]
     },
     "metadata": {
      "needs_background": "light"
     },
     "output_type": "display_data"
    }
   ],
   "source": [
    "plt.rcParams.update({'font.size':18})\n",
    "plt.hist(overlap_cnt, bins = 25)\n",
    "plt.vlines(33, ymin=0,ymax=1800, color = 'r')\n",
    "plt.ylim(0,1800)\n",
    "plt.title('Randomly selected genes')\n",
    "plt.ylabel('events')\n",
    "plt.xlabel('# overlapping genes');"
   ]
  },
  {
   "cell_type": "code",
   "execution_count": 36,
   "id": "written-heaven",
   "metadata": {},
   "outputs": [
    {
     "name": "stdout",
     "output_type": "stream",
     "text": [
      "Probability of getting >= 33 overlapping genes:\n",
      "0.0001\n"
     ]
    }
   ],
   "source": [
    "print('Probability of getting >= 33 overlapping genes:')\n",
    "print(sum(np.array(overlap_cnt) > 33)/10000)"
   ]
  },
  {
   "cell_type": "markdown",
   "id": "ranking-movement",
   "metadata": {},
   "source": [
    "## Random selection to determine probability of the observed overlap between critical gene regulators and DEGs"
   ]
  },
  {
   "cell_type": "markdown",
   "id": "above-occasions",
   "metadata": {},
   "source": [
    "## Determine DEGs that regulate the critical genes or neighbor genes"
   ]
  },
  {
   "cell_type": "code",
   "execution_count": 23,
   "id": "artificial-cooler",
   "metadata": {},
   "outputs": [
    {
     "name": "stdout",
     "output_type": "stream",
     "text": [
      "critical gene regulators that are DEGs\n"
     ]
    },
    {
     "data": {
      "text/plain": [
       "{'CCND1', 'CXCL12', 'JAM2', 'ODC1'}"
      ]
     },
     "execution_count": 23,
     "metadata": {},
     "output_type": "execute_result"
    }
   ],
   "source": [
    "# Use Nihal's definition of DEGs (padj < 0.05)\n",
    "print('critical gene regulators that are DEGs')\n",
    "set(deseq[deseq['padj'] < 0.05]['gene']).intersection(cg_regulators['ï..Upstream.Regulator'])"
   ]
  },
  {
   "cell_type": "code",
   "execution_count": 24,
   "id": "lucky-fundamental",
   "metadata": {},
   "outputs": [
    {
     "name": "stdout",
     "output_type": "stream",
     "text": [
      "neighbor gene regulators that are DEGs\n"
     ]
    },
    {
     "data": {
      "text/plain": [
       "{'ALDH1L1', 'ERBB2'}"
      ]
     },
     "execution_count": 24,
     "metadata": {},
     "output_type": "execute_result"
    }
   ],
   "source": [
    "print('neighbor gene regulators that are DEGs')\n",
    "set(deseq[deseq['padj'] < 0.05]['gene']).intersection(neigh_regulators['ï..Upstream.Regulator'])"
   ]
  },
  {
   "cell_type": "code",
   "execution_count": 207,
   "id": "american-mixture",
   "metadata": {},
   "outputs": [],
   "source": [
    "overlap_cnt2 = []\n",
    "for i in range(10000):\n",
    "    random_genes = all_gene_symbols.sample(457) # randomly select 457 genes from all the genes in the network (to mimic the critical gene regulators)\n",
    "    overlap_cnt2.append(len(set(random_genes).intersection(deseq[deseq['padj'] < 0.05]['gene']))) # how much of these randomly selected genes overlap with the deg regulators"
   ]
  },
  {
   "cell_type": "code",
   "execution_count": 213,
   "id": "upper-genius",
   "metadata": {},
   "outputs": [
    {
     "data": {
      "image/png": "[encoded data removed]",
      "text/plain": [
       "<Figure size 432x288 with 1 Axes>"
      ]
     },
     "metadata": {
      "needs_background": "light"
     },
     "output_type": "display_data"
    }
   ],
   "source": [
    "plt.rcParams.update({'font.size':18})\n",
    "plt.hist(overlap_cnt2)\n",
    "plt.vlines(4, ymin=0,ymax=2700, color = 'r')\n",
    "plt.ylim(0,2700)\n",
    "plt.title('Randomly selected genes')\n",
    "plt.ylabel('events')\n",
    "plt.xlabel('# overlap');"
   ]
  },
  {
   "cell_type": "code",
   "execution_count": 212,
   "id": "parental-medium",
   "metadata": {},
   "outputs": [
    {
     "name": "stdout",
     "output_type": "stream",
     "text": [
      "Probability of getting >= 33 overlapping genes:\n",
      "0.1847\n"
     ]
    }
   ],
   "source": [
    "print('Probability of getting >= 33 overlapping genes:')\n",
    "print(sum(np.array(overlap_cnt) > 4)/10000)"
   ]
  },
  {
   "cell_type": "markdown",
   "id": "front-mexican",
   "metadata": {},
   "source": [
    "# Overlap between rat AUD genes (from Laura) and human critical genes"
   ]
  },
  {
   "cell_type": "code",
   "execution_count": 11,
   "id": "banned-appreciation",
   "metadata": {},
   "outputs": [],
   "source": [
    "rat_aud_genes = pd.read_csv(prefix + '/Shared drives/NIAAA_ASSIST/Data/IPA analysis/alcohol_genes_141.csv')"
   ]
  },
  {
   "cell_type": "code",
   "execution_count": 11,
   "id": "exotic-volume",
   "metadata": {},
   "outputs": [],
   "source": [
    "rat_aud_in_human = rat_aud_genes[rat_aud_genes['Symbol'].str.upper().isin(list(all_gene_symbols))]"
   ]
  },
  {
   "cell_type": "code",
   "execution_count": 12,
   "id": "informational-spider",
   "metadata": {},
   "outputs": [
    {
     "data": {
      "text/plain": [
       "90"
      ]
     },
     "execution_count": 12,
     "metadata": {},
     "output_type": "execute_result"
    }
   ],
   "source": [
    "len(rat_aud_in_human)"
   ]
  },
  {
   "cell_type": "code",
   "execution_count": 251,
   "id": "olympic-kingston",
   "metadata": {},
   "outputs": [
    {
     "name": "stdout",
     "output_type": "stream",
     "text": [
      "rat AUD overlap with critical genes\n"
     ]
    },
    {
     "data": {
      "text/plain": [
       "{'CHRNA4', 'CHRNA6', 'CRHR2', 'FYN', 'GRM4', 'TLR2', 'TRPV1'}"
      ]
     },
     "execution_count": 251,
     "metadata": {},
     "output_type": "execute_result"
    }
   ],
   "source": [
    "print('rat AUD overlap with critical genes')\n",
    "set(rat_aud_in_human['Symbol'].str.upper()).intersection(cg_symbols)"
   ]
  },
  {
   "cell_type": "code",
   "execution_count": 245,
   "id": "experienced-natural",
   "metadata": {},
   "outputs": [
    {
     "data": {
      "text/plain": [
       "7"
      ]
     },
     "execution_count": 245,
     "metadata": {},
     "output_type": "execute_result"
    }
   ],
   "source": [
    "len(set(rat_aud_in_human['Symbol'].str.upper()).intersection(cg_symbols))"
   ]
  },
  {
   "cell_type": "code",
   "execution_count": 252,
   "id": "generous-emergency",
   "metadata": {},
   "outputs": [
    {
     "name": "stdout",
     "output_type": "stream",
     "text": [
      "rat AUD overlap with neighbor genes\n"
     ]
    },
    {
     "data": {
      "text/plain": [
       "{'ADIPOR2', 'AGT', 'CHRNA6', 'GABRA1', 'MAOA', 'NTSR2', 'SLC1A3', 'TGFA'}"
      ]
     },
     "execution_count": 252,
     "metadata": {},
     "output_type": "execute_result"
    }
   ],
   "source": [
    "print('rat AUD overlap with neighbor genes')\n",
    "set(rat_aud_in_human['Symbol'].str.upper()).intersection(neighbors_symbols)"
   ]
  },
  {
   "cell_type": "code",
   "execution_count": 246,
   "id": "remarkable-convertible",
   "metadata": {},
   "outputs": [
    {
     "data": {
      "text/plain": [
       "8"
      ]
     },
     "execution_count": 246,
     "metadata": {},
     "output_type": "execute_result"
    }
   ],
   "source": [
    "len(set(rat_aud_in_human['Symbol'].str.upper()).intersection(neighbors_symbols))"
   ]
  },
  {
   "cell_type": "code",
   "execution_count": 253,
   "id": "crazy-clock",
   "metadata": {},
   "outputs": [
    {
     "name": "stdout",
     "output_type": "stream",
     "text": [
      "rat AUD overlap with DEGs\n"
     ]
    },
    {
     "data": {
      "text/plain": [
       "set()"
      ]
     },
     "execution_count": 253,
     "metadata": {},
     "output_type": "execute_result"
    }
   ],
   "source": [
    "print('rat AUD overlap with DEGs')\n",
    "set(rat_aud_in_human['Symbol'].str.upper()).intersection(deseq[deseq['padj'] < 0.05]['gene'])"
   ]
  },
  {
   "cell_type": "markdown",
   "id": "retired-barcelona",
   "metadata": {},
   "source": [
    "# Overlap between rat AUD genes (from Laura) and mouse critical genes"
   ]
  },
  {
   "cell_type": "code",
   "execution_count": 2,
   "id": "needed-count",
   "metadata": {},
   "outputs": [],
   "source": [
    "illmina_manifest = pd.read_csv(prefix + '/Shared drives/NIAAA_ASSIST/Data/HDID_data/mousewg-6_v2_0_r3_11278593_a_txt.zip',\n",
    "                               compression='zip', sep = '\\t', skiprows=8, low_memory = False)"
   ]
  },
  {
   "cell_type": "code",
   "execution_count": 96,
   "id": "oriental-census",
   "metadata": {},
   "outputs": [
    {
     "data": {
      "text/plain": [
       "Index(['Species', 'Source', 'Search_Key', 'Transcript', 'ILMN_Gene',\n",
       "       'Source_Reference_ID', 'RefSeq_ID', 'Unigene_ID', 'Entrez_Gene_ID',\n",
       "       'GI', 'Accession', 'Symbol', 'Protein_Product', 'Probe_Id',\n",
       "       'Array_Address_Id', 'Probe_Type', 'Probe_Start', 'Probe_Sequence',\n",
       "       'Chromosome', 'Probe_Chr_Orientation', 'Probe_Coordinates', 'Cytoband',\n",
       "       'Definition', 'Ontology_Component', 'Ontology_Process',\n",
       "       'Ontology_Function', 'Synonyms', 'Obsolete_Probe_Id'],\n",
       "      dtype='object')"
      ]
     },
     "execution_count": 96,
     "metadata": {},
     "output_type": "execute_result"
    }
   ],
   "source": [
    "illmina_manifest.columns"
   ]
  },
  {
   "cell_type": "code",
   "execution_count": 3,
   "id": "mighty-protection",
   "metadata": {},
   "outputs": [],
   "source": [
    "illmina_dict = pd.Series(illmina_manifest['Symbol'].values , index = illmina_manifest['Probe_Id']).to_dict()"
   ]
  },
  {
   "cell_type": "code",
   "execution_count": 6,
   "id": "constant-hollywood",
   "metadata": {},
   "outputs": [],
   "source": [
    "mouse_cg_df = pd.read_csv(prefix + '/Shared drives/NIAAA_ASSIST/Data/HDID_data/feature_extraction_derived/PFC_epoch=100_alpha=0.1_critical_gene_df.csv')\n",
    "pfc_neighbor_df = pd.read_csv(prefix +'/Shared drives/NIAAA_ASSIST/Data/HDID_data/feature_extraction_derived/top_645_neighbor_genes.csv')\n",
    "de_data = pd.read_csv(prefix + '/Shared drives/NIAAA_ASSIST/Data/HDID_data/de_data.csv')\n",
    "pfc_expression = pd.read_csv(prefix + '/Shared drives/NIAAA_ASSIST/Data/HDID_data/PFC_HDID_norm_exp.txt', sep = '\\t')"
   ]
  },
  {
   "cell_type": "code",
   "execution_count": 7,
   "id": "chronic-cooper",
   "metadata": {},
   "outputs": [
    {
     "data": {
      "text/plain": [
       "645"
      ]
     },
     "execution_count": 7,
     "metadata": {},
     "output_type": "execute_result"
    }
   ],
   "source": [
    "len(mouse_cg_df)"
   ]
  },
  {
   "cell_type": "code",
   "execution_count": 130,
   "id": "matched-worcester",
   "metadata": {},
   "outputs": [
    {
     "data": {
      "text/html": [
       "<div>\n",
       "<style scoped>\n",
       "    .dataframe tbody tr th:only-of-type {\n",
       "        vertical-align: middle;\n",
       "    }\n",
       "\n",
       "    .dataframe tbody tr th {\n",
       "        vertical-align: top;\n",
       "    }\n",
       "\n",
       "    .dataframe thead th {\n",
       "        text-align: right;\n",
       "    }\n",
       "</style>\n",
       "<table border=\"1\" class=\"dataframe\">\n",
       "  <thead>\n",
       "    <tr style=\"text-align: right;\">\n",
       "      <th></th>\n",
       "      <th>id</th>\n",
       "      <th>gene</th>\n",
       "      <th>log2FoldChange</th>\n",
       "      <th>padj</th>\n",
       "    </tr>\n",
       "  </thead>\n",
       "  <tbody>\n",
       "    <tr>\n",
       "      <th>0</th>\n",
       "      <td>ILMN_2862111</td>\n",
       "      <td>Hmgn2</td>\n",
       "      <td>1.780745</td>\n",
       "      <td>0.000362</td>\n",
       "    </tr>\n",
       "    <tr>\n",
       "      <th>1</th>\n",
       "      <td>ILMN_2634349</td>\n",
       "      <td>Arhgap35</td>\n",
       "      <td>-1.546438</td>\n",
       "      <td>0.000996</td>\n",
       "    </tr>\n",
       "    <tr>\n",
       "      <th>2</th>\n",
       "      <td>ILMN_1229634</td>\n",
       "      <td>Usp29</td>\n",
       "      <td>1.502853</td>\n",
       "      <td>0.001677</td>\n",
       "    </tr>\n",
       "    <tr>\n",
       "      <th>3</th>\n",
       "      <td>ILMN_2507182</td>\n",
       "      <td>Tomm22</td>\n",
       "      <td>2.220878</td>\n",
       "      <td>0.001849</td>\n",
       "    </tr>\n",
       "    <tr>\n",
       "      <th>4</th>\n",
       "      <td>ILMN_2601928</td>\n",
       "      <td>Pnmal1</td>\n",
       "      <td>1.278039</td>\n",
       "      <td>0.002384</td>\n",
       "    </tr>\n",
       "  </tbody>\n",
       "</table>\n",
       "</div>"
      ],
      "text/plain": [
       "             id      gene  log2FoldChange      padj\n",
       "0  ILMN_2862111     Hmgn2        1.780745  0.000362\n",
       "1  ILMN_2634349  Arhgap35       -1.546438  0.000996\n",
       "2  ILMN_1229634     Usp29        1.502853  0.001677\n",
       "3  ILMN_2507182    Tomm22        2.220878  0.001849\n",
       "4  ILMN_2601928    Pnmal1        1.278039  0.002384"
      ]
     },
     "execution_count": 130,
     "metadata": {},
     "output_type": "execute_result"
    }
   ],
   "source": [
    "de_data.head()"
   ]
  },
  {
   "cell_type": "code",
   "execution_count": 8,
   "id": "geographic-costume",
   "metadata": {},
   "outputs": [],
   "source": [
    "# map all the illumina tags to mouse symbols\n",
    "mouse_cg_symbols = mouse_cg_df['gene'].map(illmina_dict)\n",
    "mouse_neighbor_symbols = pfc_neighbor_df['gene'].map(illmina_dict)\n",
    "pfc_symbols = pfc_expression['id'].map(illmina_dict)"
   ]
  },
  {
   "cell_type": "code",
   "execution_count": 9,
   "id": "demanding-discharge",
   "metadata": {},
   "outputs": [],
   "source": [
    "# Using padj < 0.05 gives only 16 genes. \n",
    "# By increasing padj up to 0.9, there were 363 DEGs and still just 1 overlap with the rat AUD\n",
    "de_symbols = de_data[de_data['padj'] < 0.9]['id'].map(illmina_dict)"
   ]
  },
  {
   "cell_type": "code",
   "execution_count": 157,
   "id": "accompanied-montgomery",
   "metadata": {},
   "outputs": [
    {
     "data": {
      "text/plain": [
       "363"
      ]
     },
     "execution_count": 157,
     "metadata": {},
     "output_type": "execute_result"
    }
   ],
   "source": [
    "len(de_symbols)"
   ]
  },
  {
   "cell_type": "code",
   "execution_count": 12,
   "id": "banned-worst",
   "metadata": {},
   "outputs": [],
   "source": [
    "# rat AUD genes present in the expression used to construct the mouse network\n",
    "rat_aud_in_mouse = rat_aud_genes[rat_aud_genes['Symbol'].isin(list(pfc_symbols.unique()))]"
   ]
  },
  {
   "cell_type": "code",
   "execution_count": 13,
   "id": "common-powder",
   "metadata": {},
   "outputs": [
    {
     "name": "stdout",
     "output_type": "stream",
     "text": [
      "# rat AUD genes in the PFC mouse expression\n"
     ]
    },
    {
     "data": {
      "text/plain": [
       "45"
      ]
     },
     "execution_count": 13,
     "metadata": {},
     "output_type": "execute_result"
    }
   ],
   "source": [
    "print('# rat AUD genes in the PFC mouse expression')\n",
    "len(rat_aud_in_mouse)"
   ]
  },
  {
   "cell_type": "code",
   "execution_count": 14,
   "id": "prospective-retirement",
   "metadata": {},
   "outputs": [
    {
     "name": "stdout",
     "output_type": "stream",
     "text": [
      "rat AUD overlap with critical genes\n"
     ]
    },
    {
     "data": {
      "text/plain": [
       "{'Ctsf', 'Pdyn', 'Prkg2'}"
      ]
     },
     "execution_count": 14,
     "metadata": {},
     "output_type": "execute_result"
    }
   ],
   "source": [
    "print('rat AUD overlap with critical genes')\n",
    "set(rat_aud_in_mouse['Symbol']).intersection(mouse_cg_symbols)"
   ]
  },
  {
   "cell_type": "code",
   "execution_count": 15,
   "id": "running-formation",
   "metadata": {},
   "outputs": [
    {
     "name": "stdout",
     "output_type": "stream",
     "text": [
      "rat AUD overlap with neighbor genes\n"
     ]
    },
    {
     "data": {
      "text/plain": [
       "{'Grin2a', 'Rab3a'}"
      ]
     },
     "execution_count": 15,
     "metadata": {},
     "output_type": "execute_result"
    }
   ],
   "source": [
    "print('rat AUD overlap with neighbor genes')\n",
    "set(rat_aud_in_mouse['Symbol']).intersection(mouse_neighbor_symbols)"
   ]
  },
  {
   "cell_type": "code",
   "execution_count": 17,
   "id": "prime-vaccine",
   "metadata": {},
   "outputs": [
    {
     "name": "stdout",
     "output_type": "stream",
     "text": [
      "rat AUD overlap with DEGs\n"
     ]
    },
    {
     "data": {
      "text/plain": [
       "{'Ntsr1'}"
      ]
     },
     "execution_count": 17,
     "metadata": {},
     "output_type": "execute_result"
    }
   ],
   "source": [
    "print('rat AUD overlap with DEGs')\n",
    "set(rat_aud_in_mouse['Symbol']).intersection(de_symbols)"
   ]
  }
 ],
 "metadata": {
  "kernelspec": {
   "display_name": "Python 3",
   "language": "python",
   "name": "python3"
  },
  "language_info": {
   "codemirror_mode": {
    "name": "ipython",
    "version": 3
   },
   "file_extension": ".py",
   "mimetype": "text/x-python",
   "name": "python",
   "nbconvert_exporter": "python",
   "pygments_lexer": "ipython3",
   "version": "3.8.5"
  }
 },
 "nbformat": 4,
 "nbformat_minor": 5
}
