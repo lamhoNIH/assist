{
 "cells": [
  {
   "cell_type": "markdown",
   "id": "statistical-notebook",
   "metadata": {},
   "source": [
    "# This notebook has 2 tasks\n",
    "## 1. Analyze the IPA results\n",
    "## 2. Determine overlap between rat AUD genes and our critical genes"
   ]
  },
  {
   "cell_type": "code",
   "execution_count": 1,
   "id": "cooperative-karma",
   "metadata": {},
   "outputs": [],
   "source": [
    "import sys\n",
    "sys.path.append(\"../..\")\n",
    "import pandas as pd\n",
    "import numpy as np\n",
    "import seaborn as sns\n",
    "from sys import platform \n",
    "prefix = 'G:' if platform == 'win32' else '/Volumes/GoogleDrive'\n",
    "import matplotlib.pyplot as plt\n",
    "%matplotlib inline\n",
    "%load_ext autoreload\n",
    "%autoreload 2"
   ]
  },
  {
   "cell_type": "code",
   "execution_count": 2,
   "id": "discrete-building",
   "metadata": {},
   "outputs": [],
   "source": [
    "deseq = pd.read_excel(prefix +'/Shared drives/NIAAA_ASSIST/Data/deseq.alc.vs.control.age.rin.batch.gender.PMI.corrected.w.prot.coding.gene.name.xlsx')"
   ]
  },
  {
   "cell_type": "code",
   "execution_count": 9,
   "id": "painted-check",
   "metadata": {},
   "outputs": [],
   "source": [
    "cg_regulators = pd.read_csv(prefix + 'Shared drives/NIAAA_ASSIST/Data/IPA analysis/critical_genes_outputs_upstream_regulators.csv', index_col = 0, encoding = \"ISO-8859-1\")"
   ]
  },
  {
   "cell_type": "code",
   "execution_count": 21,
   "id": "civic-archive",
   "metadata": {},
   "outputs": [],
   "source": [
    "neigh_regulators = pd.read_csv(prefix + 'Shared drives/NIAAA_ASSIST/Data/IPA analysis/neighbouring_genes_outputs_upstream_regulators.csv', index_col = 0, encoding = \"ISO-8859-1\")"
   ]
  },
  {
   "cell_type": "markdown",
   "id": "indonesian-disclosure",
   "metadata": {},
   "source": [
    "# First test: hypergeometric test to determine the probability of getting ~30 overlapping genes between the DEG regulators and critical genes/neighbor genes"
   ]
  },
  {
   "cell_type": "code",
   "execution_count": 26,
   "id": "excess-diploma",
   "metadata": {},
   "outputs": [],
   "source": [
    "from scipy.stats import hypergeom"
   ]
  },
  {
   "cell_type": "code",
   "execution_count": 67,
   "id": "studied-latitude",
   "metadata": {},
   "outputs": [],
   "source": [
    "deg_regulators = pd.read_csv(prefix + '/Shared drives/NIAAA_ASSIST/Data/IPA analysis/deseq_upstream_regulators_unfiltered.csv')\n",
    "deg_regulators_sig = deg_regulators[deg_regulators['p-value of overlap'] < 0.05]['Upstream Regulator']"
   ]
  },
  {
   "cell_type": "code",
   "execution_count": 133,
   "id": "dominican-python",
   "metadata": {},
   "outputs": [
    {
     "data": {
      "text/plain": [
       "660"
      ]
     },
     "execution_count": 133,
     "metadata": {},
     "output_type": "execute_result"
    }
   ],
   "source": [
    "len(deg_regulators_sig)"
   ]
  },
  {
   "cell_type": "code",
   "execution_count": 158,
   "id": "virtual-developer",
   "metadata": {},
   "outputs": [],
   "source": [
    "[M,n,N] = [19911, 660, 829]"
   ]
  },
  {
   "cell_type": "code",
   "execution_count": 159,
   "id": "unknown-winner",
   "metadata": {},
   "outputs": [],
   "source": [
    "rv = hypergeom(M, n, N)"
   ]
  },
  {
   "cell_type": "code",
   "execution_count": 175,
   "id": "present-distribution",
   "metadata": {},
   "outputs": [
    {
     "name": "stdout",
     "output_type": "stream",
     "text": [
      "probability of getting 33 genes overlap\n"
     ]
    },
    {
     "data": {
      "text/plain": [
       "0.041224166911110575"
      ]
     },
     "execution_count": 175,
     "metadata": {},
     "output_type": "execute_result"
    }
   ],
   "source": [
    "print('probability of getting 33 genes overlap')\n",
    "rv.pmf(33)"
   ]
  },
  {
   "cell_type": "markdown",
   "id": "diagnostic-tyler",
   "metadata": {},
   "source": [
    "# Second test: bootstrapping to determine the probability of getting 30 overlapping genes"
   ]
  },
  {
   "cell_type": "code",
   "execution_count": 5,
   "id": "middle-twenty",
   "metadata": {},
   "outputs": [],
   "source": [
    "import mygene"
   ]
  },
  {
   "cell_type": "code",
   "execution_count": 6,
   "id": "extraordinary-grill",
   "metadata": {},
   "outputs": [],
   "source": [
    "network_IDs = pd.read_csv(prefix + '/Shared drives/NIAAA_ASSIST/Data/eda_derived/network_IDs.csv', index_col = 0)"
   ]
  },
  {
   "cell_type": "code",
   "execution_count": 7,
   "id": "strategic-vinyl",
   "metadata": {
    "collapsed": true,
    "jupyter": {
     "outputs_hidden": true
    }
   },
   "outputs": [
    {
     "name": "stdout",
     "output_type": "stream",
     "text": [
      "querying 1-1000...done.\n",
      "querying 1001-2000...done.\n",
      "querying 2001-3000...done.\n",
      "querying 3001-4000...done.\n",
      "querying 4001-5000...done.\n",
      "querying 5001-6000...done.\n",
      "querying 6001-7000...done.\n",
      "querying 7001-8000...done.\n",
      "querying 8001-9000...done.\n",
      "querying 9001-10000...done.\n",
      "querying 10001-11000...done.\n",
      "querying 11001-12000...done.\n",
      "querying 12001-13000...done.\n",
      "querying 13001-14000...done.\n",
      "querying 14001-15000...done.\n",
      "querying 15001-16000...done.\n",
      "querying 16001-17000...done.\n",
      "querying 17001-18000...done.\n",
      "querying 18001-19000...done.\n",
      "querying 19001-19911...done.\n",
      "Finished.\n",
      "1 input query terms found dup hits:\n",
      "\t[('ENSG00000229425', 2)]\n",
      "687 input query terms found no hit:\n",
      "\t['ENSG00000237683', 'ENSG00000269227', 'ENSG00000271895', 'ENSG00000204377', 'ENSG00000271840', 'ENS\n",
      "Pass \"returnall=True\" to return complete lists of duplicate or missing query terms.\n"
     ]
    }
   ],
   "source": [
    "# use mygene to convert ensemble IDs to gene symbols\n",
    "mg = mygene.MyGeneInfo()\n",
    "query_data = mg.querymany(list(network_IDs['0']) , scopes='ensembl.gene', fields='symbol', species='human')"
   ]
  },
  {
   "cell_type": "code",
   "execution_count": 8,
   "id": "portuguese-declaration",
   "metadata": {},
   "outputs": [],
   "source": [
    "# convert the query data to a dictionary\n",
    "gene_mapping_dict = {}\n",
    "for gene in query_data:\n",
    "    if 'notfound' in gene:\n",
    "        gene_mapping_dict[gene['query']] = None\n",
    "    else:\n",
    "        gene_mapping_dict[gene['query']] = gene['symbol']\n",
    "\n",
    "all_gene_symbols = network_IDs['0'].map(gene_mapping_dict)"
   ]
  },
  {
   "cell_type": "code",
   "execution_count": 162,
   "id": "hazardous-richardson",
   "metadata": {},
   "outputs": [],
   "source": [
    "gene_mapping = pd.DataFrame(gene_mapping_dict.items(), columns = ['id','symbol'])\n",
    "gene_mapping.to_csv(prefix + '/Shared drives/NIAAA_ASSIST/Data/feature_extraction_derived/gene_mapping_df.csv', index = 0)"
   ]
  },
  {
   "cell_type": "code",
   "execution_count": 9,
   "id": "authentic-athletics",
   "metadata": {},
   "outputs": [],
   "source": [
    "cg_df = pd.read_csv(prefix + '/Shared drives/NIAAA_ASSIST/Data/feature_extraction_derived/epoch=100_alpha=0.1_critical_gene_df.csv')"
   ]
  },
  {
   "cell_type": "code",
   "execution_count": 10,
   "id": "optimum-playback",
   "metadata": {},
   "outputs": [],
   "source": [
    "cg_symbols = list(cg_df['gene'].map(gene_mapping_dict))"
   ]
  },
  {
   "cell_type": "code",
   "execution_count": 218,
   "id": "royal-catch",
   "metadata": {},
   "outputs": [
    {
     "name": "stdout",
     "output_type": "stream",
     "text": [
      "# critical genes overlap with DEG regulators\n"
     ]
    },
    {
     "data": {
      "text/plain": [
       "33"
      ]
     },
     "execution_count": 218,
     "metadata": {},
     "output_type": "execute_result"
    }
   ],
   "source": [
    "print('# critical genes overlap with DEG regulators')\n",
    "len(set(cg_symbols).intersection(deg_regulators_sig))"
   ]
  },
  {
   "cell_type": "code",
   "execution_count": 214,
   "id": "appreciated-chapel",
   "metadata": {},
   "outputs": [],
   "source": [
    "neighbors_df = pd.read_csv(prefix + '/Shared drives/NIAAA_ASSIST/Data/feature_extraction_derived/top_830_neighbor_genes.csv')"
   ]
  },
  {
   "cell_type": "code",
   "execution_count": 216,
   "id": "corporate-hands",
   "metadata": {},
   "outputs": [],
   "source": [
    "neighbors_symbols = list(neighbors_df['gene'].map(gene_mapping_dict))"
   ]
  },
  {
   "cell_type": "code",
   "execution_count": 217,
   "id": "referenced-courtesy",
   "metadata": {},
   "outputs": [
    {
     "name": "stdout",
     "output_type": "stream",
     "text": [
      "# neighbor genes overlap with DEG regulators\n"
     ]
    },
    {
     "data": {
      "text/plain": [
       "34"
      ]
     },
     "execution_count": 217,
     "metadata": {},
     "output_type": "execute_result"
    }
   ],
   "source": [
    "print('# neighbor genes overlap with DEG regulators')\n",
    "len(set(neighbors_symbols).intersection(deg_regulators_sig))"
   ]
  },
  {
   "cell_type": "code",
   "execution_count": 250,
   "id": "optimum-island",
   "metadata": {},
   "outputs": [
    {
     "name": "stdout",
     "output_type": "stream",
     "text": [
      "# of critical genes that are also the neighbor genes\n"
     ]
    },
    {
     "data": {
      "text/plain": [
       "81"
      ]
     },
     "execution_count": 250,
     "metadata": {},
     "output_type": "execute_result"
    }
   ],
   "source": [
    "print('# of critical genes that are also the neighbor genes')\n",
    "len(set(cg_symbols).intersection(neighbors_symbols))"
   ]
  },
  {
   "cell_type": "code",
   "execution_count": 248,
   "id": "naval-reputation",
   "metadata": {},
   "outputs": [
    {
     "name": "stdout",
     "output_type": "stream",
     "text": [
      "overlap between cg that regulate DEGs and neighbors that regulate DEGs {'DECR1', 'NQO1', 'BCAR3', 'TNIK'}\n"
     ]
    }
   ],
   "source": [
    "cg_deg_regulator = set(cg_symbols).intersection(deg_regulators_sig)\n",
    "neighbor_deg_regulator = set(neighbors_symbols).intersection(deg_regulators_sig)\n",
    "print('overlap between cg that regulate DEGs and neighbors that regulate DEGs', cg_deg_regulator.intersection(neighbor_deg_regulator))"
   ]
  },
  {
   "cell_type": "markdown",
   "id": "intimate-richmond",
   "metadata": {},
   "source": [
    "## Random selection to determine probability of the observed overlap between critical genes and DEG regulators"
   ]
  },
  {
   "cell_type": "code",
   "execution_count": 182,
   "id": "banner-writer",
   "metadata": {},
   "outputs": [],
   "source": [
    "overlap_cnt = []\n",
    "for i in range(10000):\n",
    "    random_genes = all_gene_symbols.sample(829) # randomly select 829 genes from all the genes in the network\n",
    "    overlap_cnt.append(len(set(random_genes).intersection(deg_regulators_sig))) # how much of these randomly selected genes overlap with the deg regulators"
   ]
  },
  {
   "cell_type": "code",
   "execution_count": 194,
   "id": "ideal-hundred",
   "metadata": {},
   "outputs": [
    {
     "data": {
      "image/png": "[encoded data removed]",
      "text/plain": [
       "<Figure size 432x288 with 1 Axes>"
      ]
     },
     "metadata": {
      "needs_background": "light"
     },
     "output_type": "display_data"
    }
   ],
   "source": [
    "plt.rcParams.update({'font.size':18})\n",
    "plt.hist(overlap_cnt, bins = 25)\n",
    "plt.vlines(33, ymin=0,ymax=1800, color = 'r')\n",
    "plt.ylim(0,1800)\n",
    "plt.title('Randomly selected genes')\n",
    "plt.ylabel('events')\n",
    "plt.xlabel('# overlap');"
   ]
  },
  {
   "cell_type": "code",
   "execution_count": 186,
   "id": "grateful-interest",
   "metadata": {},
   "outputs": [
    {
     "name": "stdout",
     "output_type": "stream",
     "text": [
      "Probability of getting >= 33 overlapping genes:\n",
      "0.0016\n"
     ]
    }
   ],
   "source": [
    "print('Probability of getting >= 33 overlapping genes:')\n",
    "print(sum(np.array(overlap_cnt) > 30)/10000)"
   ]
  },
  {
   "cell_type": "markdown",
   "id": "interesting-valuation",
   "metadata": {},
   "source": [
    "## Random selection to determine probability of the observed overlap between critical gene regulators and DEGs"
   ]
  },
  {
   "cell_type": "markdown",
   "id": "hybrid-small",
   "metadata": {},
   "source": [
    "## Determine DEGs that regulate the critical genes or neighbor genes"
   ]
  },
  {
   "cell_type": "code",
   "execution_count": 23,
   "id": "modified-democrat",
   "metadata": {},
   "outputs": [
    {
     "name": "stdout",
     "output_type": "stream",
     "text": [
      "critical gene regulators that are DEGs\n"
     ]
    },
    {
     "data": {
      "text/plain": [
       "{'CCND1', 'CXCL12', 'JAM2', 'ODC1'}"
      ]
     },
     "execution_count": 23,
     "metadata": {},
     "output_type": "execute_result"
    }
   ],
   "source": [
    "# Use Nihal's definition of DEGs (padj < 0.05)\n",
    "print('critical gene regulators that are DEGs')\n",
    "set(deseq[deseq['padj'] < 0.05]['gene']).intersection(cg_regulators['ï..Upstream.Regulator'])"
   ]
  },
  {
   "cell_type": "code",
   "execution_count": 24,
   "id": "figured-serbia",
   "metadata": {},
   "outputs": [
    {
     "name": "stdout",
     "output_type": "stream",
     "text": [
      "neighbor gene regulators that are DEGs\n"
     ]
    },
    {
     "data": {
      "text/plain": [
       "{'ALDH1L1', 'ERBB2'}"
      ]
     },
     "execution_count": 24,
     "metadata": {},
     "output_type": "execute_result"
    }
   ],
   "source": [
    "print('neighbor gene regulators that are DEGs')\n",
    "set(deseq[deseq['padj'] < 0.05]['gene']).intersection(neigh_regulators['ï..Upstream.Regulator'])"
   ]
  },
  {
   "cell_type": "code",
   "execution_count": 207,
   "id": "charged-fiction",
   "metadata": {},
   "outputs": [],
   "source": [
    "overlap_cnt2 = []\n",
    "for i in range(10000):\n",
    "    random_genes = all_gene_symbols.sample(457) # randomly select 457 genes from all the genes in the network (to mimic the critical gene regulators)\n",
    "    overlap_cnt2.append(len(set(random_genes).intersection(deseq[deseq['padj'] < 0.05]['gene']))) # how much of these randomly selected genes overlap with the deg regulators"
   ]
  },
  {
   "cell_type": "code",
   "execution_count": 213,
   "id": "portable-snake",
   "metadata": {},
   "outputs": [
    {
     "data": {
      "image/png": "[encoded data removed]",
      "text/plain": [
       "<Figure size 432x288 with 1 Axes>"
      ]
     },
     "metadata": {
      "needs_background": "light"
     },
     "output_type": "display_data"
    }
   ],
   "source": [
    "plt.rcParams.update({'font.size':18})\n",
    "plt.hist(overlap_cnt2)\n",
    "plt.vlines(4, ymin=0,ymax=2700, color = 'r')\n",
    "plt.ylim(0,2700)\n",
    "plt.title('Randomly selected genes')\n",
    "plt.ylabel('events')\n",
    "plt.xlabel('# overlap');"
   ]
  },
  {
   "cell_type": "code",
   "execution_count": 212,
   "id": "enclosed-gateway",
   "metadata": {},
   "outputs": [
    {
     "name": "stdout",
     "output_type": "stream",
     "text": [
      "Probability of getting >= 33 overlapping genes:\n",
      "0.1847\n"
     ]
    }
   ],
   "source": [
    "print('Probability of getting >= 33 overlapping genes:')\n",
    "print(sum(np.array(overlap_cnt) > 4)/10000)"
   ]
  },
  {
   "cell_type": "markdown",
   "id": "patent-scale",
   "metadata": {},
   "source": [
    "# Overlap between rat AUD genes (from Laura) and human critical genes"
   ]
  },
  {
   "cell_type": "code",
   "execution_count": 3,
   "id": "optional-plaintiff",
   "metadata": {},
   "outputs": [],
   "source": [
    "rat_aud_genes = pd.read_csv(prefix + '/Shared drives/NIAAA_ASSIST/Data/IPA analysis/alcohol_genes_141.csv')"
   ]
  },
  {
   "cell_type": "code",
   "execution_count": 11,
   "id": "revised-evidence",
   "metadata": {},
   "outputs": [],
   "source": [
    "rat_aud_in_human = rat_aud_genes[rat_aud_genes['Symbol'].str.upper().isin(list(all_gene_symbols))]"
   ]
  },
  {
   "cell_type": "code",
   "execution_count": 12,
   "id": "excess-balance",
   "metadata": {},
   "outputs": [
    {
     "data": {
      "text/plain": [
       "90"
      ]
     },
     "execution_count": 12,
     "metadata": {},
     "output_type": "execute_result"
    }
   ],
   "source": [
    "len(rat_aud_in_human)"
   ]
  },
  {
   "cell_type": "code",
   "execution_count": 251,
   "id": "harmful-sheep",
   "metadata": {},
   "outputs": [
    {
     "name": "stdout",
     "output_type": "stream",
     "text": [
      "rat AUD overlap with critical genes\n"
     ]
    },
    {
     "data": {
      "text/plain": [
       "{'CHRNA4', 'CHRNA6', 'CRHR2', 'FYN', 'GRM4', 'TLR2', 'TRPV1'}"
      ]
     },
     "execution_count": 251,
     "metadata": {},
     "output_type": "execute_result"
    }
   ],
   "source": [
    "print('rat AUD overlap with critical genes')\n",
    "set(rat_aud_in_human['Symbol'].str.upper()).intersection(cg_symbols)"
   ]
  },
  {
   "cell_type": "code",
   "execution_count": 245,
   "id": "rising-astrology",
   "metadata": {},
   "outputs": [
    {
     "data": {
      "text/plain": [
       "7"
      ]
     },
     "execution_count": 245,
     "metadata": {},
     "output_type": "execute_result"
    }
   ],
   "source": [
    "len(set(rat_aud_in_human['Symbol'].str.upper()).intersection(cg_symbols))"
   ]
  },
  {
   "cell_type": "code",
   "execution_count": 252,
   "id": "enabling-address",
   "metadata": {},
   "outputs": [
    {
     "name": "stdout",
     "output_type": "stream",
     "text": [
      "rat AUD overlap with neighbor genes\n"
     ]
    },
    {
     "data": {
      "text/plain": [
       "{'ADIPOR2', 'AGT', 'CHRNA6', 'GABRA1', 'MAOA', 'NTSR2', 'SLC1A3', 'TGFA'}"
      ]
     },
     "execution_count": 252,
     "metadata": {},
     "output_type": "execute_result"
    }
   ],
   "source": [
    "print('rat AUD overlap with neighbor genes')\n",
    "set(rat_aud_in_human['Symbol'].str.upper()).intersection(neighbors_symbols)"
   ]
  },
  {
   "cell_type": "code",
   "execution_count": 246,
   "id": "selected-arrow",
   "metadata": {},
   "outputs": [
    {
     "data": {
      "text/plain": [
       "8"
      ]
     },
     "execution_count": 246,
     "metadata": {},
     "output_type": "execute_result"
    }
   ],
   "source": [
    "len(set(rat_aud_in_human['Symbol'].str.upper()).intersection(neighbors_symbols))"
   ]
  },
  {
   "cell_type": "code",
   "execution_count": 253,
   "id": "temporal-retirement",
   "metadata": {},
   "outputs": [
    {
     "name": "stdout",
     "output_type": "stream",
     "text": [
      "rat AUD overlap with DEGs\n"
     ]
    },
    {
     "data": {
      "text/plain": [
       "set()"
      ]
     },
     "execution_count": 253,
     "metadata": {},
     "output_type": "execute_result"
    }
   ],
   "source": [
    "print('rat AUD overlap with DEGs')\n",
    "set(rat_aud_in_human['Symbol'].str.upper()).intersection(deseq[deseq['padj'] < 0.05]['gene'])"
   ]
  },
  {
   "cell_type": "markdown",
   "id": "ruled-swaziland",
   "metadata": {},
   "source": [
    "# Overlap between rat AUD genes (from Laura) and mouse critical genes"
   ]
  },
  {
   "cell_type": "code",
   "execution_count": 95,
   "id": "divided-ecuador",
   "metadata": {},
   "outputs": [],
   "source": [
    "illmina_manifest = pd.read_csv(prefix + '/Shared drives/NIAAA_ASSIST/Data/HDID_data/mousewg-6_v2_0_r3_11278593_a_txt.zip',\n",
    "                               compression='zip', sep = '\\t', skiprows=8, low_memory = False)"
   ]
  },
  {
   "cell_type": "code",
   "execution_count": 96,
   "id": "found-festival",
   "metadata": {},
   "outputs": [
    {
     "data": {
      "text/plain": [
       "Index(['Species', 'Source', 'Search_Key', 'Transcript', 'ILMN_Gene',\n",
       "       'Source_Reference_ID', 'RefSeq_ID', 'Unigene_ID', 'Entrez_Gene_ID',\n",
       "       'GI', 'Accession', 'Symbol', 'Protein_Product', 'Probe_Id',\n",
       "       'Array_Address_Id', 'Probe_Type', 'Probe_Start', 'Probe_Sequence',\n",
       "       'Chromosome', 'Probe_Chr_Orientation', 'Probe_Coordinates', 'Cytoband',\n",
       "       'Definition', 'Ontology_Component', 'Ontology_Process',\n",
       "       'Ontology_Function', 'Synonyms', 'Obsolete_Probe_Id'],\n",
       "      dtype='object')"
      ]
     },
     "execution_count": 96,
     "metadata": {},
     "output_type": "execute_result"
    }
   ],
   "source": [
    "illmina_manifest.columns"
   ]
  },
  {
   "cell_type": "code",
   "execution_count": 106,
   "id": "formal-surprise",
   "metadata": {},
   "outputs": [],
   "source": [
    "illmina_dict = pd.Series(illmina_manifest['Symbol'].values , index = illmina_manifest['Probe_Id']).to_dict()"
   ]
  },
  {
   "cell_type": "code",
   "execution_count": 113,
   "id": "fossil-perry",
   "metadata": {},
   "outputs": [],
   "source": [
    "mouse_cg_df = pd.read_csv(prefix + '/Shared drives/NIAAA_ASSIST/Data/HDID_data/feature_extraction_derived/PFC_epoch=100_alpha=0.1_critical_gene_df.csv')\n",
    "pfc_neighbor_df = pd.read_csv(prefix +'/Shared drives/NIAAA_ASSIST/Data/HDID_data/feature_extraction_derived/top_645_neighbor_genes.csv')\n",
    "de_data = pd.read_csv(prefix + '/Shared drives/NIAAA_ASSIST/Data/HDID_data/de_data.csv')\n",
    "pfc_expression = pd.read_csv(prefix + '/Shared drives/NIAAA_ASSIST/Data/HDID_data/PFC_HDID_norm_exp.txt', sep = '\\t')"
   ]
  },
  {
   "cell_type": "code",
   "execution_count": 130,
   "id": "suspended-figure",
   "metadata": {},
   "outputs": [
    {
     "data": {
      "text/html": [
       "<div>\n",
       "<style scoped>\n",
       "    .dataframe tbody tr th:only-of-type {\n",
       "        vertical-align: middle;\n",
       "    }\n",
       "\n",
       "    .dataframe tbody tr th {\n",
       "        vertical-align: top;\n",
       "    }\n",
       "\n",
       "    .dataframe thead th {\n",
       "        text-align: right;\n",
       "    }\n",
       "</style>\n",
       "<table border=\"1\" class=\"dataframe\">\n",
       "  <thead>\n",
       "    <tr style=\"text-align: right;\">\n",
       "      <th></th>\n",
       "      <th>id</th>\n",
       "      <th>gene</th>\n",
       "      <th>log2FoldChange</th>\n",
       "      <th>padj</th>\n",
       "    </tr>\n",
       "  </thead>\n",
       "  <tbody>\n",
       "    <tr>\n",
       "      <th>0</th>\n",
       "      <td>ILMN_2862111</td>\n",
       "      <td>Hmgn2</td>\n",
       "      <td>1.780745</td>\n",
       "      <td>0.000362</td>\n",
       "    </tr>\n",
       "    <tr>\n",
       "      <th>1</th>\n",
       "      <td>ILMN_2634349</td>\n",
       "      <td>Arhgap35</td>\n",
       "      <td>-1.546438</td>\n",
       "      <td>0.000996</td>\n",
       "    </tr>\n",
       "    <tr>\n",
       "      <th>2</th>\n",
       "      <td>ILMN_1229634</td>\n",
       "      <td>Usp29</td>\n",
       "      <td>1.502853</td>\n",
       "      <td>0.001677</td>\n",
       "    </tr>\n",
       "    <tr>\n",
       "      <th>3</th>\n",
       "      <td>ILMN_2507182</td>\n",
       "      <td>Tomm22</td>\n",
       "      <td>2.220878</td>\n",
       "      <td>0.001849</td>\n",
       "    </tr>\n",
       "    <tr>\n",
       "      <th>4</th>\n",
       "      <td>ILMN_2601928</td>\n",
       "      <td>Pnmal1</td>\n",
       "      <td>1.278039</td>\n",
       "      <td>0.002384</td>\n",
       "    </tr>\n",
       "  </tbody>\n",
       "</table>\n",
       "</div>"
      ],
      "text/plain": [
       "             id      gene  log2FoldChange      padj\n",
       "0  ILMN_2862111     Hmgn2        1.780745  0.000362\n",
       "1  ILMN_2634349  Arhgap35       -1.546438  0.000996\n",
       "2  ILMN_1229634     Usp29        1.502853  0.001677\n",
       "3  ILMN_2507182    Tomm22        2.220878  0.001849\n",
       "4  ILMN_2601928    Pnmal1        1.278039  0.002384"
      ]
     },
     "execution_count": 130,
     "metadata": {},
     "output_type": "execute_result"
    }
   ],
   "source": [
    "de_data.head()"
   ]
  },
  {
   "cell_type": "code",
   "execution_count": 117,
   "id": "psychological-producer",
   "metadata": {},
   "outputs": [],
   "source": [
    "# map all the illumina tags to mouse symbols\n",
    "mouse_cg_symbols = mouse_cg_df['gene'].map(illmina_dict)\n",
    "mouse_neighbor_symbols = pfc_neighbor_df['gene'].map(illmina_dict)\n",
    "pfc_symbols = pfc_expression['id'].map(illmina_dict)"
   ]
  },
  {
   "cell_type": "code",
   "execution_count": 156,
   "id": "neither-assets",
   "metadata": {},
   "outputs": [],
   "source": [
    "# Using padj < 0.05 gives only 16 genes. \n",
    "# By increasing padj up to 0.9, there were 363 DEGs and still just 1 overlap with the rat AUD\n",
    "de_symbols = de_data[de_data['padj'] < 0.9]['id'].map(illmina_dict)"
   ]
  },
  {
   "cell_type": "code",
   "execution_count": 157,
   "id": "welcome-bobby",
   "metadata": {},
   "outputs": [
    {
     "data": {
      "text/plain": [
       "363"
      ]
     },
     "execution_count": 157,
     "metadata": {},
     "output_type": "execute_result"
    }
   ],
   "source": [
    "len(de_symbols)"
   ]
  },
  {
   "cell_type": "code",
   "execution_count": 123,
   "id": "ordered-georgia",
   "metadata": {},
   "outputs": [],
   "source": [
    "# rat AUD genes present in the expression used to construct the mouse network\n",
    "rat_aud_in_mouse = rat_aud_genes[rat_aud_genes['Symbol'].isin(list(pfc_symbols.unique()))]"
   ]
  },
  {
   "cell_type": "code",
   "execution_count": 124,
   "id": "ruled-least",
   "metadata": {},
   "outputs": [
    {
     "name": "stdout",
     "output_type": "stream",
     "text": [
      "# rat AUD genes in the PFC mouse expression\n"
     ]
    },
    {
     "data": {
      "text/plain": [
       "45"
      ]
     },
     "execution_count": 124,
     "metadata": {},
     "output_type": "execute_result"
    }
   ],
   "source": [
    "print('# rat AUD genes in the PFC mouse expression')\n",
    "len(rat_aud_in_mouse)"
   ]
  },
  {
   "cell_type": "code",
   "execution_count": 125,
   "id": "satisfied-characteristic",
   "metadata": {},
   "outputs": [
    {
     "name": "stdout",
     "output_type": "stream",
     "text": [
      "rat AUD overlap with critical genes\n"
     ]
    },
    {
     "data": {
      "text/plain": [
       "{'Ctsf', 'Pdyn', 'Prkg2'}"
      ]
     },
     "execution_count": 125,
     "metadata": {},
     "output_type": "execute_result"
    }
   ],
   "source": [
    "print('rat AUD overlap with critical genes')\n",
    "set(rat_aud_in_mouse['Symbol']).intersection(mouse_cg_symbols)"
   ]
  },
  {
   "cell_type": "code",
   "execution_count": 126,
   "id": "identical-drinking",
   "metadata": {},
   "outputs": [
    {
     "name": "stdout",
     "output_type": "stream",
     "text": [
      "rat AUD overlap with neighbor genes\n"
     ]
    },
    {
     "data": {
      "text/plain": [
       "{'Adcy1', 'Rab3a'}"
      ]
     },
     "execution_count": 126,
     "metadata": {},
     "output_type": "execute_result"
    }
   ],
   "source": [
    "print('rat AUD overlap with neighbor genes')\n",
    "set(rat_aud_in_mouse['Symbol']).intersection(mouse_neighbor_symbols)"
   ]
  },
  {
   "cell_type": "code",
   "execution_count": 158,
   "id": "differential-myrtle",
   "metadata": {},
   "outputs": [
    {
     "name": "stdout",
     "output_type": "stream",
     "text": [
      "rat AUD overlap with DEGs\n"
     ]
    },
    {
     "data": {
      "text/plain": [
       "{'Ntsr1'}"
      ]
     },
     "execution_count": 158,
     "metadata": {},
     "output_type": "execute_result"
    }
   ],
   "source": [
    "print('rat AUD overlap with DEGs')\n",
    "set(rat_aud_in_mouse['Symbol']).intersection(de_symbols)"
   ]
  }
 ],
 "metadata": {
  "kernelspec": {
   "display_name": "Python 3",
   "language": "python",
   "name": "python3"
  },
  "language_info": {
   "codemirror_mode": {
    "name": "ipython",
    "version": 3
   },
   "file_extension": ".py",
   "mimetype": "text/x-python",
   "name": "python",
   "nbconvert_exporter": "python",
   "pygments_lexer": "ipython3",
   "version": "3.8.5"
  }
 },
 "nbformat": 4,
 "nbformat_minor": 5
}
