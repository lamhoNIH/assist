{
 "cells": [
  {
   "cell_type": "code",
   "execution_count": 1,
   "metadata": {},
   "outputs": [],
   "source": [
    "import sys\n",
    "sys.path.append(\"../..\")\n",
    "import pandas as pd\n",
    "pd.set_option('mode.chained_assignment', None)\n",
    "import numpy as np\n",
    "import os\n",
    "import seaborn as sns\n",
    "import networkx as nx\n",
    "from sys import platform \n",
    "from src.eda.subset_network import subset_network\n",
    "from src.eda.eda_functions import *\n",
    "from src.eda.process_phenotype import *\n",
    "from src.embedding.network_embedding import network_embedding\n",
    "from sklearn.model_selection import train_test_split\n",
    "from harness.test_harness_class import TestHarness\n",
    "from harness.utils.parsing_results import *\n",
    "from harness.th_model_instances.hamed_models.random_forest_classification import random_forest_classification\n",
    "from harness.th_model_instances.hamed_models.rocklin_models import logistic_classifier\n",
    "from harness.th_model_instances.perovskite_models.xgboost import gradient_boosted_tree\n",
    "from sklearn.metrics import confusion_matrix\n",
    "import matplotlib.pyplot as plt\n",
    "%matplotlib inline\n",
    "%load_ext autoreload\n",
    "%autoreload 2"
   ]
  },
  {
   "cell_type": "code",
   "execution_count": 2,
   "metadata": {},
   "outputs": [],
   "source": [
    "os.chdir('C:/Users/bbche/Documents/GitRepos/assist/data/embedding_Dec1')\n",
    "emb_dfs = []\n",
    "# kmeans_list = []\n",
    "for file in os.listdir():\n",
    "    emb = pd.read_csv(file, index_col = 0)\n",
    "    emb_dfs.append(emb)\n",
    "#     kmeans_list.append(run_kmeans(emb, 2))"
   ]
  },
  {
   "cell_type": "code",
   "execution_count": 10,
   "metadata": {},
   "outputs": [
    {
     "data": {
      "text/plain": [
       "['embedded_len16_walk100_cluster3+4.csv',\n",
       " 'embedded_len16_walk300_cluster3+4.csv',\n",
       " 'embedded_len64_walk100_cluster3+4.csv',\n",
       " 'embedded_len64_walk300_cluster3+4.csv']"
      ]
     },
     "execution_count": 10,
     "metadata": {},
     "output_type": "execute_result"
    }
   ],
   "source": [
    "os.listdir()"
   ]
  },
  {
   "cell_type": "code",
   "execution_count": 5,
   "metadata": {},
   "outputs": [],
   "source": [
    "deseq = pd.read_excel('G:/Shared drives/NIAAA_ASSIST/Data/deseq.alc.vs.control.age.rin.batch.gender.PMI.corrected.w.prot.coding.gene.name.xlsx')\n",
    "deseq['abs_log2FC'] = abs(deseq['log2FoldChange'])"
   ]
  },
  {
   "cell_type": "code",
   "execution_count": 6,
   "metadata": {},
   "outputs": [],
   "source": [
    "def process_emb_for_ML(embedding_df, deseq = deseq):\n",
    "    embedding_labeled_df = pd.merge(embedding_df, deseq, left_index = True, right_on = 'id')\n",
    "    embedding_labeled_df['impact'] = 1\n",
    "    embedding_labeled_df.loc[embedding_labeled_df['log2FoldChange'].between(-0.1, 0.1), 'impact'] = 0\n",
    "    return embedding_labeled_df"
   ]
  },
  {
   "cell_type": "code",
   "execution_count": null,
   "metadata": {},
   "outputs": [],
   "source": [
    "# Find important embedding space identified by different models"
   ]
  },
  {
   "cell_type": "code",
   "execution_count": 7,
   "metadata": {},
   "outputs": [],
   "source": [
    "processed_emb_dfs = list(map(process_emb_for_ML, emb_dfs))"
   ]
  },
  {
   "cell_type": "code",
   "execution_count": 19,
   "metadata": {},
   "outputs": [],
   "source": [
    "from sklearn.ensemble import RandomForestClassifier\n",
    "from sklearn.linear_model import LogisticRegression\n",
    "import xgboost as xgb\n",
    "from xgboost.sklearn import XGBClassifier\n",
    "from sklearn.metrics import accuracy_score\n",
    "from sklearn.model_selection import train_test_split"
   ]
  },
  {
   "cell_type": "code",
   "execution_count": 30,
   "metadata": {},
   "outputs": [],
   "source": [
    "lr = LogisticRegression(max_iter = 1000)\n",
    "rf = RandomForestClassifier()\n",
    "xgb = XGBClassifier()"
   ]
  },
  {
   "cell_type": "code",
   "execution_count": 33,
   "metadata": {},
   "outputs": [
    {
     "data": {
      "text/plain": [
       "XGBClassifier(base_score=0.5, booster='gbtree', colsample_bylevel=1,\n",
       "              colsample_bynode=1, colsample_bytree=1, gamma=0, gpu_id=-1,\n",
       "              importance_type='gain', interaction_constraints='',\n",
       "              learning_rate=0.300000012, max_delta_step=0, max_depth=6,\n",
       "              min_child_weight=1, missing=nan, monotone_constraints='()',\n",
       "              n_estimators=100, n_jobs=0, num_parallel_tree=1, random_state=0,\n",
       "              reg_alpha=0, reg_lambda=1, scale_pos_weight=1, subsample=1,\n",
       "              tree_method='exact', validate_parameters=1, verbosity=None)"
      ]
     },
     "execution_count": 33,
     "metadata": {},
     "output_type": "execute_result"
    }
   ],
   "source": [
    "embedding_df = processed_emb_dfs[0]\n",
    "num_sample = embedding_df.impact.value_counts().min()\n",
    "emb_subset = embedding_df.groupby('impact').sample(num_sample).reset_index() # subset to have equal samples in the two classes\n",
    "X_train, X_test, y_train, y_test = train_test_split(emb_subset.iloc[:, :64], emb_subset['impact'], test_size = 0.2)\n",
    "lr.fit(X_train, y_train)\n",
    "rf.fit(X_train, y_train)\n",
    "xgb.fit(X_train, y_train)"
   ]
  },
  {
   "cell_type": "code",
   "execution_count": 34,
   "metadata": {},
   "outputs": [
    {
     "name": "stdout",
     "output_type": "stream",
     "text": [
      "lr accuracy 0.6580310880829016\n",
      "rf accuracy 0.689119170984456\n",
      "xgb accuracy 0.6632124352331606\n"
     ]
    }
   ],
   "source": [
    "print('lr accuracy', lr.score(X_test, y_test))\n",
    "print('rf accuracy', rf.score(X_test, y_test))\n",
    "xgb_predict = xgb.predict(X_test)\n",
    "print('xgb accuracy', accuracy_score(y_test, xgb_predict))"
   ]
  },
  {
   "cell_type": "code",
   "execution_count": 51,
   "metadata": {},
   "outputs": [],
   "source": [
    "lr_coef = lr.coef_[0]\n",
    "rf_coef = rf.feature_importances_\n",
    "xgb_coef = xgb.feature_importances_"
   ]
  },
  {
   "cell_type": "code",
   "execution_count": 96,
   "metadata": {},
   "outputs": [],
   "source": [
    "# lr requires taking absolute value and dividing the sum to get % of importance for each feature\n",
    "lr_coef = np.abs(lr_coef)\n",
    "lr_coef /= np.sum(lr_coef)"
   ]
  },
  {
   "cell_type": "code",
   "execution_count": 99,
   "metadata": {},
   "outputs": [
    {
     "data": {
      "image/png": "[encoded data removed]",
      "text/plain": [
       "<Figure size 504x576 with 6 Axes>"
      ]
     },
     "metadata": {
      "needs_background": "light"
     },
     "output_type": "display_data"
    }
   ],
   "source": [
    "plt.figure(figsize = (7, 8))\n",
    "plt.subplot(1,3,1)\n",
    "sns.heatmap(lr_coef.reshape(64, 1), center = np.mean([lr_coef.min(), lr_coef.max()]),\n",
    "            vmin = lr_coef.min(), vmax = lr_coef.max())\n",
    "plt.subplot(1,3,2)\n",
    "sns.heatmap(rf_coef.reshape(64, 1), center = np.mean([rf_coef.min(), rf_coef.max()]), \n",
    "            vmin = rf_coef.min(), vmax = rf_coef.max())\n",
    "plt.subplot(1,3,3)\n",
    "sns.heatmap(xgb_coef.reshape(64, 1), center = np.mean([xgb_coef.min(), xgb_coef.max()]), \n",
    "            vmin = xgb_coef.min(), vmax = xgb_coef.max())\n",
    "plt.subplots_adjust(wspace = 2)"
   ]
  },
  {
   "cell_type": "code",
   "execution_count": 107,
   "metadata": {},
   "outputs": [
    {
     "data": {
      "text/plain": [
       "0.22485964871236178"
      ]
     },
     "execution_count": 107,
     "metadata": {},
     "output_type": "execute_result"
    }
   ],
   "source": [
    "# Determine percentage of feature importance preserved from using top n features\n",
    "np.sum(lr_coef[lr_coef.argsort()[-5:]])"
   ]
  },
  {
   "cell_type": "code",
   "execution_count": 106,
   "metadata": {},
   "outputs": [
    {
     "data": {
      "text/plain": [
       "0.19065231496704665"
      ]
     },
     "execution_count": 106,
     "metadata": {},
     "output_type": "execute_result"
    }
   ],
   "source": [
    "np.sum(rf_coef[rf_coef.argsort()[-8:]])"
   ]
  },
  {
   "cell_type": "code",
   "execution_count": 105,
   "metadata": {},
   "outputs": [
    {
     "data": {
      "text/plain": [
       "0.20070519"
      ]
     },
     "execution_count": 105,
     "metadata": {},
     "output_type": "execute_result"
    }
   ],
   "source": [
    "np.sum(xgb_coef[xgb_coef.argsort()[-6:]])"
   ]
  },
  {
   "cell_type": "code",
   "execution_count": null,
   "metadata": {},
   "outputs": [],
   "source": []
  },
  {
   "cell_type": "code",
   "execution_count": null,
   "metadata": {},
   "outputs": [],
   "source": []
  },
  {
   "cell_type": "code",
   "execution_count": null,
   "metadata": {},
   "outputs": [],
   "source": []
  },
  {
   "cell_type": "code",
   "execution_count": null,
   "metadata": {},
   "outputs": [],
   "source": []
  }
 ],
 "metadata": {
  "kernelspec": {
   "display_name": "Python 3",
   "language": "python",
   "name": "python3"
  },
  "language_info": {
   "codemirror_mode": {
    "name": "ipython",
    "version": 3
   },
   "file_extension": ".py",
   "mimetype": "text/x-python",
   "name": "python",
   "nbconvert_exporter": "python",
   "pygments_lexer": "ipython3",
   "version": "3.8.3"
  }
 },
 "nbformat": 4,
 "nbformat_minor": 4
}
