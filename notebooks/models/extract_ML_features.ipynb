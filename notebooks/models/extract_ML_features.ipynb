{
 "cells": [
  {
   "cell_type": "markdown",
   "metadata": {},
   "source": [
    "# This notebook is to extract feature importance from ML and use it to identify critical genes"
   ]
  },
  {
   "cell_type": "code",
   "execution_count": 1,
   "metadata": {},
   "outputs": [],
   "source": [
    "import sys\n",
    "sys.path.append(\"../..\")\n",
    "import pandas as pd\n",
    "pd.set_option('mode.chained_assignment', None)\n",
    "import numpy as np\n",
    "import os\n",
    "import seaborn as sns\n",
    "import networkx as nx\n",
    "from sys import platform \n",
    "from src.eda.subset_network import subset_network\n",
    "from src.eda.eda_functions import *\n",
    "from src.eda.process_phenotype import *\n",
    "from src.embedding.network_embedding import network_embedding\n",
    "from sklearn.ensemble import RandomForestClassifier\n",
    "from sklearn.linear_model import LogisticRegression\n",
    "import xgboost as xgb\n",
    "from xgboost.sklearn import XGBClassifier\n",
    "from sklearn.metrics import accuracy_score\n",
    "from sklearn.model_selection import train_test_split\n",
    "import matplotlib.pyplot as plt\n",
    "%matplotlib inline\n",
    "%load_ext autoreload\n",
    "%autoreload 2"
   ]
  },
  {
   "cell_type": "code",
   "execution_count": 310,
   "metadata": {},
   "outputs": [],
   "source": [
    "from src.models.ML_functions import *"
   ]
  },
  {
   "cell_type": "code",
   "execution_count": 311,
   "metadata": {},
   "outputs": [],
   "source": [
    "emb_len16_walk300 = pd.read_csv('C:/Users/bbche/Documents/GitRepos/assist/data/embedding_Dec1/embedded_len64_walk300_cluster3+4.csv', index_col = 0)"
   ]
  },
  {
   "cell_type": "code",
   "execution_count": 313,
   "metadata": {},
   "outputs": [],
   "source": [
    "processed_emb = process_emb_for_ML(emb_len16_walk300)"
   ]
  },
  {
   "cell_type": "markdown",
   "metadata": {},
   "source": [
    "## Run ML "
   ]
  },
  {
   "cell_type": "code",
   "execution_count": 30,
   "metadata": {},
   "outputs": [],
   "source": [
    "lr = LogisticRegression(max_iter = 1000)\n",
    "rf = RandomForestClassifier()\n",
    "xgb = XGBClassifier()"
   ]
  },
  {
   "cell_type": "code",
   "execution_count": 318,
   "metadata": {},
   "outputs": [
    {
     "data": {
      "text/plain": [
       "XGBClassifier(base_score=0.5, booster='gbtree', colsample_bylevel=1,\n",
       "              colsample_bynode=1, colsample_bytree=1, gamma=0, gpu_id=-1,\n",
       "              importance_type='gain', interaction_constraints='',\n",
       "              learning_rate=0.300000012, max_delta_step=0, max_depth=6,\n",
       "              min_child_weight=1, missing=nan, monotone_constraints='()',\n",
       "              n_estimators=100, n_jobs=0, num_parallel_tree=1, random_state=0,\n",
       "              reg_alpha=0, reg_lambda=1, scale_pos_weight=1, subsample=1,\n",
       "              tree_method='exact', validate_parameters=1, verbosity=None)"
      ]
     },
     "execution_count": 318,
     "metadata": {},
     "output_type": "execute_result"
    }
   ],
   "source": [
    "num_sample = processed_emb.impact.value_counts().min()\n",
    "emb_subset = processed_emb.groupby('impact').sample(num_sample).reset_index() # subset to have equal samples in the two classes\n",
    "X_train, X_test, y_train, y_test = train_test_split(emb_subset.iloc[:, :64], emb_subset['impact'], test_size = 0.2)\n",
    "lr.fit(X_train, y_train)\n",
    "rf.fit(X_train, y_train)\n",
    "xgb.fit(X_train, y_train)"
   ]
  },
  {
   "cell_type": "code",
   "execution_count": 319,
   "metadata": {},
   "outputs": [
    {
     "name": "stdout",
     "output_type": "stream",
     "text": [
      "lr accuracy 0.6528497409326425\n",
      "rf accuracy 0.7202072538860104\n",
      "xgb accuracy 0.7098445595854922\n"
     ]
    }
   ],
   "source": [
    "print('lr accuracy', lr.score(X_test, y_test))\n",
    "print('rf accuracy', rf.score(X_test, y_test))\n",
    "xgb_predict = xgb.predict(X_test)\n",
    "print('xgb accuracy', accuracy_score(y_test, xgb_predict))"
   ]
  },
  {
   "cell_type": "code",
   "execution_count": 332,
   "metadata": {},
   "outputs": [
    {
     "data": {
      "text/plain": [
       "True"
      ]
     },
     "execution_count": 332,
     "metadata": {},
     "output_type": "execute_result"
    }
   ],
   "source": [
    "type(lr).__name__ == 'LogisticRegression'"
   ]
  },
  {
   "cell_type": "code",
   "execution_count": 334,
   "metadata": {},
   "outputs": [],
   "source": [
    "def get_important_features(model):\n",
    "    '''Get feature importances from models'''\n",
    "    if type(model).__name__ == 'LogisticRegression':\n",
    "        coef = lr.coef_[0]\n",
    "        coef = np.abs(lr_coef) # convert coef to positive values only\n",
    "        coef /= np.sum(lr_coef) # convert coef to % importance\n",
    "    else:\n",
    "        coef = model.feature_importances_\n",
    "    return coef"
   ]
  },
  {
   "cell_type": "code",
   "execution_count": 336,
   "metadata": {},
   "outputs": [],
   "source": [
    "model_feature_importances = list(map(get_important_features, [lr, rf, xgb]))"
   ]
  },
  {
   "cell_type": "code",
   "execution_count": 343,
   "metadata": {},
   "outputs": [],
   "source": [
    "def get_min_max_center(coef):\n",
    "    '''A function to get min, max and avg used for heatmap in plot_feature_importances()'''\n",
    "    min_value = coef.min()\n",
    "    max_value = coef.max()\n",
    "    center = np.mean([min_value, max_value])\n",
    "    return min_value, max_value, center"
   ]
  },
  {
   "cell_type": "code",
   "execution_count": 349,
   "metadata": {},
   "outputs": [],
   "source": [
    "def plot_feature_importances(model_coefs, model_names):\n",
    "    '''A function to show feature importances in each model'''\n",
    "    plt.figure(figsize = (7, 10))\n",
    "    i = 0\n",
    "    for coef in model_coefs:\n",
    "        min_v, max_v, center = get_min_max_center(coef)\n",
    "        plt.subplot(1,3,i+1)\n",
    "        sns.heatmap(coef.reshape(64, 1), center = center, vmin = min_v, vmax = max_v)\n",
    "        plt.title(model_names[i])\n",
    "        plt.subplots_adjust(wspace = 2)\n",
    "        i += 1"
   ]
  },
  {
   "cell_type": "code",
   "execution_count": 350,
   "metadata": {},
   "outputs": [
    {
     "data": {
      "image/png": "[encoded data removed]",
      "text/plain": [
       "<Figure size 504x720 with 6 Axes>"
      ]
     },
     "metadata": {
      "needs_background": "light"
     },
     "output_type": "display_data"
    }
   ],
   "source": [
    "plot_feature_importances(model_feature_importances, ['LR', 'RF', 'XGB'])"
   ]
  },
  {
   "cell_type": "markdown",
   "metadata": {},
   "source": [
    "## Extract top 20% important features "
   ]
  },
  {
   "cell_type": "code",
   "execution_count": 369,
   "metadata": {},
   "outputs": [],
   "source": [
    "def get_top_dim(processed_emb_df, coef, top_n_coef = 0.2):\n",
    "    '''\n",
    "    Get the top features used for each ML and return as a list along with id and abs_log2FC for the get_pairwise_distances()\n",
    "    top_n_coef: 0.2 means extract features up to 20% importance\n",
    "    '''\n",
    "    for i in range(1, 64):\n",
    "        if np.sum(coef[coef.argsort()[-i:]]) > top_n_coef:\n",
    "            num_dim = i\n",
    "            break \n",
    "    top_dim = [str(num) for num in coef.argsort()[-num_dim:]]\n",
    "    top_dim += ['id', 'abs_log2FC']\n",
    "    emb_top_features = processed_emb_df[top_dim]\n",
    "    return emb_top_features"
   ]
  },
  {
   "cell_type": "code",
   "execution_count": 453,
   "metadata": {},
   "outputs": [],
   "source": [
    "top_feature_list = list(map(get_top_dim, processed_emb, model_feature_importances))"
   ]
  },
  {
   "cell_type": "code",
   "execution_count": 135,
   "metadata": {},
   "outputs": [],
   "source": [
    "from sklearn.metrics.pairwise import euclidean_distances as ed"
   ]
  },
  {
   "cell_type": "code",
   "execution_count": 372,
   "metadata": {},
   "outputs": [],
   "source": [
    "def get_pairwise_distances(processed_emb_df):\n",
    "    '''Determine pairwise euclidean distance between each data point'''\n",
    "    pairwise_distances = pd.DataFrame(ed(processed_emb_df.iloc[:, :-2]))\n",
    "    pairwise_distances.columns = processed_emb_df['id']\n",
    "    pairwise_distances.index = processed_emb_df['id']\n",
    "    pairwise_distances['abs_log2FC'] = processed_emb_df['abs_log2FC'].tolist()\n",
    "    pairwise_distances.sort_values('abs_log2FC', ascending = False, inplace=True)\n",
    "    return pairwise_distances"
   ]
  },
  {
   "cell_type": "code",
   "execution_count": 458,
   "metadata": {},
   "outputs": [],
   "source": [
    "pairwise_distance_list = list(map(get_pairwise_distances, [processed_emb[features] for features in top_feature_list]))"
   ]
  },
  {
   "cell_type": "code",
   "execution_count": 202,
   "metadata": {},
   "outputs": [],
   "source": [
    "from collections import Counter"
   ]
  },
  {
   "cell_type": "code",
   "execution_count": 439,
   "metadata": {},
   "outputs": [],
   "source": [
    "def get_critical_genes(pairwise_distance_df):\n",
    "    '''\n",
    "    Find critical genes that are close to impact genes\n",
    "    critical_gene_dict: # impact genes a critical gene is close to\n",
    "    gene_pair_dict: pair the impact gene with their critical genes (based on distance) in a dictionary\n",
    "    '''\n",
    "    critical_gene_list = []\n",
    "    gene_pair_dict = {}\n",
    "    size = len(pairwise_distances[pairwise_distances.abs_log2FC > 0.2]) # cutoff of abs_log2FC > 0.2 as impact gene\n",
    "    for i in range(size):\n",
    "        subset_distance = pairwise_distances.iloc[i,:-2].sort_values()\n",
    "        key = subset_distance[subset_distance.between(0.01,0.5)].reset_index().columns[1] # Euclidean distance < 0.5 as \"close\"\n",
    "        values = subset_distance[subset_distance.between(0.01,0.5)].reset_index()['id'].tolist()\n",
    "        gene_pair_dict[key] = values\n",
    "        critical_gene_list += list(subset_distance[subset_distance.between(0.01,0.5)].index)\n",
    "    critical_gene_dict = Counter(critical_gene_list)\n",
    "    critical_gene_dict = sorted(critical_gene_dict.items(), key=lambda x: x[1], reverse=True)\n",
    "    return critical_gene_dict, gene_pair_dict"
   ]
  },
  {
   "cell_type": "code",
   "execution_count": 463,
   "metadata": {},
   "outputs": [],
   "source": [
    "# Note each item will contain 2 sets of values bc get_critical_genes return 2 sets of data\n",
    "lr_critical_genes, rf_critical_genes, xgb_critical_genes = list(map(get_critical_genes, pairwise_distance_list)) "
   ]
  },
  {
   "cell_type": "code",
   "execution_count": 465,
   "metadata": {},
   "outputs": [],
   "source": [
    "def plot_critical_genes(emb_df, dim1, dim2, gene_pair_dict, critical_gene):\n",
    "    plt.figure(figsize = (8,6))\n",
    "    plt.scatter(emb_df[dim1], emb_df[dim2], s = 3, c = '#D3D3D3')\n",
    "    for k,v in list(gene_pair_dict.items()): # loop through the distance dictionary to find the impact genes that are close to the critical genes\n",
    "        if critical_gene in v:      \n",
    "            plt.scatter(emb_df[emb_df.id == k][dim1], emb_df[emb_df.id == k][dim2], s = 5, c = 'b', label = 'impact gene') # Find the impact genes\n",
    "    plt.scatter(emb_df[emb_df.id == critical_gene][dim1], emb_df[emb_df.id == critical_gene][dim2], s = 20, c = 'r', label = 'critical gene')\n",
    "    plt.legend()"
   ]
  },
  {
   "cell_type": "code",
   "execution_count": 497,
   "metadata": {},
   "outputs": [
    {
     "data": {
      "text/html": [
       "<div>\n",
       "<style scoped>\n",
       "    .dataframe tbody tr th:only-of-type {\n",
       "        vertical-align: middle;\n",
       "    }\n",
       "\n",
       "    .dataframe tbody tr th {\n",
       "        vertical-align: top;\n",
       "    }\n",
       "\n",
       "    .dataframe thead th {\n",
       "        text-align: right;\n",
       "    }\n",
       "</style>\n",
       "<table border=\"1\" class=\"dataframe\">\n",
       "  <thead>\n",
       "    <tr style=\"text-align: right;\">\n",
       "      <th></th>\n",
       "      <th>id</th>\n",
       "      <th># impact genes close to</th>\n",
       "    </tr>\n",
       "  </thead>\n",
       "  <tbody>\n",
       "    <tr>\n",
       "      <th>0</th>\n",
       "      <td>ENSG00000100225</td>\n",
       "      <td>4</td>\n",
       "    </tr>\n",
       "    <tr>\n",
       "      <th>1</th>\n",
       "      <td>ENSG00000008282</td>\n",
       "      <td>3</td>\n",
       "    </tr>\n",
       "    <tr>\n",
       "      <th>2</th>\n",
       "      <td>ENSG00000107338</td>\n",
       "      <td>3</td>\n",
       "    </tr>\n",
       "    <tr>\n",
       "      <th>3</th>\n",
       "      <td>ENSG00000151726</td>\n",
       "      <td>3</td>\n",
       "    </tr>\n",
       "    <tr>\n",
       "      <th>4</th>\n",
       "      <td>ENSG00000176641</td>\n",
       "      <td>3</td>\n",
       "    </tr>\n",
       "    <tr>\n",
       "      <th>5</th>\n",
       "      <td>ENSG00000100156</td>\n",
       "      <td>3</td>\n",
       "    </tr>\n",
       "  </tbody>\n",
       "</table>\n",
       "</div>"
      ],
      "text/plain": [
       "                id  # impact genes close to\n",
       "0  ENSG00000100225                        4\n",
       "1  ENSG00000008282                        3\n",
       "2  ENSG00000107338                        3\n",
       "3  ENSG00000151726                        3\n",
       "4  ENSG00000176641                        3\n",
       "5  ENSG00000100156                        3"
      ]
     },
     "execution_count": 497,
     "metadata": {},
     "output_type": "execute_result"
    }
   ],
   "source": [
    "pd.DataFrame(rf_critical_genes[0], columns = ['id', '# impact genes close to']).head(6)"
   ]
  },
  {
   "cell_type": "code",
   "execution_count": 479,
   "metadata": {},
   "outputs": [],
   "source": [
    "def common_critical_genes(critical_gene_lists):\n",
    "    '''Find common critical genes between models'''\n",
    "    gene_lists = list(map(top_critical_genes, critical_gene_lists))\n",
    "    return set.intersection(*map(set,gene_lists))"
   ]
  },
  {
   "cell_type": "code",
   "execution_count": 478,
   "metadata": {},
   "outputs": [],
   "source": [
    "def top_critical_genes(critical_gene_list):\n",
    "    return [i[0] for i in critical_gene_list[0] if i[1] >= 3]"
   ]
  },
  {
   "cell_type": "code",
   "execution_count": 480,
   "metadata": {},
   "outputs": [
    {
     "data": {
      "text/plain": [
       "{'ENSG00000008282',\n",
       " 'ENSG00000100156',\n",
       " 'ENSG00000100225',\n",
       " 'ENSG00000107338',\n",
       " 'ENSG00000151726',\n",
       " 'ENSG00000168264',\n",
       " 'ENSG00000171448',\n",
       " 'ENSG00000176641'}"
      ]
     },
     "execution_count": 480,
     "metadata": {},
     "output_type": "execute_result"
    }
   ],
   "source": [
    "common_critical_genes([lr_critical_genes, rf_critical_genes, xgb_critical_genes])"
   ]
  },
  {
   "cell_type": "code",
   "execution_count": 483,
   "metadata": {},
   "outputs": [
    {
     "data": {
      "text/plain": [
       "[['15', '23', '26', '61', '60', 'id', 'abs_log2FC'],\n",
       " ['22', '47', '30', '35', '7', '46', '8', '50', '40', 'id', 'abs_log2FC'],\n",
       " ['19', '46', '50', '40', '7', '22', '8', 'id', 'abs_log2FC']]"
      ]
     },
     "execution_count": 483,
     "metadata": {},
     "output_type": "execute_result"
    }
   ],
   "source": [
    "top_feature_list"
   ]
  },
  {
   "cell_type": "code",
   "execution_count": 485,
   "metadata": {},
   "outputs": [
    {
     "data": {
      "image/png": "[encoded data removed]",
      "text/plain": [
       "<Figure size 576x432 with 1 Axes>"
      ]
     },
     "metadata": {
      "needs_background": "light"
     },
     "output_type": "display_data"
    }
   ],
   "source": [
    "plot_critical_genes(processed_emb, '60', '61', lr_critical_genes[1], 'ENSG00000107338')"
   ]
  },
  {
   "cell_type": "code",
   "execution_count": 482,
   "metadata": {},
   "outputs": [
    {
     "data": {
      "image/png": "[encoded data removed]",
      "text/plain": [
       "<Figure size 576x432 with 1 Axes>"
      ]
     },
     "metadata": {
      "needs_background": "light"
     },
     "output_type": "display_data"
    }
   ],
   "source": [
    "plot_critical_genes(processed_emb, '50', '40', rf_critical_genes[1], 'ENSG00000107338')"
   ]
  },
  {
   "cell_type": "code",
   "execution_count": 484,
   "metadata": {},
   "outputs": [
    {
     "data": {
      "image/png": "[encoded data removed]",
      "text/plain": [
       "<Figure size 576x432 with 1 Axes>"
      ]
     },
     "metadata": {
      "needs_background": "light"
     },
     "output_type": "display_data"
    }
   ],
   "source": [
    "plot_critical_genes(processed_emb, '22', '8', xgb_critical_genes[1], 'ENSG00000107338')"
   ]
  }
 ],
 "metadata": {
  "kernelspec": {
   "display_name": "Python 3",
   "language": "python",
   "name": "python3"
  },
  "language_info": {
   "codemirror_mode": {
    "name": "ipython",
    "version": 3
   },
   "file_extension": ".py",
   "mimetype": "text/x-python",
   "name": "python",
   "nbconvert_exporter": "python",
   "pygments_lexer": "ipython3",
   "version": "3.8.3"
  }
 },
 "nbformat": 4,
 "nbformat_minor": 4
}
