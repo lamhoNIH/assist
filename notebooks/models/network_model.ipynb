{
 "cells": [
  {
   "cell_type": "markdown",
   "metadata": {},
   "source": [
    "# This notebook is to run ML using network embedding to predict log2FoldChange \n",
    "## The R^2 is close to 0 with 3 regression models. "
   ]
  },
  {
   "cell_type": "code",
   "execution_count": 3,
   "metadata": {},
   "outputs": [],
   "source": [
    "import pandas as pd\n",
    "import seaborn as sns\n",
    "import numpy as np\n",
    "from sklearn.model_selection import train_test_split\n",
    "from sklearn.ensemble import RandomForestRegressor\n",
    "from sklearn.linear_model import LinearRegression\n",
    "import xgboost\n",
    "from sklearn.preprocessing import MinMaxScaler\n",
    "import matplotlib.pyplot as plt\n",
    "%matplotlib inline"
   ]
  },
  {
   "cell_type": "markdown",
   "metadata": {},
   "source": [
    "# Load data"
   ]
  },
  {
   "cell_type": "code",
   "execution_count": 4,
   "metadata": {},
   "outputs": [],
   "source": [
    "emb_tom = pd.read_csv(r'C:\\Users\\bbche\\Documents\\GitRepos\\assist\\data\\embedded_tom_10k_nodes.csv')"
   ]
  },
  {
   "cell_type": "code",
   "execution_count": 5,
   "metadata": {},
   "outputs": [
    {
     "data": {
      "text/html": [
       "<div>\n",
       "<style scoped>\n",
       "    .dataframe tbody tr th:only-of-type {\n",
       "        vertical-align: middle;\n",
       "    }\n",
       "\n",
       "    .dataframe tbody tr th {\n",
       "        vertical-align: top;\n",
       "    }\n",
       "\n",
       "    .dataframe thead th {\n",
       "        text-align: right;\n",
       "    }\n",
       "</style>\n",
       "<table border=\"1\" class=\"dataframe\">\n",
       "  <thead>\n",
       "    <tr style=\"text-align: right;\">\n",
       "      <th></th>\n",
       "      <th>Unnamed: 0</th>\n",
       "      <th>0</th>\n",
       "      <th>1</th>\n",
       "      <th>2</th>\n",
       "      <th>3</th>\n",
       "      <th>4</th>\n",
       "      <th>5</th>\n",
       "      <th>6</th>\n",
       "      <th>7</th>\n",
       "      <th>8</th>\n",
       "      <th>...</th>\n",
       "      <th>90</th>\n",
       "      <th>91</th>\n",
       "      <th>92</th>\n",
       "      <th>93</th>\n",
       "      <th>94</th>\n",
       "      <th>95</th>\n",
       "      <th>96</th>\n",
       "      <th>97</th>\n",
       "      <th>98</th>\n",
       "      <th>99</th>\n",
       "    </tr>\n",
       "  </thead>\n",
       "  <tbody>\n",
       "    <tr>\n",
       "      <th>0</th>\n",
       "      <td>ENSG00000225972</td>\n",
       "      <td>1.393376</td>\n",
       "      <td>2.364104</td>\n",
       "      <td>0.924181</td>\n",
       "      <td>-1.359552</td>\n",
       "      <td>0.255054</td>\n",
       "      <td>-3.505159</td>\n",
       "      <td>-0.478653</td>\n",
       "      <td>-2.195205</td>\n",
       "      <td>0.155982</td>\n",
       "      <td>...</td>\n",
       "      <td>-2.023527</td>\n",
       "      <td>0.857552</td>\n",
       "      <td>1.072483</td>\n",
       "      <td>-0.784817</td>\n",
       "      <td>0.778312</td>\n",
       "      <td>0.633677</td>\n",
       "      <td>0.554484</td>\n",
       "      <td>-1.006713</td>\n",
       "      <td>-1.223501</td>\n",
       "      <td>3.469553</td>\n",
       "    </tr>\n",
       "    <tr>\n",
       "      <th>1</th>\n",
       "      <td>ENSG00000248527</td>\n",
       "      <td>1.047772</td>\n",
       "      <td>1.042343</td>\n",
       "      <td>-0.227155</td>\n",
       "      <td>-1.952965</td>\n",
       "      <td>1.239519</td>\n",
       "      <td>-3.791575</td>\n",
       "      <td>-0.007238</td>\n",
       "      <td>-1.567714</td>\n",
       "      <td>-0.370616</td>\n",
       "      <td>...</td>\n",
       "      <td>-1.939454</td>\n",
       "      <td>1.041997</td>\n",
       "      <td>1.411569</td>\n",
       "      <td>-1.331061</td>\n",
       "      <td>1.411458</td>\n",
       "      <td>0.989266</td>\n",
       "      <td>-0.066137</td>\n",
       "      <td>-1.064632</td>\n",
       "      <td>-1.648062</td>\n",
       "      <td>3.228506</td>\n",
       "    </tr>\n",
       "    <tr>\n",
       "      <th>2</th>\n",
       "      <td>ENSG00000247627</td>\n",
       "      <td>-1.672903</td>\n",
       "      <td>2.480142</td>\n",
       "      <td>-1.726018</td>\n",
       "      <td>-0.895374</td>\n",
       "      <td>2.334948</td>\n",
       "      <td>-3.126973</td>\n",
       "      <td>-1.559427</td>\n",
       "      <td>0.004151</td>\n",
       "      <td>-0.174930</td>\n",
       "      <td>...</td>\n",
       "      <td>-0.118189</td>\n",
       "      <td>1.771619</td>\n",
       "      <td>-1.011333</td>\n",
       "      <td>-0.905432</td>\n",
       "      <td>0.659894</td>\n",
       "      <td>0.984395</td>\n",
       "      <td>0.870113</td>\n",
       "      <td>-2.218727</td>\n",
       "      <td>-4.248143</td>\n",
       "      <td>3.326764</td>\n",
       "    </tr>\n",
       "  </tbody>\n",
       "</table>\n",
       "<p>3 rows × 101 columns</p>\n",
       "</div>"
      ],
      "text/plain": [
       "        Unnamed: 0         0         1         2         3         4  \\\n",
       "0  ENSG00000225972  1.393376  2.364104  0.924181 -1.359552  0.255054   \n",
       "1  ENSG00000248527  1.047772  1.042343 -0.227155 -1.952965  1.239519   \n",
       "2  ENSG00000247627 -1.672903  2.480142 -1.726018 -0.895374  2.334948   \n",
       "\n",
       "          5         6         7         8  ...        90        91        92  \\\n",
       "0 -3.505159 -0.478653 -2.195205  0.155982  ... -2.023527  0.857552  1.072483   \n",
       "1 -3.791575 -0.007238 -1.567714 -0.370616  ... -1.939454  1.041997  1.411569   \n",
       "2 -3.126973 -1.559427  0.004151 -0.174930  ... -0.118189  1.771619 -1.011333   \n",
       "\n",
       "         93        94        95        96        97        98        99  \n",
       "0 -0.784817  0.778312  0.633677  0.554484 -1.006713 -1.223501  3.469553  \n",
       "1 -1.331061  1.411458  0.989266 -0.066137 -1.064632 -1.648062  3.228506  \n",
       "2 -0.905432  0.659894  0.984395  0.870113 -2.218727 -4.248143  3.326764  \n",
       "\n",
       "[3 rows x 101 columns]"
      ]
     },
     "execution_count": 5,
     "metadata": {},
     "output_type": "execute_result"
    }
   ],
   "source": [
    "emb_tom.head(3)"
   ]
  },
  {
   "cell_type": "code",
   "execution_count": 6,
   "metadata": {},
   "outputs": [],
   "source": [
    "deseq = pd.read_excel(r'G:\\Shared drives\\NIAAA_ASSIST\\Data\\deseq.alc.vs.control.age.rin.batch.gender.PMI.corrected.w.prot.coding.gene.name.xlsx')"
   ]
  },
  {
   "cell_type": "code",
   "execution_count": 7,
   "metadata": {},
   "outputs": [],
   "source": [
    "emb_tom.rename(columns ={'Unnamed: 0':'id'}, inplace = True)"
   ]
  },
  {
   "cell_type": "code",
   "execution_count": 49,
   "metadata": {},
   "outputs": [],
   "source": [
    "# merge deseq df with embedding df\n",
    "emb_deseq_df = pd.merge(emb_tom, deseq, left_on = 'id', right_on ='id')"
   ]
  },
  {
   "cell_type": "markdown",
   "metadata": {},
   "source": [
    "# scale the features"
   ]
  },
  {
   "cell_type": "code",
   "execution_count": 40,
   "metadata": {},
   "outputs": [],
   "source": [
    "scaler = MinMaxScaler()\n",
    "scaled_embedding = scaler.fit_transform(emb_deseq_df.iloc[:, 1:101])"
   ]
  },
  {
   "cell_type": "markdown",
   "metadata": {},
   "source": [
    "# Run ML"
   ]
  },
  {
   "cell_type": "code",
   "execution_count": 12,
   "metadata": {},
   "outputs": [],
   "source": [
    "rf = RandomForestRegressor()\n",
    "lr = LinearRegression()\n",
    "xgb = xgboost.XGBRegressor()"
   ]
  },
  {
   "cell_type": "code",
   "execution_count": 54,
   "metadata": {},
   "outputs": [
    {
     "name": "stdout",
     "output_type": "stream",
     "text": [
      "Linear regression has R^2 -0.02\n",
      "RF regressor has R^2: -0.02\n",
      "XGB regressor has R^2: -0.14\n",
      "Linear regression has R^2 0.0\n",
      "RF regressor has R^2: -0.02\n",
      "XGB regressor has R^2: -0.15\n",
      "Linear regression has R^2 -0.02\n",
      "RF regressor has R^2: -0.04\n",
      "XGB regressor has R^2: -0.14\n"
     ]
    }
   ],
   "source": [
    "for i in range(3):\n",
    "    x_train, x_test, y_train, y_test = train_test_split(scaled_embedding, emb_deseq_df['log2FoldChange'], test_size = 0.3)\n",
    "    lr.fit(x_train, y_train)\n",
    "    print('Linear regression has R^2', round(lr.score(x_test, y_test),2))\n",
    "    rf.fit(x_train, y_train)\n",
    "    print('RF regressor has R^2:', round(rf.score(x_test, y_test),2))\n",
    "    xgb.fit(x_train, y_train)\n",
    "    print('XGB regressor has R^2:', round(xgb.score(x_test, y_test),2))"
   ]
  }
 ],
 "metadata": {
  "kernelspec": {
   "display_name": "Python 3",
   "language": "python",
   "name": "python3"
  },
  "language_info": {
   "codemirror_mode": {
    "name": "ipython",
    "version": 3
   },
   "file_extension": ".py",
   "mimetype": "text/x-python",
   "name": "python",
   "nbconvert_exporter": "python",
   "pygments_lexer": "ipython3",
   "version": "3.8.3"
  }
 },
 "nbformat": 4,
 "nbformat_minor": 4
}
