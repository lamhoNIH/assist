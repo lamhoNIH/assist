{
 "cells": [
  {
   "cell_type": "markdown",
   "metadata": {},
   "source": [
    "# This notebook is to systemically evaluate network subselection and its effect on embedding and ML to predict impact/non-impact genes"
   ]
  },
  {
   "cell_type": "code",
   "execution_count": 1,
   "metadata": {},
   "outputs": [],
   "source": [
    "import sys\n",
    "sys.path.append(\"../..\")\n",
    "import pandas as pd\n",
    "pd.set_option('mode.chained_assignment', None)\n",
    "import numpy as np\n",
    "import os\n",
    "import seaborn as sns\n",
    "import networkx as nx\n",
    "from src.eda.subset_network import *\n",
    "from src.eda.eda_functions import *\n",
    "from src.eda.process_phenotype import *\n",
    "from src.embedding.network_embedding import network_embedding\n",
    "from src.models.feature_extraction import *\n",
    "from src.models.ML_functions import *\n",
    "import time\n",
    "from sklearn.model_selection import train_test_split\n",
    "import matplotlib.pyplot as plt\n",
    "%matplotlib inline\n",
    "%load_ext autoreload\n",
    "%autoreload 2"
   ]
  },
  {
   "cell_type": "code",
   "execution_count": 2,
   "metadata": {},
   "outputs": [],
   "source": [
    "from sys import platform \n",
    "prefix = 'G:' if platform == 'win32' else '/Volumes/GoogleDrive'"
   ]
  },
  {
   "cell_type": "code",
   "execution_count": 38,
   "metadata": {},
   "outputs": [
    {
     "name": "stdout",
     "output_type": "stream",
     "text": [
      "time delta: 373.67288160324097 seconds\n"
     ]
    }
   ],
   "source": [
    "start = time.time()\n",
    "tom_df = pd.read_csv(prefix + '/Shared drives/NIAAA_ASSIST/Data/Kapoor_TOM.csv', index_col = 0)\n",
    "end = time.time()\n",
    "print(f'time delta: {end-start} seconds')"
   ]
  },
  {
   "cell_type": "markdown",
   "metadata": {},
   "source": [
    "## Subset network method 1: choose the nodes from a non-DE module (e.g. 0, 1, 2, 3 or others) and top n DE from module 4"
   ]
  },
  {
   "cell_type": "code",
   "execution_count": 94,
   "metadata": {},
   "outputs": [
    {
     "name": "stdout",
     "output_type": "stream",
     "text": [
      "Number of edges: 73272\n",
      "Figure num_genes=75,min_weight=0.015 has been saved.\n",
      "Number of edges: 51662\n",
      "Figure num_genes=75,min_weight=0.02 has been saved.\n",
      "Number of edges: 94166\n",
      "Figure num_genes=100,min_weight=0.015 has been saved.\n",
      "Number of edges: 66820\n",
      "Figure num_genes=100,min_weight=0.02 has been saved.\n",
      "time delta: 64.7409451007843 seconds\n"
     ]
    }
   ],
   "source": [
    "start = time.time()\n",
    "for gene_num in [75,100]:\n",
    "    for weight in [0.015, 0.02]:\n",
    "        module0_n_4_df = get_subnetwork1(0, gene_num, weight, tom_df, output_dir = r'C:\\Users\\bbche\\Documents\\GitRepos\\assist\\data\\module0_n_4')\n",
    "end = time.time()\n",
    "print(f'time delta: {end-start} seconds')"
   ]
  },
  {
   "cell_type": "code",
   "execution_count": 70,
   "metadata": {},
   "outputs": [
    {
     "name": "stdout",
     "output_type": "stream",
     "text": [
      "Number of edges: 82325\n",
      "Figure num_genes=125,min_weight=0.01 has been saved.\n",
      "Number of edges: 46303\n",
      "Figure num_genes=125,min_weight=0.015 has been saved.\n",
      "Number of edges: 98740\n",
      "Figure num_genes=150,min_weight=0.01 has been saved.\n",
      "Number of edges: 54897\n",
      "Figure num_genes=150,min_weight=0.015 has been saved.\n",
      "time delta: 101.95783853530884 seconds\n"
     ]
    }
   ],
   "source": [
    "start = time.time()\n",
    "for gene_num in [125, 150]:\n",
    "    for weight in [0.01, 0.015]:\n",
    "        module1_n_4_df = get_subnetwork1(1, gene_num, weight, tom_df, output_dir = r'C:\\Users\\bbche\\Documents\\GitRepos\\assist\\data\\module1_n_4')\n",
    "end = time.time()\n",
    "print(f'time delta: {end-start} seconds')"
   ]
  },
  {
   "cell_type": "code",
   "execution_count": 71,
   "metadata": {
    "collapsed": true,
    "jupyter": {
     "outputs_hidden": true
    }
   },
   "outputs": [
    {
     "name": "stdout",
     "output_type": "stream",
     "text": [
      "Number of edges: 57056\n",
      "Figure num_genes=125,min_weight=0.01 has been saved.\n",
      "Number of edges: 29758\n",
      "Figure num_genes=125,min_weight=0.015 has been saved.\n",
      "Number of edges: 74113\n",
      "Figure num_genes=150,min_weight=0.01 has been saved.\n",
      "Number of edges: 39244\n",
      "Figure num_genes=150,min_weight=0.015 has been saved.\n",
      "time delta: 89.0810194015503 seconds\n"
     ]
    }
   ],
   "source": [
    "start = time.time()\n",
    "for gene_num in [125, 150]:\n",
    "    for weight in [0.01, 0.015]:\n",
    "        module2_n_4_df = get_subnetwork1(2, gene_num, weight, tom_df, output_dir = r'C:\\Users\\bbche\\Documents\\GitRepos\\assist\\data\\module2_n_4')\n",
    "end = time.time()\n",
    "print(f'time delta: {end-start} seconds')"
   ]
  },
  {
   "cell_type": "code",
   "execution_count": 60,
   "metadata": {
    "collapsed": true,
    "jupyter": {
     "outputs_hidden": true
    }
   },
   "outputs": [
    {
     "name": "stdout",
     "output_type": "stream",
     "text": [
      "Number of edges: 76334\n",
      "Figure num_genes=125,min_weight=0.02 has been saved.\n",
      "Number of edges: 60395\n",
      "Figure num_genes=125,min_weight=0.025 has been saved.\n",
      "Number of edges: 89152\n",
      "Figure num_genes=150,min_weight=0.02 has been saved.\n",
      "Number of edges: 70175\n",
      "Figure num_genes=150,min_weight=0.025 has been saved.\n",
      "time delta: 75.8434157371521 seconds\n"
     ]
    }
   ],
   "source": [
    "start = time.time()\n",
    "for gene_num in [125, 150]:\n",
    "    for weight in [0.02, 0.025]:\n",
    "        module3_n_4_df = get_subnetwork1(3, gene_num, weight, tom_df, output_dir = r'C:\\Users\\bbche\\Documents\\GitRepos\\assist\\data\\module3_n_4')\n",
    "end = time.time()\n",
    "print(f'time delta: {end-start} seconds')"
   ]
  },
  {
   "cell_type": "markdown",
   "metadata": {},
   "source": [
    "## Subset network method 2: choose the nodes from module 4 (DE module) and by changing the gene_num and min_weight, the nodes from module 4 could pull nodes from other modules if the weights are large enough"
   ]
  },
  {
   "cell_type": "code",
   "execution_count": 95,
   "metadata": {},
   "outputs": [
    {
     "name": "stdout",
     "output_type": "stream",
     "text": [
      "Number of edges: 64975\n",
      "Figure num_genes=200,min_weight=0.008 has been saved.\n",
      "Number of edges: 50196\n",
      "Figure num_genes=200,min_weight=0.01 has been saved.\n",
      "Number of edges: 82208\n",
      "Figure num_genes=250,min_weight=0.008 has been saved.\n",
      "Number of edges: 63583\n",
      "Figure num_genes=250,min_weight=0.01 has been saved.\n",
      "time delta: 93.00227165222168 seconds\n"
     ]
    }
   ],
   "source": [
    "start = time.time()\n",
    "for gene_num in [200,250]:\n",
    "    for weight in [0.008,0.01]:\n",
    "        module4_df = get_subnetwork2(gene_num, weight, tom_df, output_dir = r'C:\\Users\\bbche\\Documents\\GitRepos\\assist\\data\\module_4')\n",
    "end = time.time()\n",
    "print(f'time delta: {end-start} seconds')"
   ]
  },
  {
   "cell_type": "markdown",
   "metadata": {},
   "source": [
    "# Run embedding on \"pre-selected\" parameters to subselect the network based on the histograms and # of edges obtained"
   ]
  },
  {
   "cell_type": "code",
   "execution_count": 75,
   "metadata": {},
   "outputs": [
    {
     "name": "stdout",
     "output_type": "stream",
     "text": [
      "Number of edges: 94166\n",
      "Number of edges: 82325\n",
      "Number of edges: 74113\n",
      "Number of edges: 89152\n",
      "Number of edges: 82208\n"
     ]
    }
   ],
   "source": [
    "G0_n_4, module0_n_4_df = get_subnetwork1(0, 100, 0.015, plot_hist = False)\n",
    "G1_n_4, module1_n_4_df = get_subnetwork1(1, 125, 0.01, plot_hist = False)\n",
    "G2_n_4, module2_n_4_df = get_subnetwork1(2, 150, 0.01, plot_hist = False)\n",
    "G3_n_4, module3_n_4_df = get_subnetwork1(3, 150, 0.02, plot_hist = False)\n",
    "G4, module4_df = get_subnetwork2(250, 0.008, plot_hist = False)"
   ]
  },
  {
   "cell_type": "code",
   "execution_count": 76,
   "metadata": {},
   "outputs": [
    {
     "name": "stderr",
     "output_type": "stream",
     "text": [
      "Computing transition probabilities: 100%|███| 6380/6380 [10:03<00:00, 10.57it/s]\n",
      "Generating walks (CPU: 1): 100%|██████████████| 100/100 [23:39<00:00, 14.20s/it]\n",
      "Computing transition probabilities:   0%|      | 1/7510 [00:00<22:59,  5.44it/s]"
     ]
    },
    {
     "name": "stdout",
     "output_type": "stream",
     "text": [
      "embedding data saved\n"
     ]
    },
    {
     "name": "stderr",
     "output_type": "stream",
     "text": [
      "Computing transition probabilities: 100%|███| 7510/7510 [06:01<00:00, 20.77it/s]\n",
      "Generating walks (CPU: 1): 100%|██████████████| 100/100 [19:34<00:00, 11.74s/it]\n",
      "Computing transition probabilities:   0%|              | 0/5973 [00:00<?, ?it/s]"
     ]
    },
    {
     "name": "stdout",
     "output_type": "stream",
     "text": [
      "embedding data saved\n"
     ]
    },
    {
     "name": "stderr",
     "output_type": "stream",
     "text": [
      "Computing transition probabilities: 100%|███| 5973/5973 [05:07<00:00, 19.41it/s]\n",
      "Generating walks (CPU: 1): 100%|██████████████| 100/100 [15:05<00:00,  9.06s/it]\n",
      "Computing transition probabilities:   0%|      | 1/4333 [00:00<11:13,  6.43it/s]"
     ]
    },
    {
     "name": "stdout",
     "output_type": "stream",
     "text": [
      "embedding data saved\n"
     ]
    },
    {
     "name": "stderr",
     "output_type": "stream",
     "text": [
      "Computing transition probabilities: 100%|███| 4333/4333 [05:50<00:00, 12.37it/s]\n",
      "Generating walks (CPU: 1): 100%|██████████████| 100/100 [09:12<00:00,  5.53s/it]\n",
      "Computing transition probabilities:   0%|              | 0/3908 [00:00<?, ?it/s]"
     ]
    },
    {
     "name": "stdout",
     "output_type": "stream",
     "text": [
      "embedding data saved\n"
     ]
    },
    {
     "name": "stderr",
     "output_type": "stream",
     "text": [
      "Computing transition probabilities: 100%|███| 3908/3908 [04:02<00:00, 16.14it/s]\n",
      "Generating walks (CPU: 1): 100%|██████████████| 100/100 [09:49<00:00,  5.90s/it]\n"
     ]
    },
    {
     "name": "stdout",
     "output_type": "stream",
     "text": [
      "embedding data saved\n"
     ]
    }
   ],
   "source": [
    "subnetwork_names = ['m0_4_100_0.015','m1_4_125_0.01','m2_4_150_0.01','m3_4_150_0.02','m4_250_0.008']\n",
    "for i, G in enumerate([G0_n_4,G1_n_4, G2_n_4, G3_n_4, G4]):\n",
    "    emb_df = network_embedding(G, 16, 100, 10, 'C:/Users/bbche/Documents/GitRepos/assist/data/embedding_Dec17', subnetwork_names[i]) # use the network with 5k edges as a test (less computationally intensive)"
   ]
  },
  {
   "cell_type": "code",
   "execution_count": 8,
   "metadata": {},
   "outputs": [
    {
     "data": {
      "image/png": "[encoded data removed]",
      "text/plain": [
       "<Figure size 288x120 with 4 Axes>"
      ]
     },
     "metadata": {},
     "output_type": "display_data"
    },
    {
     "data": {
      "image/png": "[encoded data removed]",
      "text/plain": [
       "<Figure size 288x120 with 4 Axes>"
      ]
     },
     "metadata": {},
     "output_type": "display_data"
    },
    {
     "data": {
      "image/png": "[encoded data removed]",
      "text/plain": [
       "<Figure size 288x120 with 4 Axes>"
      ]
     },
     "metadata": {},
     "output_type": "display_data"
    },
    {
     "data": {
      "image/png": "[encoded data removed]",
      "text/plain": [
       "<Figure size 288x120 with 4 Axes>"
      ]
     },
     "metadata": {},
     "output_type": "display_data"
    },
    {
     "data": {
      "image/png": "[encoded data removed]",
      "text/plain": [
       "<Figure size 288x120 with 4 Axes>"
      ]
     },
     "metadata": {},
     "output_type": "display_data"
    }
   ],
   "source": [
    "file_path = 'C:/Users/bbche/Documents/GitRepos/assist/data/embedding_Dec17/'\n",
    "emb_list = []\n",
    "kmeans_list = []\n",
    "i = 0\n",
    "for file in os.listdir(file_path):\n",
    "    emb = pd.read_csv(file_path + file, index_col = 0)\n",
    "    emb_list.append(emb)\n",
    "    kmeans_list.append(run_kmeans(emb, 5))\n",
    "    cluster_DE_perc(kmeans_list[i], 'kmean_label', subnetwork_names[i])\n",
    "    i += 1"
   ]
  },
  {
   "cell_type": "code",
   "execution_count": 10,
   "metadata": {},
   "outputs": [],
   "source": [
    "processed_emb_dfs = list(map(process_emb_for_ML, emb_list))"
   ]
  },
  {
   "cell_type": "code",
   "execution_count": 83,
   "metadata": {
    "collapsed": true,
    "jupyter": {
     "outputs_hidden": true
    }
   },
   "outputs": [
    {
     "name": "stdout",
     "output_type": "stream",
     "text": [
      "\n",
      "----------------------------------------------------------------------------------------------------\n",
      "Starting run of model logistic_classifier at time 14:35:14\n",
      "Normalizing training and testing splits...\n",
      "Starting Classification training...\n",
      "Training time was: 0.01 seconds\n"
     ]
    },
    {
     "name": "stderr",
     "output_type": "stream",
     "text": [
      "C:\\Users\\bbche\\anaconda3\\lib\\site-packages\\sklearn\\linear_model\\_logistic.py:1353: UserWarning: 'n_jobs' > 1 does not have any effect when 'solver' is set to 'liblinear'. Got 'n_jobs' = 8.\n",
      "  warnings.warn(\"'n_jobs' > 1 does not have any effect when\"\n"
     ]
    },
    {
     "name": "stdout",
     "output_type": "stream",
     "text": [
      "Testing time was: 0.01 seconds\n",
      "Run finished at 14:35:14. Total run time = 0.11 seconds\n",
      "^^^^^^^^^^^^^^^^^^^^^^^^^^^^^^^^^^^^^^^^^^^^^^^^^^^^^^^^^^^^^^^^^^^^^^^^^^^^^^^^^^^^^^^^^^^^^^^^^^^^\n",
      "\n",
      "\n",
      "----------------------------------------------------------------------------------------------------\n",
      "Starting run of model random_forest_classification at time 14:35:14\n",
      "Normalizing training and testing splits...\n",
      "Starting Classification training...\n",
      "Training time was: 0.99 seconds\n",
      "Testing time was: 0.14 seconds\n",
      "Run finished at 14:35:16. Total run time = 1.36 seconds\n",
      "^^^^^^^^^^^^^^^^^^^^^^^^^^^^^^^^^^^^^^^^^^^^^^^^^^^^^^^^^^^^^^^^^^^^^^^^^^^^^^^^^^^^^^^^^^^^^^^^^^^^\n",
      "\n",
      "\n",
      "----------------------------------------------------------------------------------------------------\n",
      "Starting run of model gradient_boosted_tree at time 14:35:16\n",
      "Normalizing training and testing splits...\n",
      "Starting Classification training...\n",
      "Training time was: 4.93 seconds\n",
      "Testing time was: 0.01 seconds\n",
      "Run finished at 14:35:21. Total run time = 5.04 seconds\n",
      "^^^^^^^^^^^^^^^^^^^^^^^^^^^^^^^^^^^^^^^^^^^^^^^^^^^^^^^^^^^^^^^^^^^^^^^^^^^^^^^^^^^^^^^^^^^^^^^^^^^^\n",
      "\n",
      "\n",
      "----------------------------------------------------------------------------------------------------\n",
      "Starting run of model logistic_classifier at time 14:35:21\n",
      "Normalizing training and testing splits...\n",
      "Starting Classification training...\n",
      "Training time was: 0.01 seconds\n"
     ]
    },
    {
     "name": "stderr",
     "output_type": "stream",
     "text": [
      "C:\\Users\\bbche\\anaconda3\\lib\\site-packages\\sklearn\\linear_model\\_logistic.py:1353: UserWarning: 'n_jobs' > 1 does not have any effect when 'solver' is set to 'liblinear'. Got 'n_jobs' = 8.\n",
      "  warnings.warn(\"'n_jobs' > 1 does not have any effect when\"\n"
     ]
    },
    {
     "name": "stdout",
     "output_type": "stream",
     "text": [
      "Testing time was: 0.01 seconds\n",
      "Run finished at 14:35:21. Total run time = 0.15 seconds\n",
      "^^^^^^^^^^^^^^^^^^^^^^^^^^^^^^^^^^^^^^^^^^^^^^^^^^^^^^^^^^^^^^^^^^^^^^^^^^^^^^^^^^^^^^^^^^^^^^^^^^^^\n",
      "\n",
      "\n",
      "----------------------------------------------------------------------------------------------------\n",
      "Starting run of model random_forest_classification at time 14:35:21\n",
      "Normalizing training and testing splits...\n",
      "Starting Classification training...\n",
      "Training time was: 0.96 seconds\n",
      "Testing time was: 0.18 seconds\n",
      "Run finished at 14:35:23. Total run time = 1.34 seconds\n",
      "^^^^^^^^^^^^^^^^^^^^^^^^^^^^^^^^^^^^^^^^^^^^^^^^^^^^^^^^^^^^^^^^^^^^^^^^^^^^^^^^^^^^^^^^^^^^^^^^^^^^\n",
      "\n",
      "\n",
      "----------------------------------------------------------------------------------------------------\n",
      "Starting run of model gradient_boosted_tree at time 14:35:23\n",
      "Normalizing training and testing splits...\n",
      "Starting Classification training...\n",
      "Training time was: 5.49 seconds\n",
      "Testing time was: 0.02 seconds\n",
      "Run finished at 14:35:28. Total run time = 5.71 seconds\n",
      "^^^^^^^^^^^^^^^^^^^^^^^^^^^^^^^^^^^^^^^^^^^^^^^^^^^^^^^^^^^^^^^^^^^^^^^^^^^^^^^^^^^^^^^^^^^^^^^^^^^^\n",
      "\n",
      "\n",
      "----------------------------------------------------------------------------------------------------\n",
      "Starting run of model logistic_classifier at time 14:35:29\n",
      "Normalizing training and testing splits...\n",
      "Starting Classification training...\n",
      "Training time was: 0.01 seconds\n",
      "Testing time was: 0.01 seconds\n"
     ]
    },
    {
     "name": "stderr",
     "output_type": "stream",
     "text": [
      "C:\\Users\\bbche\\anaconda3\\lib\\site-packages\\sklearn\\linear_model\\_logistic.py:1353: UserWarning: 'n_jobs' > 1 does not have any effect when 'solver' is set to 'liblinear'. Got 'n_jobs' = 8.\n",
      "  warnings.warn(\"'n_jobs' > 1 does not have any effect when\"\n"
     ]
    },
    {
     "name": "stdout",
     "output_type": "stream",
     "text": [
      "Run finished at 14:35:29. Total run time = 0.24 seconds\n",
      "^^^^^^^^^^^^^^^^^^^^^^^^^^^^^^^^^^^^^^^^^^^^^^^^^^^^^^^^^^^^^^^^^^^^^^^^^^^^^^^^^^^^^^^^^^^^^^^^^^^^\n",
      "\n",
      "\n",
      "----------------------------------------------------------------------------------------------------\n",
      "Starting run of model random_forest_classification at time 14:35:29\n",
      "Normalizing training and testing splits...\n",
      "Starting Classification training...\n",
      "Training time was: 1.13 seconds\n",
      "Testing time was: 0.12 seconds\n",
      "Run finished at 14:35:30. Total run time = 1.33 seconds\n",
      "^^^^^^^^^^^^^^^^^^^^^^^^^^^^^^^^^^^^^^^^^^^^^^^^^^^^^^^^^^^^^^^^^^^^^^^^^^^^^^^^^^^^^^^^^^^^^^^^^^^^\n",
      "\n",
      "\n",
      "----------------------------------------------------------------------------------------------------\n",
      "Starting run of model gradient_boosted_tree at time 14:35:30\n",
      "Normalizing training and testing splits...\n",
      "Starting Classification training...\n",
      "Training time was: 4.74 seconds\n",
      "Testing time was: 0.01 seconds\n",
      "Run finished at 14:35:35. Total run time = 4.84 seconds\n",
      "^^^^^^^^^^^^^^^^^^^^^^^^^^^^^^^^^^^^^^^^^^^^^^^^^^^^^^^^^^^^^^^^^^^^^^^^^^^^^^^^^^^^^^^^^^^^^^^^^^^^\n",
      "\n",
      "\n",
      "----------------------------------------------------------------------------------------------------\n",
      "Starting run of model logistic_classifier at time 14:35:35\n",
      "Normalizing training and testing splits...\n",
      "Starting Classification training...\n"
     ]
    },
    {
     "name": "stderr",
     "output_type": "stream",
     "text": [
      "C:\\Users\\bbche\\anaconda3\\lib\\site-packages\\sklearn\\linear_model\\_logistic.py:1353: UserWarning: 'n_jobs' > 1 does not have any effect when 'solver' is set to 'liblinear'. Got 'n_jobs' = 8.\n",
      "  warnings.warn(\"'n_jobs' > 1 does not have any effect when\"\n"
     ]
    },
    {
     "name": "stdout",
     "output_type": "stream",
     "text": [
      "Training time was: 0.01 seconds\n",
      "Testing time was: 0.02 seconds\n",
      "Run finished at 14:35:35. Total run time = 0.13 seconds\n",
      "^^^^^^^^^^^^^^^^^^^^^^^^^^^^^^^^^^^^^^^^^^^^^^^^^^^^^^^^^^^^^^^^^^^^^^^^^^^^^^^^^^^^^^^^^^^^^^^^^^^^\n",
      "\n",
      "\n",
      "----------------------------------------------------------------------------------------------------\n",
      "Starting run of model random_forest_classification at time 14:35:36\n",
      "Normalizing training and testing splits...\n",
      "Starting Classification training...\n",
      "Training time was: 1.04 seconds\n",
      "Testing time was: 0.14 seconds\n",
      "Run finished at 14:35:37. Total run time = 1.41 seconds\n",
      "^^^^^^^^^^^^^^^^^^^^^^^^^^^^^^^^^^^^^^^^^^^^^^^^^^^^^^^^^^^^^^^^^^^^^^^^^^^^^^^^^^^^^^^^^^^^^^^^^^^^\n",
      "\n",
      "\n",
      "----------------------------------------------------------------------------------------------------\n",
      "Starting run of model gradient_boosted_tree at time 14:35:37\n",
      "Normalizing training and testing splits...\n",
      "Starting Classification training...\n",
      "Training time was: 5.25 seconds\n",
      "Testing time was: 0.01 seconds\n",
      "Run finished at 14:35:43. Total run time = 5.71 seconds\n",
      "^^^^^^^^^^^^^^^^^^^^^^^^^^^^^^^^^^^^^^^^^^^^^^^^^^^^^^^^^^^^^^^^^^^^^^^^^^^^^^^^^^^^^^^^^^^^^^^^^^^^\n",
      "\n",
      "\n",
      "----------------------------------------------------------------------------------------------------\n",
      "Starting run of model logistic_classifier at time 14:35:43\n",
      "Normalizing training and testing splits...\n",
      "Starting Classification training...\n",
      "Training time was: 0.01 seconds\n",
      "Testing time was: 0.01 seconds\n"
     ]
    },
    {
     "name": "stderr",
     "output_type": "stream",
     "text": [
      "C:\\Users\\bbche\\anaconda3\\lib\\site-packages\\sklearn\\linear_model\\_logistic.py:1353: UserWarning: 'n_jobs' > 1 does not have any effect when 'solver' is set to 'liblinear'. Got 'n_jobs' = 8.\n",
      "  warnings.warn(\"'n_jobs' > 1 does not have any effect when\"\n"
     ]
    },
    {
     "name": "stdout",
     "output_type": "stream",
     "text": [
      "Run finished at 14:35:43. Total run time = 0.13 seconds\n",
      "^^^^^^^^^^^^^^^^^^^^^^^^^^^^^^^^^^^^^^^^^^^^^^^^^^^^^^^^^^^^^^^^^^^^^^^^^^^^^^^^^^^^^^^^^^^^^^^^^^^^\n",
      "\n",
      "\n",
      "----------------------------------------------------------------------------------------------------\n",
      "Starting run of model random_forest_classification at time 14:35:43\n",
      "Normalizing training and testing splits...\n",
      "Starting Classification training...\n",
      "Training time was: 1.04 seconds\n",
      "Testing time was: 0.13 seconds\n",
      "Run finished at 14:35:45. Total run time = 1.40 seconds\n",
      "^^^^^^^^^^^^^^^^^^^^^^^^^^^^^^^^^^^^^^^^^^^^^^^^^^^^^^^^^^^^^^^^^^^^^^^^^^^^^^^^^^^^^^^^^^^^^^^^^^^^\n",
      "\n",
      "\n",
      "----------------------------------------------------------------------------------------------------\n",
      "Starting run of model gradient_boosted_tree at time 14:35:45\n",
      "Normalizing training and testing splits...\n",
      "Starting Classification training...\n",
      "Training time was: 5.10 seconds\n",
      "Testing time was: 0.02 seconds\n",
      "Run finished at 14:35:50. Total run time = 5.22 seconds\n",
      "^^^^^^^^^^^^^^^^^^^^^^^^^^^^^^^^^^^^^^^^^^^^^^^^^^^^^^^^^^^^^^^^^^^^^^^^^^^^^^^^^^^^^^^^^^^^^^^^^^^^\n",
      "\n",
      "\n",
      "----------------------------------------------------------------------------------------------------\n",
      "Starting run of model logistic_classifier at time 14:35:50\n",
      "Normalizing training and testing splits...\n",
      "Starting Classification training...\n",
      "Training time was: 0.02 seconds\n",
      "Testing time was: 0.01 seconds\n"
     ]
    },
    {
     "name": "stderr",
     "output_type": "stream",
     "text": [
      "C:\\Users\\bbche\\anaconda3\\lib\\site-packages\\sklearn\\linear_model\\_logistic.py:1353: UserWarning: 'n_jobs' > 1 does not have any effect when 'solver' is set to 'liblinear'. Got 'n_jobs' = 8.\n",
      "  warnings.warn(\"'n_jobs' > 1 does not have any effect when\"\n"
     ]
    },
    {
     "name": "stdout",
     "output_type": "stream",
     "text": [
      "Run finished at 14:35:50. Total run time = 0.28 seconds\n",
      "^^^^^^^^^^^^^^^^^^^^^^^^^^^^^^^^^^^^^^^^^^^^^^^^^^^^^^^^^^^^^^^^^^^^^^^^^^^^^^^^^^^^^^^^^^^^^^^^^^^^\n",
      "\n",
      "\n",
      "----------------------------------------------------------------------------------------------------\n",
      "Starting run of model random_forest_classification at time 14:35:50\n",
      "Normalizing training and testing splits...\n",
      "Starting Classification training...\n",
      "Training time was: 0.97 seconds\n",
      "Testing time was: 0.14 seconds\n",
      "Run finished at 14:35:52. Total run time = 1.37 seconds\n",
      "^^^^^^^^^^^^^^^^^^^^^^^^^^^^^^^^^^^^^^^^^^^^^^^^^^^^^^^^^^^^^^^^^^^^^^^^^^^^^^^^^^^^^^^^^^^^^^^^^^^^\n",
      "\n",
      "\n",
      "----------------------------------------------------------------------------------------------------\n",
      "Starting run of model gradient_boosted_tree at time 14:35:52\n",
      "Normalizing training and testing splits...\n",
      "Starting Classification training...\n",
      "Training time was: 4.82 seconds\n",
      "Testing time was: 0.01 seconds\n",
      "Run finished at 14:35:57. Total run time = 5.05 seconds\n",
      "^^^^^^^^^^^^^^^^^^^^^^^^^^^^^^^^^^^^^^^^^^^^^^^^^^^^^^^^^^^^^^^^^^^^^^^^^^^^^^^^^^^^^^^^^^^^^^^^^^^^\n",
      "\n",
      "\n",
      "\n",
      "----------------------------------------------------------------------------------------------------\n",
      "Starting run of model logistic_classifier at time 14:35:57\n",
      "Normalizing training and testing splits...\n",
      "Starting Classification training...\n"
     ]
    },
    {
     "name": "stderr",
     "output_type": "stream",
     "text": [
      "C:\\Users\\bbche\\anaconda3\\lib\\site-packages\\sklearn\\linear_model\\_logistic.py:1353: UserWarning: 'n_jobs' > 1 does not have any effect when 'solver' is set to 'liblinear'. Got 'n_jobs' = 8.\n",
      "  warnings.warn(\"'n_jobs' > 1 does not have any effect when\"\n"
     ]
    },
    {
     "name": "stdout",
     "output_type": "stream",
     "text": [
      "Training time was: 0.02 seconds\n",
      "Testing time was: 0.01 seconds\n",
      "Run finished at 14:35:57. Total run time = 0.15 seconds\n",
      "^^^^^^^^^^^^^^^^^^^^^^^^^^^^^^^^^^^^^^^^^^^^^^^^^^^^^^^^^^^^^^^^^^^^^^^^^^^^^^^^^^^^^^^^^^^^^^^^^^^^\n",
      "\n",
      "\n",
      "----------------------------------------------------------------------------------------------------\n",
      "Starting run of model random_forest_classification at time 14:35:57\n",
      "Normalizing training and testing splits...\n",
      "Starting Classification training...\n",
      "Training time was: 0.93 seconds\n",
      "Testing time was: 0.12 seconds\n",
      "Run finished at 14:35:59. Total run time = 1.31 seconds\n",
      "^^^^^^^^^^^^^^^^^^^^^^^^^^^^^^^^^^^^^^^^^^^^^^^^^^^^^^^^^^^^^^^^^^^^^^^^^^^^^^^^^^^^^^^^^^^^^^^^^^^^\n",
      "\n",
      "\n",
      "----------------------------------------------------------------------------------------------------\n",
      "Starting run of model gradient_boosted_tree at time 14:35:59\n",
      "Normalizing training and testing splits...\n",
      "Starting Classification training...\n",
      "Training time was: 5.31 seconds\n",
      "Testing time was: 0.01 seconds\n",
      "Run finished at 14:36:04. Total run time = 5.51 seconds\n",
      "^^^^^^^^^^^^^^^^^^^^^^^^^^^^^^^^^^^^^^^^^^^^^^^^^^^^^^^^^^^^^^^^^^^^^^^^^^^^^^^^^^^^^^^^^^^^^^^^^^^^\n",
      "\n",
      "\n",
      "----------------------------------------------------------------------------------------------------\n",
      "Starting run of model logistic_classifier at time 14:36:04\n",
      "Normalizing training and testing splits...\n",
      "Starting Classification training...\n",
      "Training time was: 0.01 seconds\n",
      "Testing time was: 0.01 seconds\n"
     ]
    },
    {
     "name": "stderr",
     "output_type": "stream",
     "text": [
      "C:\\Users\\bbche\\anaconda3\\lib\\site-packages\\sklearn\\linear_model\\_logistic.py:1353: UserWarning: 'n_jobs' > 1 does not have any effect when 'solver' is set to 'liblinear'. Got 'n_jobs' = 8.\n",
      "  warnings.warn(\"'n_jobs' > 1 does not have any effect when\"\n"
     ]
    },
    {
     "name": "stdout",
     "output_type": "stream",
     "text": [
      "Run finished at 14:36:05. Total run time = 0.26 seconds\n",
      "^^^^^^^^^^^^^^^^^^^^^^^^^^^^^^^^^^^^^^^^^^^^^^^^^^^^^^^^^^^^^^^^^^^^^^^^^^^^^^^^^^^^^^^^^^^^^^^^^^^^\n",
      "\n",
      "\n",
      "----------------------------------------------------------------------------------------------------\n",
      "Starting run of model random_forest_classification at time 14:36:05\n",
      "Normalizing training and testing splits...\n",
      "Starting Classification training...\n",
      "Training time was: 0.84 seconds\n",
      "Testing time was: 0.15 seconds\n",
      "Run finished at 14:36:06. Total run time = 1.20 seconds\n",
      "^^^^^^^^^^^^^^^^^^^^^^^^^^^^^^^^^^^^^^^^^^^^^^^^^^^^^^^^^^^^^^^^^^^^^^^^^^^^^^^^^^^^^^^^^^^^^^^^^^^^\n",
      "\n",
      "\n",
      "----------------------------------------------------------------------------------------------------\n",
      "Starting run of model gradient_boosted_tree at time 14:36:06\n",
      "Normalizing training and testing splits...\n",
      "Starting Classification training...\n",
      "Training time was: 5.44 seconds\n",
      "Testing time was: 0.01 seconds\n",
      "Run finished at 14:36:12. Total run time = 5.69 seconds\n",
      "^^^^^^^^^^^^^^^^^^^^^^^^^^^^^^^^^^^^^^^^^^^^^^^^^^^^^^^^^^^^^^^^^^^^^^^^^^^^^^^^^^^^^^^^^^^^^^^^^^^^\n",
      "\n",
      "\n",
      "----------------------------------------------------------------------------------------------------\n",
      "Starting run of model logistic_classifier at time 14:36:12\n",
      "Normalizing training and testing splits...\n",
      "Starting Classification training...\n",
      "Training time was: 0.02 seconds\n",
      "Testing time was: 0.01 seconds\n",
      "Run finished at 14:36:12. Total run time = 0.15 seconds\n",
      "^^^^^^^^^^^^^^^^^^^^^^^^^^^^^^^^^^^^^^^^^^^^^^^^^^^^^^^^^^^^^^^^^^^^^^^^^^^^^^^^^^^^^^^^^^^^^^^^^^^^\n",
      "\n",
      "\n"
     ]
    },
    {
     "name": "stderr",
     "output_type": "stream",
     "text": [
      "C:\\Users\\bbche\\anaconda3\\lib\\site-packages\\sklearn\\linear_model\\_logistic.py:1353: UserWarning: 'n_jobs' > 1 does not have any effect when 'solver' is set to 'liblinear'. Got 'n_jobs' = 8.\n",
      "  warnings.warn(\"'n_jobs' > 1 does not have any effect when\"\n"
     ]
    },
    {
     "name": "stdout",
     "output_type": "stream",
     "text": [
      "----------------------------------------------------------------------------------------------------\n",
      "Starting run of model random_forest_classification at time 14:36:12\n",
      "Normalizing training and testing splits...\n",
      "Starting Classification training...\n",
      "Training time was: 0.89 seconds\n",
      "Testing time was: 0.16 seconds\n",
      "Run finished at 14:36:13. Total run time = 1.17 seconds\n",
      "^^^^^^^^^^^^^^^^^^^^^^^^^^^^^^^^^^^^^^^^^^^^^^^^^^^^^^^^^^^^^^^^^^^^^^^^^^^^^^^^^^^^^^^^^^^^^^^^^^^^\n",
      "\n",
      "\n",
      "----------------------------------------------------------------------------------------------------\n",
      "Starting run of model gradient_boosted_tree at time 14:36:13\n",
      "Normalizing training and testing splits...\n",
      "Starting Classification training...\n",
      "Training time was: 5.08 seconds\n",
      "Testing time was: 0.01 seconds\n",
      "Run finished at 14:36:19. Total run time = 5.32 seconds\n",
      "^^^^^^^^^^^^^^^^^^^^^^^^^^^^^^^^^^^^^^^^^^^^^^^^^^^^^^^^^^^^^^^^^^^^^^^^^^^^^^^^^^^^^^^^^^^^^^^^^^^^\n",
      "\n",
      "\n",
      "----------------------------------------------------------------------------------------------------\n",
      "Starting run of model logistic_classifier at time 14:36:19\n",
      "Normalizing training and testing splits...\n",
      "Starting Classification training...\n",
      "Training time was: 0.01 seconds\n",
      "Testing time was: 0.01 seconds\n",
      "Run finished at 14:36:19. Total run time = 0.16 seconds\n",
      "^^^^^^^^^^^^^^^^^^^^^^^^^^^^^^^^^^^^^^^^^^^^^^^^^^^^^^^^^^^^^^^^^^^^^^^^^^^^^^^^^^^^^^^^^^^^^^^^^^^^\n",
      "\n",
      "\n"
     ]
    },
    {
     "name": "stderr",
     "output_type": "stream",
     "text": [
      "C:\\Users\\bbche\\anaconda3\\lib\\site-packages\\sklearn\\linear_model\\_logistic.py:1353: UserWarning: 'n_jobs' > 1 does not have any effect when 'solver' is set to 'liblinear'. Got 'n_jobs' = 8.\n",
      "  warnings.warn(\"'n_jobs' > 1 does not have any effect when\"\n"
     ]
    },
    {
     "name": "stdout",
     "output_type": "stream",
     "text": [
      "----------------------------------------------------------------------------------------------------\n",
      "Starting run of model random_forest_classification at time 14:36:19\n",
      "Normalizing training and testing splits...\n",
      "Starting Classification training...\n",
      "Training time was: 0.98 seconds\n",
      "Testing time was: 0.14 seconds\n",
      "Run finished at 14:36:20. Total run time = 1.36 seconds\n",
      "^^^^^^^^^^^^^^^^^^^^^^^^^^^^^^^^^^^^^^^^^^^^^^^^^^^^^^^^^^^^^^^^^^^^^^^^^^^^^^^^^^^^^^^^^^^^^^^^^^^^\n",
      "\n",
      "\n",
      "----------------------------------------------------------------------------------------------------\n",
      "Starting run of model gradient_boosted_tree at time 14:36:20\n",
      "Normalizing training and testing splits...\n",
      "Starting Classification training...\n",
      "Training time was: 5.92 seconds\n",
      "Testing time was: 0.02 seconds\n",
      "Run finished at 14:36:27. Total run time = 6.17 seconds\n",
      "^^^^^^^^^^^^^^^^^^^^^^^^^^^^^^^^^^^^^^^^^^^^^^^^^^^^^^^^^^^^^^^^^^^^^^^^^^^^^^^^^^^^^^^^^^^^^^^^^^^^\n",
      "\n",
      "\n",
      "----------------------------------------------------------------------------------------------------\n",
      "Starting run of model logistic_classifier at time 14:36:27\n",
      "Normalizing training and testing splits...\n",
      "Starting Classification training...\n"
     ]
    },
    {
     "name": "stderr",
     "output_type": "stream",
     "text": [
      "C:\\Users\\bbche\\anaconda3\\lib\\site-packages\\sklearn\\linear_model\\_logistic.py:1353: UserWarning: 'n_jobs' > 1 does not have any effect when 'solver' is set to 'liblinear'. Got 'n_jobs' = 8.\n",
      "  warnings.warn(\"'n_jobs' > 1 does not have any effect when\"\n"
     ]
    },
    {
     "name": "stdout",
     "output_type": "stream",
     "text": [
      "Training time was: 0.01 seconds\n",
      "Testing time was: 0.02 seconds\n",
      "Run finished at 14:36:27. Total run time = 0.15 seconds\n",
      "^^^^^^^^^^^^^^^^^^^^^^^^^^^^^^^^^^^^^^^^^^^^^^^^^^^^^^^^^^^^^^^^^^^^^^^^^^^^^^^^^^^^^^^^^^^^^^^^^^^^\n",
      "\n",
      "\n",
      "----------------------------------------------------------------------------------------------------\n",
      "Starting run of model random_forest_classification at time 14:36:27\n",
      "Normalizing training and testing splits...\n",
      "Starting Classification training...\n",
      "Training time was: 0.80 seconds\n",
      "Testing time was: 0.15 seconds\n",
      "Run finished at 14:36:28. Total run time = 1.10 seconds\n",
      "^^^^^^^^^^^^^^^^^^^^^^^^^^^^^^^^^^^^^^^^^^^^^^^^^^^^^^^^^^^^^^^^^^^^^^^^^^^^^^^^^^^^^^^^^^^^^^^^^^^^\n",
      "\n",
      "\n",
      "----------------------------------------------------------------------------------------------------\n",
      "Starting run of model gradient_boosted_tree at time 14:36:28\n",
      "Normalizing training and testing splits...\n",
      "Starting Classification training...\n",
      "Training time was: 5.07 seconds\n",
      "Testing time was: 0.02 seconds\n",
      "Run finished at 14:36:34. Total run time = 5.34 seconds\n",
      "^^^^^^^^^^^^^^^^^^^^^^^^^^^^^^^^^^^^^^^^^^^^^^^^^^^^^^^^^^^^^^^^^^^^^^^^^^^^^^^^^^^^^^^^^^^^^^^^^^^^\n",
      "\n",
      "\n",
      "----------------------------------------------------------------------------------------------------\n",
      "Starting run of model logistic_classifier at time 14:36:34\n",
      "Normalizing training and testing splits...\n",
      "Starting Classification training...\n",
      "Training time was: 0.01 seconds\n"
     ]
    },
    {
     "name": "stderr",
     "output_type": "stream",
     "text": [
      "C:\\Users\\bbche\\anaconda3\\lib\\site-packages\\sklearn\\linear_model\\_logistic.py:1353: UserWarning: 'n_jobs' > 1 does not have any effect when 'solver' is set to 'liblinear'. Got 'n_jobs' = 8.\n",
      "  warnings.warn(\"'n_jobs' > 1 does not have any effect when\"\n"
     ]
    },
    {
     "name": "stdout",
     "output_type": "stream",
     "text": [
      "Testing time was: 0.01 seconds\n",
      "Run finished at 14:36:34. Total run time = 0.25 seconds\n",
      "^^^^^^^^^^^^^^^^^^^^^^^^^^^^^^^^^^^^^^^^^^^^^^^^^^^^^^^^^^^^^^^^^^^^^^^^^^^^^^^^^^^^^^^^^^^^^^^^^^^^\n",
      "\n",
      "\n",
      "----------------------------------------------------------------------------------------------------\n",
      "Starting run of model random_forest_classification at time 14:36:34\n",
      "Normalizing training and testing splits...\n",
      "Starting Classification training...\n",
      "Training time was: 1.09 seconds\n",
      "Testing time was: 0.17 seconds\n",
      "Run finished at 14:36:36. Total run time = 1.46 seconds\n",
      "^^^^^^^^^^^^^^^^^^^^^^^^^^^^^^^^^^^^^^^^^^^^^^^^^^^^^^^^^^^^^^^^^^^^^^^^^^^^^^^^^^^^^^^^^^^^^^^^^^^^\n",
      "\n",
      "\n",
      "----------------------------------------------------------------------------------------------------\n",
      "Starting run of model gradient_boosted_tree at time 14:36:36\n",
      "Normalizing training and testing splits...\n",
      "Starting Classification training...\n",
      "Training time was: 4.75 seconds\n",
      "Testing time was: 0.01 seconds\n",
      "Run finished at 14:36:41. Total run time = 4.86 seconds\n",
      "^^^^^^^^^^^^^^^^^^^^^^^^^^^^^^^^^^^^^^^^^^^^^^^^^^^^^^^^^^^^^^^^^^^^^^^^^^^^^^^^^^^^^^^^^^^^^^^^^^^^\n",
      "\n",
      "\n",
      "\n",
      "----------------------------------------------------------------------------------------------------\n",
      "Starting run of model logistic_classifier at time 14:36:41\n",
      "Normalizing training and testing splits...\n",
      "Starting Classification training...\n",
      "Training time was: 0.02 seconds\n",
      "Testing time was: 0.02 seconds\n",
      "Run finished at 14:36:41. Total run time = 0.21 seconds\n",
      "^^^^^^^^^^^^^^^^^^^^^^^^^^^^^^^^^^^^^^^^^^^^^^^^^^^^^^^^^^^^^^^^^^^^^^^^^^^^^^^^^^^^^^^^^^^^^^^^^^^^\n",
      "\n",
      "\n"
     ]
    },
    {
     "name": "stderr",
     "output_type": "stream",
     "text": [
      "C:\\Users\\bbche\\anaconda3\\lib\\site-packages\\sklearn\\linear_model\\_logistic.py:1353: UserWarning: 'n_jobs' > 1 does not have any effect when 'solver' is set to 'liblinear'. Got 'n_jobs' = 8.\n",
      "  warnings.warn(\"'n_jobs' > 1 does not have any effect when\"\n"
     ]
    },
    {
     "name": "stdout",
     "output_type": "stream",
     "text": [
      "----------------------------------------------------------------------------------------------------\n",
      "Starting run of model random_forest_classification at time 14:36:41\n",
      "Normalizing training and testing splits...\n",
      "Starting Classification training...\n",
      "Training time was: 1.05 seconds\n",
      "Testing time was: 0.16 seconds\n",
      "Run finished at 14:36:43. Total run time = 1.57 seconds\n",
      "^^^^^^^^^^^^^^^^^^^^^^^^^^^^^^^^^^^^^^^^^^^^^^^^^^^^^^^^^^^^^^^^^^^^^^^^^^^^^^^^^^^^^^^^^^^^^^^^^^^^\n",
      "\n",
      "\n",
      "----------------------------------------------------------------------------------------------------\n",
      "Starting run of model gradient_boosted_tree at time 14:36:43\n",
      "Normalizing training and testing splits...\n",
      "Starting Classification training...\n",
      "Training time was: 5.35 seconds\n",
      "Testing time was: 0.02 seconds\n",
      "Run finished at 14:36:48. Total run time = 5.65 seconds\n",
      "^^^^^^^^^^^^^^^^^^^^^^^^^^^^^^^^^^^^^^^^^^^^^^^^^^^^^^^^^^^^^^^^^^^^^^^^^^^^^^^^^^^^^^^^^^^^^^^^^^^^\n",
      "\n",
      "\n",
      "----------------------------------------------------------------------------------------------------\n",
      "Starting run of model logistic_classifier at time 14:36:48\n",
      "Normalizing training and testing splits...\n",
      "Starting Classification training...\n",
      "Training time was: 0.01 seconds\n",
      "Testing time was: 0.01 seconds\n"
     ]
    },
    {
     "name": "stderr",
     "output_type": "stream",
     "text": [
      "C:\\Users\\bbche\\anaconda3\\lib\\site-packages\\sklearn\\linear_model\\_logistic.py:1353: UserWarning: 'n_jobs' > 1 does not have any effect when 'solver' is set to 'liblinear'. Got 'n_jobs' = 8.\n",
      "  warnings.warn(\"'n_jobs' > 1 does not have any effect when\"\n"
     ]
    },
    {
     "name": "stdout",
     "output_type": "stream",
     "text": [
      "Run finished at 14:36:49. Total run time = 0.28 seconds\n",
      "^^^^^^^^^^^^^^^^^^^^^^^^^^^^^^^^^^^^^^^^^^^^^^^^^^^^^^^^^^^^^^^^^^^^^^^^^^^^^^^^^^^^^^^^^^^^^^^^^^^^\n",
      "\n",
      "\n",
      "----------------------------------------------------------------------------------------------------\n",
      "Starting run of model random_forest_classification at time 14:36:49\n",
      "Normalizing training and testing splits...\n",
      "Starting Classification training...\n",
      "Training time was: 0.99 seconds\n",
      "Testing time was: 0.17 seconds\n",
      "Run finished at 14:36:50. Total run time = 1.46 seconds\n",
      "^^^^^^^^^^^^^^^^^^^^^^^^^^^^^^^^^^^^^^^^^^^^^^^^^^^^^^^^^^^^^^^^^^^^^^^^^^^^^^^^^^^^^^^^^^^^^^^^^^^^\n",
      "\n",
      "\n",
      "----------------------------------------------------------------------------------------------------\n",
      "Starting run of model gradient_boosted_tree at time 14:36:50\n",
      "Normalizing training and testing splits...\n",
      "Starting Classification training...\n",
      "Training time was: 5.03 seconds\n",
      "Testing time was: 0.01 seconds\n",
      "Run finished at 14:36:56. Total run time = 5.29 seconds\n",
      "^^^^^^^^^^^^^^^^^^^^^^^^^^^^^^^^^^^^^^^^^^^^^^^^^^^^^^^^^^^^^^^^^^^^^^^^^^^^^^^^^^^^^^^^^^^^^^^^^^^^\n",
      "\n",
      "\n",
      "----------------------------------------------------------------------------------------------------\n",
      "Starting run of model logistic_classifier at time 14:36:56\n",
      "Normalizing training and testing splits...\n",
      "Starting Classification training...\n",
      "Training time was: 0.01 seconds\n",
      "Testing time was: 0.01 seconds\n"
     ]
    },
    {
     "name": "stderr",
     "output_type": "stream",
     "text": [
      "C:\\Users\\bbche\\anaconda3\\lib\\site-packages\\sklearn\\linear_model\\_logistic.py:1353: UserWarning: 'n_jobs' > 1 does not have any effect when 'solver' is set to 'liblinear'. Got 'n_jobs' = 8.\n",
      "  warnings.warn(\"'n_jobs' > 1 does not have any effect when\"\n"
     ]
    },
    {
     "name": "stdout",
     "output_type": "stream",
     "text": [
      "Run finished at 14:36:56. Total run time = 0.28 seconds\n",
      "^^^^^^^^^^^^^^^^^^^^^^^^^^^^^^^^^^^^^^^^^^^^^^^^^^^^^^^^^^^^^^^^^^^^^^^^^^^^^^^^^^^^^^^^^^^^^^^^^^^^\n",
      "\n",
      "\n",
      "----------------------------------------------------------------------------------------------------\n",
      "Starting run of model random_forest_classification at time 14:36:56\n",
      "Normalizing training and testing splits...\n",
      "Starting Classification training...\n",
      "Training time was: 0.84 seconds\n",
      "Testing time was: 0.13 seconds\n",
      "Run finished at 14:36:57. Total run time = 1.33 seconds\n",
      "^^^^^^^^^^^^^^^^^^^^^^^^^^^^^^^^^^^^^^^^^^^^^^^^^^^^^^^^^^^^^^^^^^^^^^^^^^^^^^^^^^^^^^^^^^^^^^^^^^^^\n",
      "\n",
      "\n",
      "----------------------------------------------------------------------------------------------------\n",
      "Starting run of model gradient_boosted_tree at time 14:36:58\n",
      "Normalizing training and testing splits...\n",
      "Starting Classification training...\n",
      "Training time was: 5.33 seconds\n",
      "Testing time was: 0.02 seconds\n",
      "Run finished at 14:37:03. Total run time = 5.62 seconds\n",
      "^^^^^^^^^^^^^^^^^^^^^^^^^^^^^^^^^^^^^^^^^^^^^^^^^^^^^^^^^^^^^^^^^^^^^^^^^^^^^^^^^^^^^^^^^^^^^^^^^^^^\n",
      "\n",
      "\n",
      "----------------------------------------------------------------------------------------------------\n",
      "Starting run of model logistic_classifier at time 14:37:03\n",
      "Normalizing training and testing splits...\n",
      "Starting Classification training...\n"
     ]
    },
    {
     "name": "stderr",
     "output_type": "stream",
     "text": [
      "C:\\Users\\bbche\\anaconda3\\lib\\site-packages\\sklearn\\linear_model\\_logistic.py:1353: UserWarning: 'n_jobs' > 1 does not have any effect when 'solver' is set to 'liblinear'. Got 'n_jobs' = 8.\n",
      "  warnings.warn(\"'n_jobs' > 1 does not have any effect when\"\n"
     ]
    },
    {
     "name": "stdout",
     "output_type": "stream",
     "text": [
      "Training time was: 0.01 seconds\n",
      "Testing time was: 0.01 seconds\n",
      "Run finished at 14:37:04. Total run time = 0.26 seconds\n",
      "^^^^^^^^^^^^^^^^^^^^^^^^^^^^^^^^^^^^^^^^^^^^^^^^^^^^^^^^^^^^^^^^^^^^^^^^^^^^^^^^^^^^^^^^^^^^^^^^^^^^\n",
      "\n",
      "\n",
      "----------------------------------------------------------------------------------------------------\n",
      "Starting run of model random_forest_classification at time 14:37:04\n",
      "Normalizing training and testing splits...\n",
      "Starting Classification training...\n",
      "Training time was: 1.02 seconds\n",
      "Testing time was: 0.16 seconds\n",
      "Run finished at 14:37:05. Total run time = 1.45 seconds\n",
      "^^^^^^^^^^^^^^^^^^^^^^^^^^^^^^^^^^^^^^^^^^^^^^^^^^^^^^^^^^^^^^^^^^^^^^^^^^^^^^^^^^^^^^^^^^^^^^^^^^^^\n",
      "\n",
      "\n",
      "----------------------------------------------------------------------------------------------------\n",
      "Starting run of model gradient_boosted_tree at time 14:37:05\n",
      "Normalizing training and testing splits...\n",
      "Starting Classification training...\n",
      "Training time was: 5.34 seconds\n",
      "Testing time was: 0.01 seconds\n",
      "Run finished at 14:37:11. Total run time = 5.60 seconds\n",
      "^^^^^^^^^^^^^^^^^^^^^^^^^^^^^^^^^^^^^^^^^^^^^^^^^^^^^^^^^^^^^^^^^^^^^^^^^^^^^^^^^^^^^^^^^^^^^^^^^^^^\n",
      "\n",
      "\n",
      "----------------------------------------------------------------------------------------------------\n",
      "Starting run of model logistic_classifier at time 14:37:11\n",
      "Normalizing training and testing splits...\n",
      "Starting Classification training...\n",
      "Training time was: 0.01 seconds\n",
      "Testing time was: 0.01 seconds\n"
     ]
    },
    {
     "name": "stderr",
     "output_type": "stream",
     "text": [
      "C:\\Users\\bbche\\anaconda3\\lib\\site-packages\\sklearn\\linear_model\\_logistic.py:1353: UserWarning: 'n_jobs' > 1 does not have any effect when 'solver' is set to 'liblinear'. Got 'n_jobs' = 8.\n",
      "  warnings.warn(\"'n_jobs' > 1 does not have any effect when\"\n"
     ]
    },
    {
     "name": "stdout",
     "output_type": "stream",
     "text": [
      "Run finished at 14:37:11. Total run time = 0.31 seconds\n",
      "^^^^^^^^^^^^^^^^^^^^^^^^^^^^^^^^^^^^^^^^^^^^^^^^^^^^^^^^^^^^^^^^^^^^^^^^^^^^^^^^^^^^^^^^^^^^^^^^^^^^\n",
      "\n",
      "\n",
      "----------------------------------------------------------------------------------------------------\n",
      "Starting run of model random_forest_classification at time 14:37:11\n",
      "Normalizing training and testing splits...\n",
      "Starting Classification training...\n",
      "Training time was: 1.12 seconds\n",
      "Testing time was: 0.17 seconds\n",
      "Run finished at 14:37:13. Total run time = 1.50 seconds\n",
      "^^^^^^^^^^^^^^^^^^^^^^^^^^^^^^^^^^^^^^^^^^^^^^^^^^^^^^^^^^^^^^^^^^^^^^^^^^^^^^^^^^^^^^^^^^^^^^^^^^^^\n",
      "\n",
      "\n",
      "----------------------------------------------------------------------------------------------------\n",
      "Starting run of model gradient_boosted_tree at time 14:37:13\n",
      "Normalizing training and testing splits...\n",
      "Starting Classification training...\n",
      "Training time was: 4.42 seconds\n",
      "Testing time was: 0.01 seconds\n",
      "Run finished at 14:37:18. Total run time = 4.68 seconds\n",
      "^^^^^^^^^^^^^^^^^^^^^^^^^^^^^^^^^^^^^^^^^^^^^^^^^^^^^^^^^^^^^^^^^^^^^^^^^^^^^^^^^^^^^^^^^^^^^^^^^^^^\n",
      "\n",
      "\n",
      "----------------------------------------------------------------------------------------------------\n",
      "Starting run of model logistic_classifier at time 14:37:18\n",
      "Normalizing training and testing splits...\n",
      "Starting Classification training...\n",
      "Training time was: 0.01 seconds\n",
      "Testing time was: 0.00 seconds\n"
     ]
    },
    {
     "name": "stderr",
     "output_type": "stream",
     "text": [
      "C:\\Users\\bbche\\anaconda3\\lib\\site-packages\\sklearn\\linear_model\\_logistic.py:1353: UserWarning: 'n_jobs' > 1 does not have any effect when 'solver' is set to 'liblinear'. Got 'n_jobs' = 8.\n",
      "  warnings.warn(\"'n_jobs' > 1 does not have any effect when\"\n"
     ]
    },
    {
     "name": "stdout",
     "output_type": "stream",
     "text": [
      "Run finished at 14:37:18. Total run time = 0.17 seconds\n",
      "^^^^^^^^^^^^^^^^^^^^^^^^^^^^^^^^^^^^^^^^^^^^^^^^^^^^^^^^^^^^^^^^^^^^^^^^^^^^^^^^^^^^^^^^^^^^^^^^^^^^\n",
      "\n",
      "\n",
      "----------------------------------------------------------------------------------------------------\n",
      "Starting run of model random_forest_classification at time 14:37:18\n",
      "Normalizing training and testing splits...\n",
      "Starting Classification training...\n",
      "Training time was: 1.10 seconds\n",
      "Testing time was: 0.15 seconds\n",
      "Run finished at 14:37:19. Total run time = 1.42 seconds\n",
      "^^^^^^^^^^^^^^^^^^^^^^^^^^^^^^^^^^^^^^^^^^^^^^^^^^^^^^^^^^^^^^^^^^^^^^^^^^^^^^^^^^^^^^^^^^^^^^^^^^^^\n",
      "\n",
      "\n",
      "----------------------------------------------------------------------------------------------------\n",
      "Starting run of model gradient_boosted_tree at time 14:37:20\n",
      "Normalizing training and testing splits...\n",
      "Starting Classification training...\n",
      "Training time was: 4.58 seconds\n",
      "Testing time was: 0.01 seconds\n",
      "Run finished at 14:37:24. Total run time = 4.84 seconds\n",
      "^^^^^^^^^^^^^^^^^^^^^^^^^^^^^^^^^^^^^^^^^^^^^^^^^^^^^^^^^^^^^^^^^^^^^^^^^^^^^^^^^^^^^^^^^^^^^^^^^^^^\n",
      "\n",
      "\n",
      "\n",
      "----------------------------------------------------------------------------------------------------\n",
      "Starting run of model logistic_classifier at time 14:37:25\n",
      "Normalizing training and testing splits...\n",
      "Starting Classification training...\n",
      "Training time was: 0.01 seconds\n",
      "Testing time was: 0.02 seconds\n",
      "Run finished at 14:37:25. Total run time = 0.22 seconds\n",
      "^^^^^^^^^^^^^^^^^^^^^^^^^^^^^^^^^^^^^^^^^^^^^^^^^^^^^^^^^^^^^^^^^^^^^^^^^^^^^^^^^^^^^^^^^^^^^^^^^^^^\n",
      "\n",
      "\n"
     ]
    },
    {
     "name": "stderr",
     "output_type": "stream",
     "text": [
      "C:\\Users\\bbche\\anaconda3\\lib\\site-packages\\sklearn\\linear_model\\_logistic.py:1353: UserWarning: 'n_jobs' > 1 does not have any effect when 'solver' is set to 'liblinear'. Got 'n_jobs' = 8.\n",
      "  warnings.warn(\"'n_jobs' > 1 does not have any effect when\"\n"
     ]
    },
    {
     "name": "stdout",
     "output_type": "stream",
     "text": [
      "----------------------------------------------------------------------------------------------------\n",
      "Starting run of model random_forest_classification at time 14:37:25\n",
      "Normalizing training and testing splits...\n",
      "Starting Classification training...\n",
      "Training time was: 1.23 seconds\n",
      "Testing time was: 0.15 seconds\n",
      "Run finished at 14:37:27. Total run time = 1.68 seconds\n",
      "^^^^^^^^^^^^^^^^^^^^^^^^^^^^^^^^^^^^^^^^^^^^^^^^^^^^^^^^^^^^^^^^^^^^^^^^^^^^^^^^^^^^^^^^^^^^^^^^^^^^\n",
      "\n",
      "\n",
      "----------------------------------------------------------------------------------------------------\n",
      "Starting run of model gradient_boosted_tree at time 14:37:27\n",
      "Normalizing training and testing splits...\n",
      "Starting Classification training...\n",
      "Training time was: 4.38 seconds\n",
      "Testing time was: 0.01 seconds\n",
      "Run finished at 14:37:31. Total run time = 4.70 seconds\n",
      "^^^^^^^^^^^^^^^^^^^^^^^^^^^^^^^^^^^^^^^^^^^^^^^^^^^^^^^^^^^^^^^^^^^^^^^^^^^^^^^^^^^^^^^^^^^^^^^^^^^^\n",
      "\n",
      "\n",
      "----------------------------------------------------------------------------------------------------\n",
      "Starting run of model logistic_classifier at time 14:37:31\n",
      "Normalizing training and testing splits...\n",
      "Starting Classification training...\n",
      "Training time was: 0.02 seconds\n",
      "Testing time was: 0.01 seconds\n"
     ]
    },
    {
     "name": "stderr",
     "output_type": "stream",
     "text": [
      "C:\\Users\\bbche\\anaconda3\\lib\\site-packages\\sklearn\\linear_model\\_logistic.py:1353: UserWarning: 'n_jobs' > 1 does not have any effect when 'solver' is set to 'liblinear'. Got 'n_jobs' = 8.\n",
      "  warnings.warn(\"'n_jobs' > 1 does not have any effect when\"\n"
     ]
    },
    {
     "name": "stdout",
     "output_type": "stream",
     "text": [
      "Run finished at 14:37:32. Total run time = 0.18 seconds\n",
      "^^^^^^^^^^^^^^^^^^^^^^^^^^^^^^^^^^^^^^^^^^^^^^^^^^^^^^^^^^^^^^^^^^^^^^^^^^^^^^^^^^^^^^^^^^^^^^^^^^^^\n",
      "\n",
      "\n",
      "----------------------------------------------------------------------------------------------------\n",
      "Starting run of model random_forest_classification at time 14:37:32\n",
      "Normalizing training and testing splits...\n",
      "Starting Classification training...\n",
      "Training time was: 1.16 seconds\n",
      "Testing time was: 0.13 seconds\n",
      "Run finished at 14:37:33. Total run time = 1.46 seconds\n",
      "^^^^^^^^^^^^^^^^^^^^^^^^^^^^^^^^^^^^^^^^^^^^^^^^^^^^^^^^^^^^^^^^^^^^^^^^^^^^^^^^^^^^^^^^^^^^^^^^^^^^\n",
      "\n",
      "\n",
      "----------------------------------------------------------------------------------------------------\n",
      "Starting run of model gradient_boosted_tree at time 14:37:33\n",
      "Normalizing training and testing splits...\n",
      "Starting Classification training...\n",
      "Training time was: 3.93 seconds\n",
      "Testing time was: 0.01 seconds\n",
      "Run finished at 14:37:38. Total run time = 4.27 seconds\n",
      "^^^^^^^^^^^^^^^^^^^^^^^^^^^^^^^^^^^^^^^^^^^^^^^^^^^^^^^^^^^^^^^^^^^^^^^^^^^^^^^^^^^^^^^^^^^^^^^^^^^^\n",
      "\n",
      "\n",
      "----------------------------------------------------------------------------------------------------\n",
      "Starting run of model logistic_classifier at time 14:37:38\n",
      "Normalizing training and testing splits...\n",
      "Starting Classification training...\n",
      "Training time was: 0.01 seconds\n",
      "Testing time was: 0.01 seconds\n"
     ]
    },
    {
     "name": "stderr",
     "output_type": "stream",
     "text": [
      "C:\\Users\\bbche\\anaconda3\\lib\\site-packages\\sklearn\\linear_model\\_logistic.py:1353: UserWarning: 'n_jobs' > 1 does not have any effect when 'solver' is set to 'liblinear'. Got 'n_jobs' = 8.\n",
      "  warnings.warn(\"'n_jobs' > 1 does not have any effect when\"\n"
     ]
    },
    {
     "name": "stdout",
     "output_type": "stream",
     "text": [
      "Run finished at 14:37:38. Total run time = 0.18 seconds\n",
      "^^^^^^^^^^^^^^^^^^^^^^^^^^^^^^^^^^^^^^^^^^^^^^^^^^^^^^^^^^^^^^^^^^^^^^^^^^^^^^^^^^^^^^^^^^^^^^^^^^^^\n",
      "\n",
      "\n",
      "----------------------------------------------------------------------------------------------------\n",
      "Starting run of model random_forest_classification at time 14:37:38\n",
      "Normalizing training and testing splits...\n",
      "Starting Classification training...\n",
      "Training time was: 1.11 seconds\n",
      "Testing time was: 0.15 seconds\n",
      "Run finished at 14:37:39. Total run time = 1.49 seconds\n",
      "^^^^^^^^^^^^^^^^^^^^^^^^^^^^^^^^^^^^^^^^^^^^^^^^^^^^^^^^^^^^^^^^^^^^^^^^^^^^^^^^^^^^^^^^^^^^^^^^^^^^\n",
      "\n",
      "\n",
      "----------------------------------------------------------------------------------------------------\n",
      "Starting run of model gradient_boosted_tree at time 14:37:39\n",
      "Normalizing training and testing splits...\n",
      "Starting Classification training...\n",
      "Training time was: 4.16 seconds\n",
      "Testing time was: 0.01 seconds\n",
      "Run finished at 14:37:44. Total run time = 4.28 seconds\n",
      "^^^^^^^^^^^^^^^^^^^^^^^^^^^^^^^^^^^^^^^^^^^^^^^^^^^^^^^^^^^^^^^^^^^^^^^^^^^^^^^^^^^^^^^^^^^^^^^^^^^^\n",
      "\n",
      "\n",
      "----------------------------------------------------------------------------------------------------\n",
      "Starting run of model logistic_classifier at time 14:37:44\n",
      "Normalizing training and testing splits...\n",
      "Starting Classification training...\n",
      "Training time was: 0.01 seconds\n",
      "Testing time was: 0.01 seconds\n"
     ]
    },
    {
     "name": "stderr",
     "output_type": "stream",
     "text": [
      "C:\\Users\\bbche\\anaconda3\\lib\\site-packages\\sklearn\\linear_model\\_logistic.py:1353: UserWarning: 'n_jobs' > 1 does not have any effect when 'solver' is set to 'liblinear'. Got 'n_jobs' = 8.\n",
      "  warnings.warn(\"'n_jobs' > 1 does not have any effect when\"\n"
     ]
    },
    {
     "name": "stdout",
     "output_type": "stream",
     "text": [
      "Run finished at 14:37:44. Total run time = 0.33 seconds\n",
      "^^^^^^^^^^^^^^^^^^^^^^^^^^^^^^^^^^^^^^^^^^^^^^^^^^^^^^^^^^^^^^^^^^^^^^^^^^^^^^^^^^^^^^^^^^^^^^^^^^^^\n",
      "\n",
      "\n",
      "----------------------------------------------------------------------------------------------------\n",
      "Starting run of model random_forest_classification at time 14:37:44\n",
      "Normalizing training and testing splits...\n",
      "Starting Classification training...\n",
      "Training time was: 1.06 seconds\n",
      "Testing time was: 0.15 seconds\n",
      "Run finished at 14:37:46. Total run time = 1.43 seconds\n",
      "^^^^^^^^^^^^^^^^^^^^^^^^^^^^^^^^^^^^^^^^^^^^^^^^^^^^^^^^^^^^^^^^^^^^^^^^^^^^^^^^^^^^^^^^^^^^^^^^^^^^\n",
      "\n",
      "\n",
      "----------------------------------------------------------------------------------------------------\n",
      "Starting run of model gradient_boosted_tree at time 14:37:46\n",
      "Normalizing training and testing splits...\n",
      "Starting Classification training...\n",
      "Training time was: 4.11 seconds\n",
      "Testing time was: 0.01 seconds\n",
      "Run finished at 14:37:50. Total run time = 4.43 seconds\n",
      "^^^^^^^^^^^^^^^^^^^^^^^^^^^^^^^^^^^^^^^^^^^^^^^^^^^^^^^^^^^^^^^^^^^^^^^^^^^^^^^^^^^^^^^^^^^^^^^^^^^^\n",
      "\n",
      "\n",
      "----------------------------------------------------------------------------------------------------\n",
      "Starting run of model logistic_classifier at time 14:37:50\n",
      "Normalizing training and testing splits...\n",
      "Starting Classification training...\n",
      "Training time was: 0.01 seconds\n",
      "Testing time was: 0.01 seconds\n"
     ]
    },
    {
     "name": "stderr",
     "output_type": "stream",
     "text": [
      "C:\\Users\\bbche\\anaconda3\\lib\\site-packages\\sklearn\\linear_model\\_logistic.py:1353: UserWarning: 'n_jobs' > 1 does not have any effect when 'solver' is set to 'liblinear'. Got 'n_jobs' = 8.\n",
      "  warnings.warn(\"'n_jobs' > 1 does not have any effect when\"\n"
     ]
    },
    {
     "name": "stdout",
     "output_type": "stream",
     "text": [
      "Run finished at 14:37:51. Total run time = 0.30 seconds\n",
      "^^^^^^^^^^^^^^^^^^^^^^^^^^^^^^^^^^^^^^^^^^^^^^^^^^^^^^^^^^^^^^^^^^^^^^^^^^^^^^^^^^^^^^^^^^^^^^^^^^^^\n",
      "\n",
      "\n",
      "----------------------------------------------------------------------------------------------------\n",
      "Starting run of model random_forest_classification at time 14:37:51\n",
      "Normalizing training and testing splits...\n",
      "Starting Classification training...\n",
      "Training time was: 1.20 seconds\n",
      "Testing time was: 0.26 seconds\n",
      "Run finished at 14:37:53. Total run time = 1.89 seconds\n",
      "^^^^^^^^^^^^^^^^^^^^^^^^^^^^^^^^^^^^^^^^^^^^^^^^^^^^^^^^^^^^^^^^^^^^^^^^^^^^^^^^^^^^^^^^^^^^^^^^^^^^\n",
      "\n",
      "\n",
      "----------------------------------------------------------------------------------------------------\n",
      "Starting run of model gradient_boosted_tree at time 14:37:53\n",
      "Normalizing training and testing splits...\n",
      "Starting Classification training...\n",
      "Training time was: 4.52 seconds\n",
      "Testing time was: 0.02 seconds\n",
      "Run finished at 14:37:58. Total run time = 4.79 seconds\n",
      "^^^^^^^^^^^^^^^^^^^^^^^^^^^^^^^^^^^^^^^^^^^^^^^^^^^^^^^^^^^^^^^^^^^^^^^^^^^^^^^^^^^^^^^^^^^^^^^^^^^^\n",
      "\n",
      "\n",
      "----------------------------------------------------------------------------------------------------\n",
      "Starting run of model logistic_classifier at time 14:37:58\n",
      "Normalizing training and testing splits...\n",
      "Starting Classification training...\n",
      "Training time was: 0.01 seconds\n",
      "Testing time was: 0.01 seconds\n"
     ]
    },
    {
     "name": "stderr",
     "output_type": "stream",
     "text": [
      "C:\\Users\\bbche\\anaconda3\\lib\\site-packages\\sklearn\\linear_model\\_logistic.py:1353: UserWarning: 'n_jobs' > 1 does not have any effect when 'solver' is set to 'liblinear'. Got 'n_jobs' = 8.\n",
      "  warnings.warn(\"'n_jobs' > 1 does not have any effect when\"\n"
     ]
    },
    {
     "name": "stdout",
     "output_type": "stream",
     "text": [
      "Run finished at 14:37:58. Total run time = 0.23 seconds\n",
      "^^^^^^^^^^^^^^^^^^^^^^^^^^^^^^^^^^^^^^^^^^^^^^^^^^^^^^^^^^^^^^^^^^^^^^^^^^^^^^^^^^^^^^^^^^^^^^^^^^^^\n",
      "\n",
      "\n",
      "----------------------------------------------------------------------------------------------------\n",
      "Starting run of model random_forest_classification at time 14:37:58\n",
      "Normalizing training and testing splits...\n",
      "Starting Classification training...\n",
      "Training time was: 1.07 seconds\n",
      "Testing time was: 0.18 seconds\n",
      "Run finished at 14:38:00. Total run time = 1.54 seconds\n",
      "^^^^^^^^^^^^^^^^^^^^^^^^^^^^^^^^^^^^^^^^^^^^^^^^^^^^^^^^^^^^^^^^^^^^^^^^^^^^^^^^^^^^^^^^^^^^^^^^^^^^\n",
      "\n",
      "\n",
      "----------------------------------------------------------------------------------------------------\n",
      "Starting run of model gradient_boosted_tree at time 14:38:00\n",
      "Normalizing training and testing splits...\n",
      "Starting Classification training...\n",
      "Training time was: 4.39 seconds\n",
      "Testing time was: 0.02 seconds\n",
      "Run finished at 14:38:04. Total run time = 4.66 seconds\n",
      "^^^^^^^^^^^^^^^^^^^^^^^^^^^^^^^^^^^^^^^^^^^^^^^^^^^^^^^^^^^^^^^^^^^^^^^^^^^^^^^^^^^^^^^^^^^^^^^^^^^^\n",
      "\n",
      "\n",
      "\n",
      "----------------------------------------------------------------------------------------------------\n",
      "Starting run of model logistic_classifier at time 14:38:04\n",
      "Normalizing training and testing splits...\n",
      "Starting Classification training...\n",
      "Training time was: 0.02 seconds\n",
      "Testing time was: 0.01 seconds\n"
     ]
    },
    {
     "name": "stderr",
     "output_type": "stream",
     "text": [
      "C:\\Users\\bbche\\anaconda3\\lib\\site-packages\\sklearn\\linear_model\\_logistic.py:1353: UserWarning: 'n_jobs' > 1 does not have any effect when 'solver' is set to 'liblinear'. Got 'n_jobs' = 8.\n",
      "  warnings.warn(\"'n_jobs' > 1 does not have any effect when\"\n"
     ]
    },
    {
     "name": "stdout",
     "output_type": "stream",
     "text": [
      "Run finished at 14:38:05. Total run time = 0.27 seconds\n",
      "^^^^^^^^^^^^^^^^^^^^^^^^^^^^^^^^^^^^^^^^^^^^^^^^^^^^^^^^^^^^^^^^^^^^^^^^^^^^^^^^^^^^^^^^^^^^^^^^^^^^\n",
      "\n",
      "\n",
      "----------------------------------------------------------------------------------------------------\n",
      "Starting run of model random_forest_classification at time 14:38:05\n",
      "Normalizing training and testing splits...\n",
      "Starting Classification training...\n",
      "Training time was: 1.02 seconds\n",
      "Testing time was: 0.19 seconds\n",
      "Run finished at 14:38:06. Total run time = 1.52 seconds\n",
      "^^^^^^^^^^^^^^^^^^^^^^^^^^^^^^^^^^^^^^^^^^^^^^^^^^^^^^^^^^^^^^^^^^^^^^^^^^^^^^^^^^^^^^^^^^^^^^^^^^^^\n",
      "\n",
      "\n",
      "----------------------------------------------------------------------------------------------------\n",
      "Starting run of model gradient_boosted_tree at time 14:38:06\n",
      "Normalizing training and testing splits...\n",
      "Starting Classification training...\n",
      "Training time was: 4.37 seconds\n",
      "Testing time was: 0.01 seconds\n",
      "Run finished at 14:38:11. Total run time = 4.53 seconds\n",
      "^^^^^^^^^^^^^^^^^^^^^^^^^^^^^^^^^^^^^^^^^^^^^^^^^^^^^^^^^^^^^^^^^^^^^^^^^^^^^^^^^^^^^^^^^^^^^^^^^^^^\n",
      "\n",
      "\n",
      "----------------------------------------------------------------------------------------------------\n",
      "Starting run of model logistic_classifier at time 14:38:11\n",
      "Normalizing training and testing splits...\n",
      "Starting Classification training...\n",
      "Training time was: 0.02 seconds\n",
      "Testing time was: 0.02 seconds\n"
     ]
    },
    {
     "name": "stderr",
     "output_type": "stream",
     "text": [
      "C:\\Users\\bbche\\anaconda3\\lib\\site-packages\\sklearn\\linear_model\\_logistic.py:1353: UserWarning: 'n_jobs' > 1 does not have any effect when 'solver' is set to 'liblinear'. Got 'n_jobs' = 8.\n",
      "  warnings.warn(\"'n_jobs' > 1 does not have any effect when\"\n"
     ]
    },
    {
     "name": "stdout",
     "output_type": "stream",
     "text": [
      "Run finished at 14:38:11. Total run time = 0.31 seconds\n",
      "^^^^^^^^^^^^^^^^^^^^^^^^^^^^^^^^^^^^^^^^^^^^^^^^^^^^^^^^^^^^^^^^^^^^^^^^^^^^^^^^^^^^^^^^^^^^^^^^^^^^\n",
      "\n",
      "\n",
      "----------------------------------------------------------------------------------------------------\n",
      "Starting run of model random_forest_classification at time 14:38:11\n",
      "Normalizing training and testing splits...\n",
      "Starting Classification training...\n",
      "Training time was: 1.03 seconds\n",
      "Testing time was: 0.17 seconds\n",
      "Run finished at 14:38:13. Total run time = 1.49 seconds\n",
      "^^^^^^^^^^^^^^^^^^^^^^^^^^^^^^^^^^^^^^^^^^^^^^^^^^^^^^^^^^^^^^^^^^^^^^^^^^^^^^^^^^^^^^^^^^^^^^^^^^^^\n",
      "\n",
      "\n",
      "----------------------------------------------------------------------------------------------------\n",
      "Starting run of model gradient_boosted_tree at time 14:38:13\n",
      "Normalizing training and testing splits...\n",
      "Starting Classification training...\n",
      "Training time was: 4.44 seconds\n",
      "Testing time was: 0.01 seconds\n",
      "Run finished at 14:38:18. Total run time = 4.77 seconds\n",
      "^^^^^^^^^^^^^^^^^^^^^^^^^^^^^^^^^^^^^^^^^^^^^^^^^^^^^^^^^^^^^^^^^^^^^^^^^^^^^^^^^^^^^^^^^^^^^^^^^^^^\n",
      "\n",
      "\n",
      "----------------------------------------------------------------------------------------------------\n",
      "Starting run of model logistic_classifier at time 14:38:18\n",
      "Normalizing training and testing splits...\n",
      "Starting Classification training...\n",
      "Training time was: 0.01 seconds\n"
     ]
    },
    {
     "name": "stderr",
     "output_type": "stream",
     "text": [
      "C:\\Users\\bbche\\anaconda3\\lib\\site-packages\\sklearn\\linear_model\\_logistic.py:1353: UserWarning: 'n_jobs' > 1 does not have any effect when 'solver' is set to 'liblinear'. Got 'n_jobs' = 8.\n",
      "  warnings.warn(\"'n_jobs' > 1 does not have any effect when\"\n"
     ]
    },
    {
     "name": "stdout",
     "output_type": "stream",
     "text": [
      "Testing time was: 0.01 seconds\n",
      "Run finished at 14:38:18. Total run time = 0.23 seconds\n",
      "^^^^^^^^^^^^^^^^^^^^^^^^^^^^^^^^^^^^^^^^^^^^^^^^^^^^^^^^^^^^^^^^^^^^^^^^^^^^^^^^^^^^^^^^^^^^^^^^^^^^\n",
      "\n",
      "\n",
      "----------------------------------------------------------------------------------------------------\n",
      "Starting run of model random_forest_classification at time 14:38:18\n",
      "Normalizing training and testing splits...\n",
      "Starting Classification training...\n",
      "Training time was: 1.05 seconds\n",
      "Testing time was: 0.13 seconds\n",
      "Run finished at 14:38:20. Total run time = 1.40 seconds\n",
      "^^^^^^^^^^^^^^^^^^^^^^^^^^^^^^^^^^^^^^^^^^^^^^^^^^^^^^^^^^^^^^^^^^^^^^^^^^^^^^^^^^^^^^^^^^^^^^^^^^^^\n",
      "\n",
      "\n",
      "----------------------------------------------------------------------------------------------------\n",
      "Starting run of model gradient_boosted_tree at time 14:38:20\n",
      "Normalizing training and testing splits...\n",
      "Starting Classification training...\n",
      "Training time was: 5.13 seconds\n",
      "Testing time was: 0.02 seconds\n",
      "Run finished at 14:38:25. Total run time = 5.54 seconds\n",
      "^^^^^^^^^^^^^^^^^^^^^^^^^^^^^^^^^^^^^^^^^^^^^^^^^^^^^^^^^^^^^^^^^^^^^^^^^^^^^^^^^^^^^^^^^^^^^^^^^^^^\n",
      "\n",
      "\n",
      "----------------------------------------------------------------------------------------------------\n",
      "Starting run of model logistic_classifier at time 14:38:25\n",
      "Normalizing training and testing splits...\n",
      "Starting Classification training...\n",
      "Training time was: 0.01 seconds\n",
      "Testing time was: 0.01 seconds\n"
     ]
    },
    {
     "name": "stderr",
     "output_type": "stream",
     "text": [
      "C:\\Users\\bbche\\anaconda3\\lib\\site-packages\\sklearn\\linear_model\\_logistic.py:1353: UserWarning: 'n_jobs' > 1 does not have any effect when 'solver' is set to 'liblinear'. Got 'n_jobs' = 8.\n",
      "  warnings.warn(\"'n_jobs' > 1 does not have any effect when\"\n"
     ]
    },
    {
     "name": "stdout",
     "output_type": "stream",
     "text": [
      "Run finished at 14:38:26. Total run time = 0.36 seconds\n",
      "^^^^^^^^^^^^^^^^^^^^^^^^^^^^^^^^^^^^^^^^^^^^^^^^^^^^^^^^^^^^^^^^^^^^^^^^^^^^^^^^^^^^^^^^^^^^^^^^^^^^\n",
      "\n",
      "\n",
      "----------------------------------------------------------------------------------------------------\n",
      "Starting run of model random_forest_classification at time 14:38:26\n",
      "Normalizing training and testing splits...\n",
      "Starting Classification training...\n",
      "Training time was: 1.02 seconds\n",
      "Testing time was: 0.17 seconds\n",
      "Run finished at 14:38:27. Total run time = 1.57 seconds\n",
      "^^^^^^^^^^^^^^^^^^^^^^^^^^^^^^^^^^^^^^^^^^^^^^^^^^^^^^^^^^^^^^^^^^^^^^^^^^^^^^^^^^^^^^^^^^^^^^^^^^^^\n",
      "\n",
      "\n",
      "----------------------------------------------------------------------------------------------------\n",
      "Starting run of model gradient_boosted_tree at time 14:38:28\n",
      "Normalizing training and testing splits...\n",
      "Starting Classification training...\n",
      "Training time was: 5.51 seconds\n",
      "Testing time was: 0.01 seconds\n",
      "Run finished at 14:38:33. Total run time = 5.84 seconds\n",
      "^^^^^^^^^^^^^^^^^^^^^^^^^^^^^^^^^^^^^^^^^^^^^^^^^^^^^^^^^^^^^^^^^^^^^^^^^^^^^^^^^^^^^^^^^^^^^^^^^^^^\n",
      "\n",
      "\n",
      "----------------------------------------------------------------------------------------------------\n",
      "Starting run of model logistic_classifier at time 14:38:33\n",
      "Normalizing training and testing splits...\n",
      "Starting Classification training...\n",
      "Training time was: 0.01 seconds\n",
      "Testing time was: 0.01 seconds\n"
     ]
    },
    {
     "name": "stderr",
     "output_type": "stream",
     "text": [
      "C:\\Users\\bbche\\anaconda3\\lib\\site-packages\\sklearn\\linear_model\\_logistic.py:1353: UserWarning: 'n_jobs' > 1 does not have any effect when 'solver' is set to 'liblinear'. Got 'n_jobs' = 8.\n",
      "  warnings.warn(\"'n_jobs' > 1 does not have any effect when\"\n"
     ]
    },
    {
     "name": "stdout",
     "output_type": "stream",
     "text": [
      "Run finished at 14:38:34. Total run time = 0.33 seconds\n",
      "^^^^^^^^^^^^^^^^^^^^^^^^^^^^^^^^^^^^^^^^^^^^^^^^^^^^^^^^^^^^^^^^^^^^^^^^^^^^^^^^^^^^^^^^^^^^^^^^^^^^\n",
      "\n",
      "\n",
      "----------------------------------------------------------------------------------------------------\n",
      "Starting run of model random_forest_classification at time 14:38:34\n",
      "Normalizing training and testing splits...\n",
      "Starting Classification training...\n",
      "Training time was: 1.12 seconds\n",
      "Testing time was: 0.15 seconds\n",
      "Run finished at 14:38:36. Total run time = 1.60 seconds\n",
      "^^^^^^^^^^^^^^^^^^^^^^^^^^^^^^^^^^^^^^^^^^^^^^^^^^^^^^^^^^^^^^^^^^^^^^^^^^^^^^^^^^^^^^^^^^^^^^^^^^^^\n",
      "\n",
      "\n",
      "----------------------------------------------------------------------------------------------------\n",
      "Starting run of model gradient_boosted_tree at time 14:38:36\n",
      "Normalizing training and testing splits...\n",
      "Starting Classification training...\n",
      "Training time was: 5.99 seconds\n",
      "Testing time was: 0.01 seconds\n",
      "Run finished at 14:38:42. Total run time = 6.31 seconds\n",
      "^^^^^^^^^^^^^^^^^^^^^^^^^^^^^^^^^^^^^^^^^^^^^^^^^^^^^^^^^^^^^^^^^^^^^^^^^^^^^^^^^^^^^^^^^^^^^^^^^^^^\n",
      "\n",
      "\n",
      "----------------------------------------------------------------------------------------------------\n",
      "Starting run of model logistic_classifier at time 14:38:42\n",
      "Normalizing training and testing splits...\n",
      "Starting Classification training...\n",
      "Training time was: 0.01 seconds\n",
      "Testing time was: 0.01 seconds\n"
     ]
    },
    {
     "name": "stderr",
     "output_type": "stream",
     "text": [
      "C:\\Users\\bbche\\anaconda3\\lib\\site-packages\\sklearn\\linear_model\\_logistic.py:1353: UserWarning: 'n_jobs' > 1 does not have any effect when 'solver' is set to 'liblinear'. Got 'n_jobs' = 8.\n",
      "  warnings.warn(\"'n_jobs' > 1 does not have any effect when\"\n"
     ]
    },
    {
     "name": "stdout",
     "output_type": "stream",
     "text": [
      "Run finished at 14:38:42. Total run time = 0.19 seconds\n",
      "^^^^^^^^^^^^^^^^^^^^^^^^^^^^^^^^^^^^^^^^^^^^^^^^^^^^^^^^^^^^^^^^^^^^^^^^^^^^^^^^^^^^^^^^^^^^^^^^^^^^\n",
      "\n",
      "\n",
      "----------------------------------------------------------------------------------------------------\n",
      "Starting run of model random_forest_classification at time 14:38:42\n",
      "Normalizing training and testing splits...\n",
      "Starting Classification training...\n",
      "Training time was: 0.94 seconds\n",
      "Testing time was: 0.14 seconds\n",
      "Run finished at 14:38:44. Total run time = 1.32 seconds\n",
      "^^^^^^^^^^^^^^^^^^^^^^^^^^^^^^^^^^^^^^^^^^^^^^^^^^^^^^^^^^^^^^^^^^^^^^^^^^^^^^^^^^^^^^^^^^^^^^^^^^^^\n",
      "\n",
      "\n",
      "----------------------------------------------------------------------------------------------------\n",
      "Starting run of model gradient_boosted_tree at time 14:38:44\n",
      "Normalizing training and testing splits...\n",
      "Starting Classification training...\n",
      "Training time was: 6.13 seconds\n",
      "Testing time was: 0.02 seconds\n",
      "Run finished at 14:38:50. Total run time = 6.48 seconds\n",
      "^^^^^^^^^^^^^^^^^^^^^^^^^^^^^^^^^^^^^^^^^^^^^^^^^^^^^^^^^^^^^^^^^^^^^^^^^^^^^^^^^^^^^^^^^^^^^^^^^^^^\n",
      "\n",
      "\n"
     ]
    }
   ],
   "source": [
    "## Could use test-harness to run ML but harder to re-use the same models to extract feature importances so I directly used sklearn models instead\n",
    "# th_path = 'F:/data/emb_ML_Dec17'\n",
    "# feature_cols = processed_emb_dfs[0].columns[:64].tolist()\n",
    "# for i, emb_df in enumerate(processed_emb_dfs):\n",
    "#     emb_df['index_col'] = range(len(emb_df))\n",
    "#     run_test_harness_ml(emb_df, output_dir=th_path, description=subnetwork_names[i],feature_cols_to_use=feature_cols, \n",
    "#            models_to_test = [logistic_classifier, random_forest_classification, gradient_boosted_tree], \n",
    "#            feature_cols_to_normalize=feature_cols, sparse_cols_to_use=None)\n",
    "# plot_ML_results(th_path, subnetwork_names)"
   ]
  },
  {
   "cell_type": "code",
   "execution_count": 4,
   "metadata": {},
   "outputs": [],
   "source": [
    "# subnetwork_names = ['m0_4_100_0.015','m1_4_125_0.01','m2_4_150_0.01','m3_4_150_0.02','m4_250_0.008']\n",
    "output_dirs = [f'../../data/{subnetwork_names[i]}/' for i in range(len(subnetwork_names))]"
   ]
  },
  {
   "cell_type": "markdown",
   "metadata": {},
   "source": [
    "# Run ML on each embedding, 3 models each and each model was repeated 3 times"
   ]
  },
  {
   "cell_type": "code",
   "execution_count": 12,
   "metadata": {},
   "outputs": [
    {
     "name": "stdout",
     "output_type": "stream",
     "text": [
      " model saved\n",
      " model saved\n",
      " model saved\n",
      "lr average: 0.73 ;  rf average: 0.76 ;  xgb_average: 0.73\n"
     ]
    },
    {
     "data": {
      "image/png": "[encoded data removed]",
      "text/plain": [
       "<Figure size 432x288 with 1 Axes>"
      ]
     },
     "metadata": {},
     "output_type": "display_data"
    },
    {
     "name": "stdout",
     "output_type": "stream",
     "text": [
      " model saved\n",
      " model saved\n",
      " model saved\n",
      "lr average: 0.65 ;  rf average: 0.74 ;  xgb_average: 0.72\n"
     ]
    },
    {
     "data": {
      "image/png": "[encoded data removed]",
      "text/plain": [
       "<Figure size 432x288 with 1 Axes>"
      ]
     },
     "metadata": {},
     "output_type": "display_data"
    },
    {
     "name": "stdout",
     "output_type": "stream",
     "text": [
      " model saved\n",
      " model saved\n",
      " model saved\n",
      "lr average: 0.62 ;  rf average: 0.64 ;  xgb_average: 0.6\n"
     ]
    },
    {
     "data": {
      "image/png": "[encoded data removed]",
      "text/plain": [
       "<Figure size 432x288 with 1 Axes>"
      ]
     },
     "metadata": {},
     "output_type": "display_data"
    },
    {
     "name": "stdout",
     "output_type": "stream",
     "text": [
      " model saved\n",
      " model saved\n",
      " model saved\n",
      "lr average: 0.7 ;  rf average: 0.72 ;  xgb_average: 0.69\n"
     ]
    },
    {
     "data": {
      "image/png": "[encoded data removed]",
      "text/plain": [
       "<Figure size 432x288 with 1 Axes>"
      ]
     },
     "metadata": {},
     "output_type": "display_data"
    },
    {
     "name": "stdout",
     "output_type": "stream",
     "text": [
      " model saved\n",
      " model saved\n",
      " model saved\n",
      "lr average: 0.6 ;  rf average: 0.63 ;  xgb_average: 0.59\n"
     ]
    },
    {
     "data": {
      "image/png": "[encoded data removed]",
      "text/plain": [
       "<Figure size 432x288 with 1 Axes>"
      ]
     },
     "metadata": {},
     "output_type": "display_data"
    }
   ],
   "source": [
    "output = list(map(run_ml, processed_emb_dfs, ['']*5, [True]*5, output_dirs))"
   ]
  },
  {
   "cell_type": "markdown",
   "metadata": {},
   "source": [
    "# Getting the feature importances and the dimensions that make up 20% of feature importances"
   ]
  },
  {
   "cell_type": "code",
   "execution_count": 311,
   "metadata": {},
   "outputs": [],
   "source": [
    "feat_importance_data = list(map(plot_feature_importances, output_dirs, [False]*len(output_dirs), [False]*len(output_dirs), [True]*len(output_dirs)))"
   ]
  },
  {
   "cell_type": "code",
   "execution_count": 325,
   "metadata": {},
   "outputs": [],
   "source": [
    "# feat_importance_data is made up of feature coefficients and top dimensions for each set of coefficients so this step is to split the data. The loop is for 5 embeddings so 5 results.\n",
    "feat_importance_list = [feat_importance_data[i][0] for i in range(len(feat_importance_data))]\n",
    "top_dim_list = [feat_importance_data[i][1] for i in range(len(feat_importance_data))]"
   ]
  },
  {
   "cell_type": "markdown",
   "metadata": {},
   "source": [
    "## Determine jaccard similarity between the \"important dimensions\" for the repeats of the model"
   ]
  },
  {
   "cell_type": "code",
   "execution_count": 335,
   "metadata": {},
   "outputs": [
    {
     "data": {
      "image/png": "[encoded data removed]",
      "text/plain": [
       "<Figure size 432x288 with 1 Axes>"
      ]
     },
     "metadata": {},
     "output_type": "display_data"
    },
    {
     "data": {
      "image/png": "[encoded data removed]",
      "text/plain": [
       "<Figure size 432x288 with 1 Axes>"
      ]
     },
     "metadata": {},
     "output_type": "display_data"
    },
    {
     "data": {
      "image/png": "[encoded data removed]",
      "text/plain": [
       "<Figure size 432x288 with 1 Axes>"
      ]
     },
     "metadata": {},
     "output_type": "display_data"
    },
    {
     "data": {
      "image/png": "[encoded data removed]",
      "text/plain": [
       "<Figure size 432x288 with 1 Axes>"
      ]
     },
     "metadata": {},
     "output_type": "display_data"
    },
    {
     "data": {
      "image/png": "[encoded data removed]",
      "text/plain": [
       "<Figure size 432x288 with 1 Axes>"
      ]
     },
     "metadata": {},
     "output_type": "display_data"
    }
   ],
   "source": [
    "jaccard = list(map(jaccard_average, top_dim_list, subnetwork_names))"
   ]
  }
 ],
 "metadata": {
  "kernelspec": {
   "display_name": "Python 3",
   "language": "python",
   "name": "python3"
  },
  "language_info": {
   "codemirror_mode": {
    "name": "ipython",
    "version": 3
   },
   "file_extension": ".py",
   "mimetype": "text/x-python",
   "name": "python",
   "nbconvert_exporter": "python",
   "pygments_lexer": "ipython3",
   "version": "3.8.3"
  }
 },
 "nbformat": 4,
 "nbformat_minor": 4
}
