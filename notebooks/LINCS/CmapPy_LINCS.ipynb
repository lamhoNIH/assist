{
 "cells": [
  {
   "cell_type": "markdown",
   "id": "settled-drain",
   "metadata": {},
   "source": [
    "# This notebook is to use CmapPy to query LINCS1000"
   ]
  },
  {
   "cell_type": "code",
   "execution_count": 2,
   "id": "educational-morrison",
   "metadata": {},
   "outputs": [],
   "source": [
    "import sys\n",
    "sys.path.append(\"../..\")\n",
    "import pandas as pd\n",
    "import matplotlib.pyplot as plt\n",
    "from sys import platform \n",
    "%matplotlib inline\n",
    "%load_ext autoreload\n",
    "%autoreload 2\n",
    "prefix = 'G:' if platform == 'win32' else '/Volumes/GoogleDrive'"
   ]
  },
  {
   "cell_type": "code",
   "execution_count": 3,
   "id": "finnish-profession",
   "metadata": {},
   "outputs": [],
   "source": [
    "sig_info = pd.read_csv(prefix + \"/Shared drives/NIAAA_ASSIST/Data/LINCS L1000 (from GEO)/Phase I/GSE92742_Broad_LINCS_sig_info.txt.gz\", \n",
    "                       sep=\"\\t\", low_memory = False)"
   ]
  },
  {
   "cell_type": "code",
   "execution_count": 4,
   "id": "moving-thumb",
   "metadata": {},
   "outputs": [
    {
     "data": {
      "text/plain": [
       "Index(['sig_id', 'pert_id', 'pert_iname', 'pert_type', 'cell_id', 'pert_dose',\n",
       "       'pert_dose_unit', 'pert_idose', 'pert_time', 'pert_time_unit',\n",
       "       'pert_itime', 'distil_id'],\n",
       "      dtype='object')"
      ]
     },
     "execution_count": 4,
     "metadata": {},
     "output_type": "execute_result"
    }
   ],
   "source": [
    "# look at the metadata fields provided \n",
    "sig_info.columns"
   ]
  },
  {
   "cell_type": "code",
   "execution_count": 5,
   "id": "military-portsmouth",
   "metadata": {},
   "outputs": [
    {
     "data": {
      "text/plain": [
       "array(['CD34', 'HL60', 'PC3', 'U937', 'MCF7', 'A375', 'HEK293T', 'A549',\n",
       "       'ASC', 'HA1E', 'HCC515', 'HEKTE', 'HEPG2', 'HT29', 'NCIH716',\n",
       "       'NPC', 'SHSY5Y', 'SKL', 'SW480', 'VCAP', 'BT20', 'FIBRNPC',\n",
       "       'HS578T', 'MCF10A', 'MCH58', 'MDAMB231', 'NEU', 'NKDBA', 'NOMO1',\n",
       "       'PHH', 'SKBR3', 'SKB', 'SKM1', 'THP1', 'A673', 'AGS', 'CL34',\n",
       "       'CORL23', 'COV644', 'DV90', 'EFO27', 'H1299', 'HCC15', 'HCT116',\n",
       "       'HEC108', 'HT115', 'JHUEM2', 'LOVO', 'MDST8', 'NCIH1694',\n",
       "       'NCIH1836', 'NCIH2073', 'NCIH508', 'NCIH596', 'OV7', 'PL21', 'RKO',\n",
       "       'RMGI', 'RMUGS', 'SKLU1', 'SKMEL1', 'SKMEL28', 'SNGM', 'SNU1040',\n",
       "       'SNUC4', 'SNUC5', 'SW620', 'SW948', 'T3M10', 'TYKNU', 'WSUDLCL2',\n",
       "       'HUH7', 'HS27A', 'JURKAT', 'U266', 'U2OS'], dtype=object)"
      ]
     },
     "execution_count": 5,
     "metadata": {},
     "output_type": "execute_result"
    }
   ],
   "source": [
    "# unique cell types\n",
    "sig_info.cell_id.unique()"
   ]
  },
  {
   "cell_type": "code",
   "execution_count": 6,
   "id": "russian-acoustic",
   "metadata": {},
   "outputs": [],
   "source": [
    "# info about cell types\n",
    "cell_info = pd.read_csv(prefix + \"/Shared drives/NIAAA_ASSIST/Data/LINCS L1000 (from GEO)/Phase I/GSE92742_Broad_LINCS_cell_info.txt.gz\", \n",
    "                       sep=\"\\t\", low_memory = False)"
   ]
  },
  {
   "cell_type": "code",
   "execution_count": 7,
   "id": "embedded-death",
   "metadata": {},
   "outputs": [
    {
     "data": {
      "text/plain": [
       "array(['skin', 'lung', 'bone', 'stomach', 'breast', 'large intestine',\n",
       "       'ovary', 'kidney', 'endometrium', 'liver',\n",
       "       'haematopoietic and lymphoid tissue', 'vascular system',\n",
       "       'prostate', 'autonomic ganglia', 'blood', 'pancreas', '-666',\n",
       "       'central nervous system', 'adipose', 'muscle'], dtype=object)"
      ]
     },
     "execution_count": 7,
     "metadata": {},
     "output_type": "execute_result"
    }
   ],
   "source": [
    "cell_info['primary_site'].unique()"
   ]
  },
  {
   "cell_type": "code",
   "execution_count": 21,
   "id": "amino-prison",
   "metadata": {},
   "outputs": [],
   "source": [
    "neu_ids = cell_info[cell_info['primary_site'].isin(['central nervous system', 'autonomic ganglia'])]['base_cell_id']"
   ]
  },
  {
   "cell_type": "code",
   "execution_count": 9,
   "id": "floppy-export",
   "metadata": {},
   "outputs": [
    {
     "data": {
      "text/plain": [
       "Index(['pr_gene_id', 'pr_gene_symbol', 'pr_gene_title', 'pr_is_lm',\n",
       "       'pr_is_bing'],\n",
       "      dtype='object')"
      ]
     },
     "execution_count": 9,
     "metadata": {},
     "output_type": "execute_result"
    }
   ],
   "source": [
    "# Get gene id \n",
    "gene_info = pd.read_csv(prefix + \"/Shared drives/NIAAA_ASSIST/Data/LINCS L1000 (from GEO)/Phase I/GSE92742_Broad_LINCS_gene_info.txt.gz\", \n",
    "                        sep=\"\\t\", dtype=str, low_memory = False)\n",
    "gene_info.columns"
   ]
  },
  {
   "cell_type": "code",
   "execution_count": 10,
   "id": "applicable-guest",
   "metadata": {},
   "outputs": [
    {
     "data": {
      "text/html": [
       "<div>\n",
       "<style scoped>\n",
       "    .dataframe tbody tr th:only-of-type {\n",
       "        vertical-align: middle;\n",
       "    }\n",
       "\n",
       "    .dataframe tbody tr th {\n",
       "        vertical-align: top;\n",
       "    }\n",
       "\n",
       "    .dataframe thead th {\n",
       "        text-align: right;\n",
       "    }\n",
       "</style>\n",
       "<table border=\"1\" class=\"dataframe\">\n",
       "  <thead>\n",
       "    <tr style=\"text-align: right;\">\n",
       "      <th></th>\n",
       "      <th>pr_gene_id</th>\n",
       "      <th>pr_gene_symbol</th>\n",
       "      <th>pr_gene_title</th>\n",
       "      <th>pr_is_lm</th>\n",
       "      <th>pr_is_bing</th>\n",
       "    </tr>\n",
       "  </thead>\n",
       "  <tbody>\n",
       "    <tr>\n",
       "      <th>0</th>\n",
       "      <td>780</td>\n",
       "      <td>DDR1</td>\n",
       "      <td>discoidin domain receptor tyrosine kinase 1</td>\n",
       "      <td>1</td>\n",
       "      <td>1</td>\n",
       "    </tr>\n",
       "    <tr>\n",
       "      <th>1</th>\n",
       "      <td>7849</td>\n",
       "      <td>PAX8</td>\n",
       "      <td>paired box 8</td>\n",
       "      <td>1</td>\n",
       "      <td>1</td>\n",
       "    </tr>\n",
       "    <tr>\n",
       "      <th>2</th>\n",
       "      <td>2978</td>\n",
       "      <td>GUCA1A</td>\n",
       "      <td>guanylate cyclase activator 1A</td>\n",
       "      <td>0</td>\n",
       "      <td>0</td>\n",
       "    </tr>\n",
       "    <tr>\n",
       "      <th>3</th>\n",
       "      <td>2049</td>\n",
       "      <td>EPHB3</td>\n",
       "      <td>EPH receptor B3</td>\n",
       "      <td>0</td>\n",
       "      <td>1</td>\n",
       "    </tr>\n",
       "    <tr>\n",
       "      <th>4</th>\n",
       "      <td>2101</td>\n",
       "      <td>ESRRA</td>\n",
       "      <td>estrogen related receptor alpha</td>\n",
       "      <td>0</td>\n",
       "      <td>1</td>\n",
       "    </tr>\n",
       "  </tbody>\n",
       "</table>\n",
       "</div>"
      ],
      "text/plain": [
       "  pr_gene_id pr_gene_symbol                                pr_gene_title  \\\n",
       "0        780           DDR1  discoidin domain receptor tyrosine kinase 1   \n",
       "1       7849           PAX8                                 paired box 8   \n",
       "2       2978         GUCA1A               guanylate cyclase activator 1A   \n",
       "3       2049          EPHB3                              EPH receptor B3   \n",
       "4       2101          ESRRA              estrogen related receptor alpha   \n",
       "\n",
       "  pr_is_lm pr_is_bing  \n",
       "0        1          1  \n",
       "1        1          1  \n",
       "2        0          0  \n",
       "3        0          1  \n",
       "4        0          1  "
      ]
     },
     "execution_count": 10,
     "metadata": {},
     "output_type": "execute_result"
    }
   ],
   "source": [
    "gene_info.head()"
   ]
  },
  {
   "cell_type": "code",
   "execution_count": 83,
   "id": "complicated-recall",
   "metadata": {},
   "outputs": [],
   "source": [
    "critical_gene_df = pd.read_csv(prefix + '/Shared drives/NIAAA_ASSIST/Data/feature_extraction_derived/epoch=100_alpha=0.1_critical_gene_df.csv')"
   ]
  },
  {
   "cell_type": "code",
   "execution_count": 84,
   "id": "received-timer",
   "metadata": {},
   "outputs": [
    {
     "data": {
      "text/html": [
       "<div>\n",
       "<style scoped>\n",
       "    .dataframe tbody tr th:only-of-type {\n",
       "        vertical-align: middle;\n",
       "    }\n",
       "\n",
       "    .dataframe tbody tr th {\n",
       "        vertical-align: top;\n",
       "    }\n",
       "\n",
       "    .dataframe thead th {\n",
       "        text-align: right;\n",
       "    }\n",
       "</style>\n",
       "<table border=\"1\" class=\"dataframe\">\n",
       "  <thead>\n",
       "    <tr style=\"text-align: right;\">\n",
       "      <th></th>\n",
       "      <th>gene</th>\n",
       "      <th>LR_repeat1</th>\n",
       "      <th>LR_repeat2</th>\n",
       "      <th>LR_repeat3</th>\n",
       "      <th>RF_repeat1</th>\n",
       "      <th>RF_repeat2</th>\n",
       "      <th>RF_repeat3</th>\n",
       "      <th>XGB_repeat1</th>\n",
       "      <th>XGB_repeat2</th>\n",
       "      <th>XGB_repeat3</th>\n",
       "      <th>near_impact_cnt</th>\n",
       "    </tr>\n",
       "  </thead>\n",
       "  <tbody>\n",
       "    <tr>\n",
       "      <th>0</th>\n",
       "      <td>ENSG00000197647</td>\n",
       "      <td>0.0</td>\n",
       "      <td>0.0</td>\n",
       "      <td>3.0</td>\n",
       "      <td>2.0</td>\n",
       "      <td>2.0</td>\n",
       "      <td>2.0</td>\n",
       "      <td>3.0</td>\n",
       "      <td>2.0</td>\n",
       "      <td>3.0</td>\n",
       "      <td>17.0</td>\n",
       "    </tr>\n",
       "    <tr>\n",
       "      <th>1</th>\n",
       "      <td>ENSG00000132570</td>\n",
       "      <td>1.0</td>\n",
       "      <td>1.0</td>\n",
       "      <td>2.0</td>\n",
       "      <td>4.0</td>\n",
       "      <td>2.0</td>\n",
       "      <td>2.0</td>\n",
       "      <td>1.0</td>\n",
       "      <td>2.0</td>\n",
       "      <td>1.0</td>\n",
       "      <td>16.0</td>\n",
       "    </tr>\n",
       "    <tr>\n",
       "      <th>2</th>\n",
       "      <td>ENSG00000143819</td>\n",
       "      <td>0.0</td>\n",
       "      <td>0.0</td>\n",
       "      <td>2.0</td>\n",
       "      <td>3.0</td>\n",
       "      <td>2.0</td>\n",
       "      <td>2.0</td>\n",
       "      <td>2.0</td>\n",
       "      <td>2.0</td>\n",
       "      <td>2.0</td>\n",
       "      <td>15.0</td>\n",
       "    </tr>\n",
       "    <tr>\n",
       "      <th>3</th>\n",
       "      <td>ENSG00000157833</td>\n",
       "      <td>0.0</td>\n",
       "      <td>0.0</td>\n",
       "      <td>2.0</td>\n",
       "      <td>2.0</td>\n",
       "      <td>2.0</td>\n",
       "      <td>2.0</td>\n",
       "      <td>2.0</td>\n",
       "      <td>2.0</td>\n",
       "      <td>2.0</td>\n",
       "      <td>14.0</td>\n",
       "    </tr>\n",
       "    <tr>\n",
       "      <th>4</th>\n",
       "      <td>ENSG00000141736</td>\n",
       "      <td>0.0</td>\n",
       "      <td>0.0</td>\n",
       "      <td>2.0</td>\n",
       "      <td>2.0</td>\n",
       "      <td>2.0</td>\n",
       "      <td>2.0</td>\n",
       "      <td>2.0</td>\n",
       "      <td>2.0</td>\n",
       "      <td>2.0</td>\n",
       "      <td>14.0</td>\n",
       "    </tr>\n",
       "    <tr>\n",
       "      <th>...</th>\n",
       "      <td>...</td>\n",
       "      <td>...</td>\n",
       "      <td>...</td>\n",
       "      <td>...</td>\n",
       "      <td>...</td>\n",
       "      <td>...</td>\n",
       "      <td>...</td>\n",
       "      <td>...</td>\n",
       "      <td>...</td>\n",
       "      <td>...</td>\n",
       "      <td>...</td>\n",
       "    </tr>\n",
       "    <tr>\n",
       "      <th>824</th>\n",
       "      <td>ENSG00000140807</td>\n",
       "      <td>0.0</td>\n",
       "      <td>0.0</td>\n",
       "      <td>0.0</td>\n",
       "      <td>0.0</td>\n",
       "      <td>0.0</td>\n",
       "      <td>1.0</td>\n",
       "      <td>0.0</td>\n",
       "      <td>0.0</td>\n",
       "      <td>0.0</td>\n",
       "      <td>1.0</td>\n",
       "    </tr>\n",
       "    <tr>\n",
       "      <th>825</th>\n",
       "      <td>ENSG00000183682</td>\n",
       "      <td>0.0</td>\n",
       "      <td>0.0</td>\n",
       "      <td>1.0</td>\n",
       "      <td>0.0</td>\n",
       "      <td>0.0</td>\n",
       "      <td>0.0</td>\n",
       "      <td>0.0</td>\n",
       "      <td>0.0</td>\n",
       "      <td>0.0</td>\n",
       "      <td>1.0</td>\n",
       "    </tr>\n",
       "    <tr>\n",
       "      <th>826</th>\n",
       "      <td>ENSG00000166535</td>\n",
       "      <td>0.0</td>\n",
       "      <td>0.0</td>\n",
       "      <td>0.0</td>\n",
       "      <td>0.0</td>\n",
       "      <td>0.0</td>\n",
       "      <td>1.0</td>\n",
       "      <td>0.0</td>\n",
       "      <td>0.0</td>\n",
       "      <td>0.0</td>\n",
       "      <td>1.0</td>\n",
       "    </tr>\n",
       "    <tr>\n",
       "      <th>827</th>\n",
       "      <td>ENSG00000158796</td>\n",
       "      <td>0.0</td>\n",
       "      <td>0.0</td>\n",
       "      <td>0.0</td>\n",
       "      <td>0.0</td>\n",
       "      <td>0.0</td>\n",
       "      <td>1.0</td>\n",
       "      <td>0.0</td>\n",
       "      <td>0.0</td>\n",
       "      <td>0.0</td>\n",
       "      <td>1.0</td>\n",
       "    </tr>\n",
       "    <tr>\n",
       "      <th>828</th>\n",
       "      <td>ENSG00000095637</td>\n",
       "      <td>0.0</td>\n",
       "      <td>0.0</td>\n",
       "      <td>0.0</td>\n",
       "      <td>0.0</td>\n",
       "      <td>0.0</td>\n",
       "      <td>0.0</td>\n",
       "      <td>0.0</td>\n",
       "      <td>0.0</td>\n",
       "      <td>1.0</td>\n",
       "      <td>1.0</td>\n",
       "    </tr>\n",
       "  </tbody>\n",
       "</table>\n",
       "<p>829 rows × 11 columns</p>\n",
       "</div>"
      ],
      "text/plain": [
       "                gene  LR_repeat1  LR_repeat2  LR_repeat3  RF_repeat1  \\\n",
       "0    ENSG00000197647         0.0         0.0         3.0         2.0   \n",
       "1    ENSG00000132570         1.0         1.0         2.0         4.0   \n",
       "2    ENSG00000143819         0.0         0.0         2.0         3.0   \n",
       "3    ENSG00000157833         0.0         0.0         2.0         2.0   \n",
       "4    ENSG00000141736         0.0         0.0         2.0         2.0   \n",
       "..               ...         ...         ...         ...         ...   \n",
       "824  ENSG00000140807         0.0         0.0         0.0         0.0   \n",
       "825  ENSG00000183682         0.0         0.0         1.0         0.0   \n",
       "826  ENSG00000166535         0.0         0.0         0.0         0.0   \n",
       "827  ENSG00000158796         0.0         0.0         0.0         0.0   \n",
       "828  ENSG00000095637         0.0         0.0         0.0         0.0   \n",
       "\n",
       "     RF_repeat2  RF_repeat3  XGB_repeat1  XGB_repeat2  XGB_repeat3  \\\n",
       "0           2.0         2.0          3.0          2.0          3.0   \n",
       "1           2.0         2.0          1.0          2.0          1.0   \n",
       "2           2.0         2.0          2.0          2.0          2.0   \n",
       "3           2.0         2.0          2.0          2.0          2.0   \n",
       "4           2.0         2.0          2.0          2.0          2.0   \n",
       "..          ...         ...          ...          ...          ...   \n",
       "824         0.0         1.0          0.0          0.0          0.0   \n",
       "825         0.0         0.0          0.0          0.0          0.0   \n",
       "826         0.0         1.0          0.0          0.0          0.0   \n",
       "827         0.0         1.0          0.0          0.0          0.0   \n",
       "828         0.0         0.0          0.0          0.0          1.0   \n",
       "\n",
       "     near_impact_cnt  \n",
       "0               17.0  \n",
       "1               16.0  \n",
       "2               15.0  \n",
       "3               14.0  \n",
       "4               14.0  \n",
       "..               ...  \n",
       "824              1.0  \n",
       "825              1.0  \n",
       "826              1.0  \n",
       "827              1.0  \n",
       "828              1.0  \n",
       "\n",
       "[829 rows x 11 columns]"
      ]
     },
     "execution_count": 84,
     "metadata": {},
     "output_type": "execute_result"
    }
   ],
   "source": [
    "critical_gene_df"
   ]
  },
  {
   "cell_type": "code",
   "execution_count": 85,
   "id": "extraordinary-worse",
   "metadata": {},
   "outputs": [],
   "source": [
    "deseq = pd.read_excel(prefix + '/Shared drives/NIAAA_ASSIST/Data/deseq.alc.vs.control.age.rin.batch.gender.PMI.corrected.w.prot.coding.gene.name.xlsx')"
   ]
  },
  {
   "cell_type": "code",
   "execution_count": 87,
   "id": "traditional-galaxy",
   "metadata": {},
   "outputs": [],
   "source": [
    "gene_mapping_dict = pd.Series(deseq.gene.values, index = deseq.id.values).to_dict()"
   ]
  },
  {
   "cell_type": "code",
   "execution_count": 88,
   "id": "light-argument",
   "metadata": {},
   "outputs": [],
   "source": [
    "critical_gene_df['symbol'] = critical_gene_df['gene'].map(gene_mapping_dict)"
   ]
  },
  {
   "cell_type": "code",
   "execution_count": 102,
   "id": "secret-sarah",
   "metadata": {},
   "outputs": [],
   "source": [
    "gene_to_query_ids = gene_info[gene_info[\"pr_gene_symbol\"].isin(critical_gene_df['symbol'][:10])]['pr_gene_id']"
   ]
  },
  {
   "cell_type": "code",
   "execution_count": 12,
   "id": "wooden-imaging",
   "metadata": {},
   "outputs": [],
   "source": [
    "from cmapPy.pandasGEXpress.parse import parse"
   ]
  },
  {
   "cell_type": "markdown",
   "id": "professional-guitar",
   "metadata": {},
   "source": [
    "## Query gene using gene id"
   ]
  },
  {
   "cell_type": "code",
   "execution_count": 104,
   "id": "executive-spirituality",
   "metadata": {},
   "outputs": [
    {
     "name": "stdout",
     "output_type": "stream",
     "text": [
      "Wall time: 2min 6s\n"
     ]
    }
   ],
   "source": [
    "%%time\n",
    "# index is gene ids and columns are test conditions\n",
    "critical_gene_only_gctoo = parse(prefix + \"/Shared drives/NIAAA_ASSIST/Data/LINCS L1000 (from GEO)/Phase I/GSE92742_Broad_LINCS_Level5_COMPZ.MODZ_n473647x12328.gctx\", \n",
    "                                 rid = gene_to_query_ids)"
   ]
  },
  {
   "cell_type": "code",
   "execution_count": 105,
   "id": "wicked-courage",
   "metadata": {},
   "outputs": [
    {
     "data": {
      "text/html": [
       "<div>\n",
       "<style scoped>\n",
       "    .dataframe tbody tr th:only-of-type {\n",
       "        vertical-align: middle;\n",
       "    }\n",
       "\n",
       "    .dataframe tbody tr th {\n",
       "        vertical-align: top;\n",
       "    }\n",
       "\n",
       "    .dataframe thead th {\n",
       "        text-align: right;\n",
       "    }\n",
       "</style>\n",
       "<table border=\"1\" class=\"dataframe\">\n",
       "  <thead>\n",
       "    <tr style=\"text-align: right;\">\n",
       "      <th>cid</th>\n",
       "      <th>CPC005_A375_6H:BRD-A85280935-003-01-7:10</th>\n",
       "      <th>CPC005_A375_6H:BRD-A07824748-001-02-6:10</th>\n",
       "      <th>CPC004_A375_6H:BRD-K20482099-001-01-1:10</th>\n",
       "      <th>CPC005_A375_6H:BRD-K62929068-001-03-3:10</th>\n",
       "      <th>CPC005_A375_6H:BRD-K43405658-001-01-8:10</th>\n",
       "      <th>CPC004_A375_6H:BRD-K03670461-001-02-0:10</th>\n",
       "      <th>CPC004_A375_6H:BRD-K36737713-001-01-6:10</th>\n",
       "      <th>CPC005_A375_6H:BRD-K51223576-001-01-3:10</th>\n",
       "      <th>CPC004_A375_6H:BRD-A14966924-001-03-0:10</th>\n",
       "      <th>CPC004_A375_6H:BRD-K79131256-001-08-8:10</th>\n",
       "      <th>...</th>\n",
       "      <th>PCLB003_PC3_24H:BRD-A52530684-003-01-7:0.04</th>\n",
       "      <th>PCLB003_PC3_24H:BRD-A75409952-001-01-6:10</th>\n",
       "      <th>PCLB003_PC3_24H:BRD-A75409952-001-01-6:3.33</th>\n",
       "      <th>PCLB003_PC3_24H:BRD-A75409952-001-01-6:1.11</th>\n",
       "      <th>PCLB003_PC3_24H:BRD-A75409952-001-01-6:0.37</th>\n",
       "      <th>PCLB003_PC3_24H:BRD-A75409952-001-01-6:0.12</th>\n",
       "      <th>PCLB003_PC3_24H:BRD-A75409952-001-01-6:0.04</th>\n",
       "      <th>PCLB003_PC3_24H:BRD-K42573370-001-01-1:10</th>\n",
       "      <th>PCLB003_PC3_24H:BRD-K53665955-001-01-4:0.04</th>\n",
       "      <th>PCLB003_PC3_24H:BRD-K04466929-001-05-1:10</th>\n",
       "    </tr>\n",
       "    <tr>\n",
       "      <th>rid</th>\n",
       "      <th></th>\n",
       "      <th></th>\n",
       "      <th></th>\n",
       "      <th></th>\n",
       "      <th></th>\n",
       "      <th></th>\n",
       "      <th></th>\n",
       "      <th></th>\n",
       "      <th></th>\n",
       "      <th></th>\n",
       "      <th></th>\n",
       "      <th></th>\n",
       "      <th></th>\n",
       "      <th></th>\n",
       "      <th></th>\n",
       "      <th></th>\n",
       "      <th></th>\n",
       "      <th></th>\n",
       "      <th></th>\n",
       "      <th></th>\n",
       "      <th></th>\n",
       "    </tr>\n",
       "  </thead>\n",
       "  <tbody>\n",
       "    <tr>\n",
       "      <th>2064</th>\n",
       "      <td>-0.657700</td>\n",
       "      <td>-2.031781</td>\n",
       "      <td>-2.160964</td>\n",
       "      <td>-0.781153</td>\n",
       "      <td>0.451163</td>\n",
       "      <td>-1.137791</td>\n",
       "      <td>0.336308</td>\n",
       "      <td>0.404125</td>\n",
       "      <td>1.351348</td>\n",
       "      <td>0.6253</td>\n",
       "      <td>...</td>\n",
       "      <td>-0.750883</td>\n",
       "      <td>3.419950</td>\n",
       "      <td>1.709605</td>\n",
       "      <td>1.656000</td>\n",
       "      <td>0.267117</td>\n",
       "      <td>0.543913</td>\n",
       "      <td>-0.158874</td>\n",
       "      <td>2.1820</td>\n",
       "      <td>1.9881</td>\n",
       "      <td>-3.5217</td>\n",
       "    </tr>\n",
       "    <tr>\n",
       "      <th>2052</th>\n",
       "      <td>-0.689672</td>\n",
       "      <td>1.372168</td>\n",
       "      <td>4.262742</td>\n",
       "      <td>-0.346629</td>\n",
       "      <td>0.683505</td>\n",
       "      <td>-0.090105</td>\n",
       "      <td>0.490424</td>\n",
       "      <td>-0.235586</td>\n",
       "      <td>-0.288266</td>\n",
       "      <td>-1.4914</td>\n",
       "      <td>...</td>\n",
       "      <td>0.469031</td>\n",
       "      <td>-0.665342</td>\n",
       "      <td>-0.858659</td>\n",
       "      <td>-0.110482</td>\n",
       "      <td>0.176461</td>\n",
       "      <td>0.413879</td>\n",
       "      <td>0.131562</td>\n",
       "      <td>-2.3518</td>\n",
       "      <td>-1.7758</td>\n",
       "      <td>-0.0399</td>\n",
       "    </tr>\n",
       "  </tbody>\n",
       "</table>\n",
       "<p>2 rows × 473647 columns</p>\n",
       "</div>"
      ],
      "text/plain": [
       "cid   CPC005_A375_6H:BRD-A85280935-003-01-7:10  \\\n",
       "rid                                              \n",
       "2064                                 -0.657700   \n",
       "2052                                 -0.689672   \n",
       "\n",
       "cid   CPC005_A375_6H:BRD-A07824748-001-02-6:10  \\\n",
       "rid                                              \n",
       "2064                                 -2.031781   \n",
       "2052                                  1.372168   \n",
       "\n",
       "cid   CPC004_A375_6H:BRD-K20482099-001-01-1:10  \\\n",
       "rid                                              \n",
       "2064                                 -2.160964   \n",
       "2052                                  4.262742   \n",
       "\n",
       "cid   CPC005_A375_6H:BRD-K62929068-001-03-3:10  \\\n",
       "rid                                              \n",
       "2064                                 -0.781153   \n",
       "2052                                 -0.346629   \n",
       "\n",
       "cid   CPC005_A375_6H:BRD-K43405658-001-01-8:10  \\\n",
       "rid                                              \n",
       "2064                                  0.451163   \n",
       "2052                                  0.683505   \n",
       "\n",
       "cid   CPC004_A375_6H:BRD-K03670461-001-02-0:10  \\\n",
       "rid                                              \n",
       "2064                                 -1.137791   \n",
       "2052                                 -0.090105   \n",
       "\n",
       "cid   CPC004_A375_6H:BRD-K36737713-001-01-6:10  \\\n",
       "rid                                              \n",
       "2064                                  0.336308   \n",
       "2052                                  0.490424   \n",
       "\n",
       "cid   CPC005_A375_6H:BRD-K51223576-001-01-3:10  \\\n",
       "rid                                              \n",
       "2064                                  0.404125   \n",
       "2052                                 -0.235586   \n",
       "\n",
       "cid   CPC004_A375_6H:BRD-A14966924-001-03-0:10  \\\n",
       "rid                                              \n",
       "2064                                  1.351348   \n",
       "2052                                 -0.288266   \n",
       "\n",
       "cid   CPC004_A375_6H:BRD-K79131256-001-08-8:10  ...  \\\n",
       "rid                                             ...   \n",
       "2064                                    0.6253  ...   \n",
       "2052                                   -1.4914  ...   \n",
       "\n",
       "cid   PCLB003_PC3_24H:BRD-A52530684-003-01-7:0.04  \\\n",
       "rid                                                 \n",
       "2064                                    -0.750883   \n",
       "2052                                     0.469031   \n",
       "\n",
       "cid   PCLB003_PC3_24H:BRD-A75409952-001-01-6:10  \\\n",
       "rid                                               \n",
       "2064                                   3.419950   \n",
       "2052                                  -0.665342   \n",
       "\n",
       "cid   PCLB003_PC3_24H:BRD-A75409952-001-01-6:3.33  \\\n",
       "rid                                                 \n",
       "2064                                     1.709605   \n",
       "2052                                    -0.858659   \n",
       "\n",
       "cid   PCLB003_PC3_24H:BRD-A75409952-001-01-6:1.11  \\\n",
       "rid                                                 \n",
       "2064                                     1.656000   \n",
       "2052                                    -0.110482   \n",
       "\n",
       "cid   PCLB003_PC3_24H:BRD-A75409952-001-01-6:0.37  \\\n",
       "rid                                                 \n",
       "2064                                     0.267117   \n",
       "2052                                     0.176461   \n",
       "\n",
       "cid   PCLB003_PC3_24H:BRD-A75409952-001-01-6:0.12  \\\n",
       "rid                                                 \n",
       "2064                                     0.543913   \n",
       "2052                                     0.413879   \n",
       "\n",
       "cid   PCLB003_PC3_24H:BRD-A75409952-001-01-6:0.04  \\\n",
       "rid                                                 \n",
       "2064                                    -0.158874   \n",
       "2052                                     0.131562   \n",
       "\n",
       "cid   PCLB003_PC3_24H:BRD-K42573370-001-01-1:10  \\\n",
       "rid                                               \n",
       "2064                                     2.1820   \n",
       "2052                                    -2.3518   \n",
       "\n",
       "cid   PCLB003_PC3_24H:BRD-K53665955-001-01-4:0.04  \\\n",
       "rid                                                 \n",
       "2064                                       1.9881   \n",
       "2052                                      -1.7758   \n",
       "\n",
       "cid   PCLB003_PC3_24H:BRD-K04466929-001-05-1:10  \n",
       "rid                                              \n",
       "2064                                    -3.5217  \n",
       "2052                                    -0.0399  \n",
       "\n",
       "[2 rows x 473647 columns]"
      ]
     },
     "execution_count": 105,
     "metadata": {},
     "output_type": "execute_result"
    }
   ],
   "source": [
    "critical_gene_only_gctoo.data_df.head(2)"
   ]
  },
  {
   "cell_type": "code",
   "execution_count": 106,
   "id": "interpreted-default",
   "metadata": {},
   "outputs": [
    {
     "data": {
      "image/png": "[encoded data removed]",
      "text/plain": [
       "<Figure size 432x288 with 1 Axes>"
      ]
     },
     "metadata": {
      "needs_background": "light"
     },
     "output_type": "display_data"
    }
   ],
   "source": [
    "# look at the distribution of a gene for all the tested conditions\n",
    "plt.hist(critical_gene_only_gctoo.data_df.loc['2052'], bins = 15);"
   ]
  },
  {
   "cell_type": "markdown",
   "id": "indie-settle",
   "metadata": {},
   "source": [
    "# Get top candidate drugs (1% on each side)"
   ]
  },
  {
   "cell_type": "code",
   "execution_count": null,
   "id": "wrong-natural",
   "metadata": {},
   "outputs": [],
   "source": [
    "# sig_info = pd.read_csv(prefix + \"/Shared drives/NIAAA_ASSIST/Data/LINCS L1000 (from GEO)/Phase I/GSE92742_Broad_LINCS_sig_info.txt.gz\", \n",
    "#                        sep=\"\\t\", low_memory = False)"
   ]
  },
  {
   "cell_type": "markdown",
   "id": "affected-canadian",
   "metadata": {},
   "source": [
    "## Positively correlated drugs"
   ]
  },
  {
   "cell_type": "code",
   "execution_count": 149,
   "id": "modular-robinson",
   "metadata": {},
   "outputs": [],
   "source": [
    "def pos_pert_by_genes_df(gene_id, gctoo_data, cell_ids, sig_info = sig_info, percent = 0.01):\n",
    "    positive_num = gctoo_data.data_df.loc[gene_id][gctoo_data.data_df.loc[gene_id] > 0].shape[0]\n",
    "    top_n = int(percent*positive_num)\n",
    "    cutoff = gctoo_data.data_df.loc[gene_id].sort_values(ascending = False)[top_n]\n",
    "    # subset to get only df for that gene with conditions > cutoff\n",
    "    # sort_values so the index is the rank for the expression values\n",
    "    pos_df = gctoo_data.data_df.loc[gene_id][gctoo_data.data_df.loc[gene_id] > cutoff].sort_values(ascending = False).reset_index() \n",
    "    # test conditions info\n",
    "    pos_df_w_sig_info = pd.merge(pos_df, sig_info, left_on = 'cid', right_on = 'sig_id')\n",
    "    specific_cell_only = pos_df_w_sig_info[pos_df_w_sig_info['cell_id'].isin(cell_ids)] # return the df with the cell types of interest only\n",
    "    specific_cell_only = specific_cell_only.assign(percent = 100*specific_cell_only.index/positive_num)\n",
    "    return specific_cell_only"
   ]
  },
  {
   "cell_type": "code",
   "execution_count": 153,
   "id": "suspended-deficit",
   "metadata": {},
   "outputs": [],
   "source": [
    "pert_df_list = []\n",
    "for gene in gene_to_query_ids:\n",
    "    pert_df = pos_pert_by_genes_df(gene, critical_gene_only_gctoo, ['NEU'])\n",
    "    pert_df_list.append(pert_df)"
   ]
  },
  {
   "cell_type": "code",
   "execution_count": 154,
   "id": "successful-thickness",
   "metadata": {},
   "outputs": [],
   "source": [
    "pert_id_list = [set(pert_df_list[i]['pert_id']) for i in range(len(pert_df_list))]"
   ]
  },
  {
   "cell_type": "code",
   "execution_count": 158,
   "id": "failing-technician",
   "metadata": {},
   "outputs": [
    {
     "data": {
      "image/png": "[encoded data removed]",
      "text/plain": [
       "<Figure size 432x288 with 1 Axes>"
      ]
     },
     "metadata": {
      "needs_background": "light"
     },
     "output_type": "display_data"
    }
   ],
   "source": [
    "for i, gene in enumerate(gene_to_query_ids):\n",
    "    plt.hist(pert_df_list[i]['percent'], label = gene, alpha = 0.5)\n",
    "    plt.legend()\n",
    "    plt.xlim(0, 1)\n",
    "plt.xlabel('Top %')\n",
    "plt.ylabel('Events');"
   ]
  },
  {
   "cell_type": "markdown",
   "id": "funky-leadership",
   "metadata": {},
   "source": [
    "## Negatively correlated drugs"
   ]
  },
  {
   "cell_type": "code",
   "execution_count": 163,
   "id": "accompanied-thomas",
   "metadata": {},
   "outputs": [],
   "source": [
    "def neg_pert_by_genes_df(gene_id, gctoo_data, cell_ids, sig_info = sig_info, percent = 0.01):\n",
    "    negative_num = gctoo_data.data_df.loc[gene_id][gctoo_data.data_df.loc[gene_id] < 0].shape[0]\n",
    "    top_n = int(percent*negative_num)\n",
    "    cutoff = gctoo_data.data_df.loc[gene_id].sort_values()[top_n]\n",
    "    # subset to get only df for that gene with conditions > cutoff\n",
    "    # sort_values so the index is the rank for the expression values\n",
    "    neg_df = gctoo_data.data_df.loc[gene_id][gctoo_data.data_df.loc[gene_id] < cutoff].sort_values().reset_index() \n",
    "    # test conditions info\n",
    "    neg_df_w_sig_info = pd.merge(neg_df, sig_info, left_on = 'cid', right_on = 'sig_id')\n",
    "    specific_cell_only = neg_df_w_sig_info[neg_df_w_sig_info['cell_id'].isin(cell_ids)] # return the df with the cell types of interest only\n",
    "    specific_cell_only = specific_cell_only.assign(percent = 100*specific_cell_only.index/positive_num)\n",
    "    return specific_cell_only"
   ]
  },
  {
   "cell_type": "code",
   "execution_count": 165,
   "id": "optical-level",
   "metadata": {},
   "outputs": [],
   "source": [
    "pert_df_list_down = []\n",
    "for gene in gene_to_query_ids:\n",
    "    pert_df = neg_pert_by_genes_df(gene, critical_gene_only_gctoo, ['NEU'])\n",
    "    pert_df_list_down.append(pert_df)"
   ]
  },
  {
   "cell_type": "code",
   "execution_count": 166,
   "id": "ceramic-imaging",
   "metadata": {},
   "outputs": [
    {
     "data": {
      "image/png": "[encoded data removed]",
      "text/plain": [
       "<Figure size 432x288 with 1 Axes>"
      ]
     },
     "metadata": {
      "needs_background": "light"
     },
     "output_type": "display_data"
    }
   ],
   "source": [
    "for i, gene in enumerate(gene_to_query_ids):\n",
    "    plt.hist(pert_df_list_down[i]['percent'], label = gene, alpha = 0.5)\n",
    "    plt.legend()\n",
    "    plt.xlim(0, 1)\n",
    "plt.xlabel('Top %')\n",
    "plt.ylabel('Events');"
   ]
  }
 ],
 "metadata": {
  "kernelspec": {
   "display_name": "Python 3",
   "language": "python",
   "name": "python3"
  },
  "language_info": {
   "codemirror_mode": {
    "name": "ipython",
    "version": 3
   },
   "file_extension": ".py",
   "mimetype": "text/x-python",
   "name": "python",
   "nbconvert_exporter": "python",
   "pygments_lexer": "ipython3",
   "version": "3.8.5"
  }
 },
 "nbformat": 4,
 "nbformat_minor": 5
}
