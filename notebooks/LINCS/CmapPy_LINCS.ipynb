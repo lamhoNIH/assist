{
 "cells": [
  {
   "cell_type": "markdown",
   "id": "solar-creativity",
   "metadata": {},
   "source": [
    "# This notebook is to use CmapPy to query LINCS1000"
   ]
  },
  {
   "cell_type": "code",
   "execution_count": 1,
   "id": "social-science",
   "metadata": {},
   "outputs": [
    {
     "data": {
      "text/plain": [
       "'4.0.1'"
      ]
     },
     "execution_count": 1,
     "metadata": {},
     "output_type": "execute_result"
    }
   ],
   "source": [
    "import pkg_resources\n",
    "pkg_resources.get_distribution(\"cmapPy\").version"
   ]
  },
  {
   "cell_type": "code",
   "execution_count": 2,
   "id": "embedded-candy",
   "metadata": {},
   "outputs": [],
   "source": [
    "import sys\n",
    "sys.path.append(\"../..\")\n",
    "import pandas as pd\n",
    "from sys import platform \n",
    "%load_ext autoreload\n",
    "%autoreload 2\n",
    "prefix = 'G:' if platform == 'win32' else '/Volumes/GoogleDrive'"
   ]
  },
  {
   "cell_type": "code",
   "execution_count": 3,
   "id": "damaged-holocaust",
   "metadata": {},
   "outputs": [],
   "source": [
    "sig_info = pd.read_csv(prefix + \"/Shared drives/NIAAA_ASSIST/Data/LINCS L1000 (from GEO)/Phase I/GSE92742_Broad_LINCS_sig_info.txt.gz\", \n",
    "                       sep=\"\\t\", low_memory = False)"
   ]
  },
  {
   "cell_type": "code",
   "execution_count": 4,
   "id": "little-medication",
   "metadata": {},
   "outputs": [
    {
     "data": {
      "text/plain": [
       "Index(['sig_id', 'pert_id', 'pert_iname', 'pert_type', 'cell_id', 'pert_dose',\n",
       "       'pert_dose_unit', 'pert_idose', 'pert_time', 'pert_time_unit',\n",
       "       'pert_itime', 'distil_id'],\n",
       "      dtype='object')"
      ]
     },
     "execution_count": 4,
     "metadata": {},
     "output_type": "execute_result"
    }
   ],
   "source": [
    "# look at the metadata fields provided \n",
    "sig_info.columns"
   ]
  },
  {
   "cell_type": "code",
   "execution_count": 96,
   "id": "acoustic-japan",
   "metadata": {},
   "outputs": [
    {
     "data": {
      "text/plain": [
       "array(['CD34', 'HL60', 'PC3', 'U937', 'MCF7', 'A375', 'HEK293T', 'A549',\n",
       "       'ASC', 'HA1E', 'HCC515', 'HEKTE', 'HEPG2', 'HT29', 'NCIH716',\n",
       "       'NPC', 'SHSY5Y', 'SKL', 'SW480', 'VCAP', 'BT20', 'FIBRNPC',\n",
       "       'HS578T', 'MCF10A', 'MCH58', 'MDAMB231', 'NEU', 'NKDBA', 'NOMO1',\n",
       "       'PHH', 'SKBR3', 'SKB', 'SKM1', 'THP1', 'A673', 'AGS', 'CL34',\n",
       "       'CORL23', 'COV644', 'DV90', 'EFO27', 'H1299', 'HCC15', 'HCT116',\n",
       "       'HEC108', 'HT115', 'JHUEM2', 'LOVO', 'MDST8', 'NCIH1694',\n",
       "       'NCIH1836', 'NCIH2073', 'NCIH508', 'NCIH596', 'OV7', 'PL21', 'RKO',\n",
       "       'RMGI', 'RMUGS', 'SKLU1', 'SKMEL1', 'SKMEL28', 'SNGM', 'SNU1040',\n",
       "       'SNUC4', 'SNUC5', 'SW620', 'SW948', 'T3M10', 'TYKNU', 'WSUDLCL2',\n",
       "       'HUH7', 'HS27A', 'JURKAT', 'U266', 'U2OS'], dtype=object)"
      ]
     },
     "execution_count": 96,
     "metadata": {},
     "output_type": "execute_result"
    }
   ],
   "source": [
    "sig_info.cell_id.unique()"
   ]
  },
  {
   "cell_type": "code",
   "execution_count": 79,
   "id": "executive-shell",
   "metadata": {},
   "outputs": [],
   "source": [
    "cell_info = pd.read_csv(prefix + \"/Shared drives/NIAAA_ASSIST/Data/LINCS L1000 (from GEO)/Phase I/GSE92742_Broad_LINCS_cell_info.txt.gz\", \n",
    "                       sep=\"\\t\", low_memory = False)"
   ]
  },
  {
   "cell_type": "code",
   "execution_count": 97,
   "id": "administrative-recorder",
   "metadata": {},
   "outputs": [
    {
     "data": {
      "text/plain": [
       "array(['skin', 'lung', 'bone', 'stomach', 'breast', 'large intestine',\n",
       "       'ovary', 'kidney', 'endometrium', 'liver',\n",
       "       'haematopoietic and lymphoid tissue', 'vascular system',\n",
       "       'prostate', 'autonomic ganglia', 'blood', 'pancreas', '-666',\n",
       "       'central nervous system', 'adipose', 'muscle'], dtype=object)"
      ]
     },
     "execution_count": 97,
     "metadata": {},
     "output_type": "execute_result"
    }
   ],
   "source": [
    "cell_info['primary_site'].unique()"
   ]
  },
  {
   "cell_type": "code",
   "execution_count": null,
   "id": "compact-stand",
   "metadata": {},
   "outputs": [],
   "source": []
  },
  {
   "cell_type": "code",
   "execution_count": 100,
   "id": "excessive-conviction",
   "metadata": {},
   "outputs": [],
   "source": [
    "neu_ids = cell_info[cell_info['primary_site'].isin(['central nervous system', 'autonomic ganglia','-666'])]['base_cell_id']"
   ]
  },
  {
   "cell_type": "code",
   "execution_count": 6,
   "id": "settled-compact",
   "metadata": {},
   "outputs": [
    {
     "data": {
      "text/plain": [
       "Index(['pr_gene_id', 'pr_gene_symbol', 'pr_gene_title', 'pr_is_lm',\n",
       "       'pr_is_bing'],\n",
       "      dtype='object')"
      ]
     },
     "execution_count": 6,
     "metadata": {},
     "output_type": "execute_result"
    }
   ],
   "source": [
    "gene_info = pd.read_csv(prefix + \"/Shared drives/NIAAA_ASSIST/Data/LINCS L1000 (from GEO)/Phase I/GSE92742_Broad_LINCS_gene_info.txt.gz\", \n",
    "                        sep=\"\\t\", dtype=str, low_memory = False)\n",
    "gene_info.columns"
   ]
  },
  {
   "cell_type": "code",
   "execution_count": 7,
   "id": "cosmetic-staff",
   "metadata": {},
   "outputs": [
    {
     "data": {
      "text/html": [
       "<div>\n",
       "<style scoped>\n",
       "    .dataframe tbody tr th:only-of-type {\n",
       "        vertical-align: middle;\n",
       "    }\n",
       "\n",
       "    .dataframe tbody tr th {\n",
       "        vertical-align: top;\n",
       "    }\n",
       "\n",
       "    .dataframe thead th {\n",
       "        text-align: right;\n",
       "    }\n",
       "</style>\n",
       "<table border=\"1\" class=\"dataframe\">\n",
       "  <thead>\n",
       "    <tr style=\"text-align: right;\">\n",
       "      <th></th>\n",
       "      <th>pr_gene_id</th>\n",
       "      <th>pr_gene_symbol</th>\n",
       "      <th>pr_gene_title</th>\n",
       "      <th>pr_is_lm</th>\n",
       "      <th>pr_is_bing</th>\n",
       "    </tr>\n",
       "  </thead>\n",
       "  <tbody>\n",
       "    <tr>\n",
       "      <th>0</th>\n",
       "      <td>780</td>\n",
       "      <td>DDR1</td>\n",
       "      <td>discoidin domain receptor tyrosine kinase 1</td>\n",
       "      <td>1</td>\n",
       "      <td>1</td>\n",
       "    </tr>\n",
       "    <tr>\n",
       "      <th>1</th>\n",
       "      <td>7849</td>\n",
       "      <td>PAX8</td>\n",
       "      <td>paired box 8</td>\n",
       "      <td>1</td>\n",
       "      <td>1</td>\n",
       "    </tr>\n",
       "    <tr>\n",
       "      <th>2</th>\n",
       "      <td>2978</td>\n",
       "      <td>GUCA1A</td>\n",
       "      <td>guanylate cyclase activator 1A</td>\n",
       "      <td>0</td>\n",
       "      <td>0</td>\n",
       "    </tr>\n",
       "    <tr>\n",
       "      <th>3</th>\n",
       "      <td>2049</td>\n",
       "      <td>EPHB3</td>\n",
       "      <td>EPH receptor B3</td>\n",
       "      <td>0</td>\n",
       "      <td>1</td>\n",
       "    </tr>\n",
       "    <tr>\n",
       "      <th>4</th>\n",
       "      <td>2101</td>\n",
       "      <td>ESRRA</td>\n",
       "      <td>estrogen related receptor alpha</td>\n",
       "      <td>0</td>\n",
       "      <td>1</td>\n",
       "    </tr>\n",
       "  </tbody>\n",
       "</table>\n",
       "</div>"
      ],
      "text/plain": [
       "  pr_gene_id pr_gene_symbol                                pr_gene_title  \\\n",
       "0        780           DDR1  discoidin domain receptor tyrosine kinase 1   \n",
       "1       7849           PAX8                                 paired box 8   \n",
       "2       2978         GUCA1A               guanylate cyclase activator 1A   \n",
       "3       2049          EPHB3                              EPH receptor B3   \n",
       "4       2101          ESRRA              estrogen related receptor alpha   \n",
       "\n",
       "  pr_is_lm pr_is_bing  \n",
       "0        1          1  \n",
       "1        1          1  \n",
       "2        0          0  \n",
       "3        0          1  \n",
       "4        0          1  "
      ]
     },
     "execution_count": 7,
     "metadata": {},
     "output_type": "execute_result"
    }
   ],
   "source": [
    "gene_info.head()"
   ]
  },
  {
   "cell_type": "code",
   "execution_count": 19,
   "id": "substantial-barrier",
   "metadata": {},
   "outputs": [],
   "source": [
    "gene_to_query_ids = gene_info[gene_info[\"pr_gene_symbol\"].isin(['BLOC1S2','DHRS7','NEMP1','CDC123','NUDT21','SUCLA2'])]['pr_gene_id']"
   ]
  },
  {
   "cell_type": "code",
   "execution_count": 20,
   "id": "structural-testing",
   "metadata": {},
   "outputs": [],
   "source": [
    "from cmapPy.pandasGEXpress.parse import parse\n"
   ]
  },
  {
   "cell_type": "code",
   "execution_count": 21,
   "id": "rising-democrat",
   "metadata": {},
   "outputs": [
    {
     "data": {
      "text/plain": [
       "728      8872\n",
       "1479     8803\n",
       "6361    51635\n",
       "6972    23306\n",
       "7480    11051\n",
       "Name: pr_gene_id, dtype: object"
      ]
     },
     "execution_count": 21,
     "metadata": {},
     "output_type": "execute_result"
    }
   ],
   "source": [
    "gene_to_query_ids"
   ]
  },
  {
   "cell_type": "code",
   "execution_count": 26,
   "id": "figured-beverage",
   "metadata": {},
   "outputs": [
    {
     "name": "stdout",
     "output_type": "stream",
     "text": [
      "Wall time: 1min 34s\n"
     ]
    }
   ],
   "source": [
    "%%time\n",
    "critical_gene_only_gctoo = parse(prefix + \"/Shared drives/NIAAA_ASSIST/Data/LINCS L1000 (from GEO)/Phase I/GSE92742_Broad_LINCS_Level5_COMPZ.MODZ_n473647x12328.gctx\", \n",
    "                                 rid = gene_to_query_ids)"
   ]
  },
  {
   "cell_type": "code",
   "execution_count": 28,
   "id": "surprised-montgomery",
   "metadata": {},
   "outputs": [
    {
     "data": {
      "text/plain": [
       "(5, 473647)"
      ]
     },
     "execution_count": 28,
     "metadata": {},
     "output_type": "execute_result"
    }
   ],
   "source": [
    "# Check to make sure we only have 978 rows of expression data: \n",
    "critical_gene_only_gctoo.data_df.shape"
   ]
  },
  {
   "cell_type": "code",
   "execution_count": 32,
   "id": "adverse-movement",
   "metadata": {},
   "outputs": [
    {
     "data": {
      "text/html": [
       "<div>\n",
       "<style scoped>\n",
       "    .dataframe tbody tr th:only-of-type {\n",
       "        vertical-align: middle;\n",
       "    }\n",
       "\n",
       "    .dataframe tbody tr th {\n",
       "        vertical-align: top;\n",
       "    }\n",
       "\n",
       "    .dataframe thead th {\n",
       "        text-align: right;\n",
       "    }\n",
       "</style>\n",
       "<table border=\"1\" class=\"dataframe\">\n",
       "  <thead>\n",
       "    <tr style=\"text-align: right;\">\n",
       "      <th>cid</th>\n",
       "      <th>CPC005_A375_6H:BRD-A85280935-003-01-7:10</th>\n",
       "      <th>CPC005_A375_6H:BRD-A07824748-001-02-6:10</th>\n",
       "      <th>CPC004_A375_6H:BRD-K20482099-001-01-1:10</th>\n",
       "      <th>CPC005_A375_6H:BRD-K62929068-001-03-3:10</th>\n",
       "      <th>CPC005_A375_6H:BRD-K43405658-001-01-8:10</th>\n",
       "      <th>CPC004_A375_6H:BRD-K03670461-001-02-0:10</th>\n",
       "      <th>CPC004_A375_6H:BRD-K36737713-001-01-6:10</th>\n",
       "      <th>CPC005_A375_6H:BRD-K51223576-001-01-3:10</th>\n",
       "      <th>CPC004_A375_6H:BRD-A14966924-001-03-0:10</th>\n",
       "      <th>CPC004_A375_6H:BRD-K79131256-001-08-8:10</th>\n",
       "      <th>...</th>\n",
       "      <th>PCLB003_PC3_24H:BRD-A52530684-003-01-7:0.04</th>\n",
       "      <th>PCLB003_PC3_24H:BRD-A75409952-001-01-6:10</th>\n",
       "      <th>PCLB003_PC3_24H:BRD-A75409952-001-01-6:3.33</th>\n",
       "      <th>PCLB003_PC3_24H:BRD-A75409952-001-01-6:1.11</th>\n",
       "      <th>PCLB003_PC3_24H:BRD-A75409952-001-01-6:0.37</th>\n",
       "      <th>PCLB003_PC3_24H:BRD-A75409952-001-01-6:0.12</th>\n",
       "      <th>PCLB003_PC3_24H:BRD-A75409952-001-01-6:0.04</th>\n",
       "      <th>PCLB003_PC3_24H:BRD-K42573370-001-01-1:10</th>\n",
       "      <th>PCLB003_PC3_24H:BRD-K53665955-001-01-4:0.04</th>\n",
       "      <th>PCLB003_PC3_24H:BRD-K04466929-001-05-1:10</th>\n",
       "    </tr>\n",
       "    <tr>\n",
       "      <th>rid</th>\n",
       "      <th></th>\n",
       "      <th></th>\n",
       "      <th></th>\n",
       "      <th></th>\n",
       "      <th></th>\n",
       "      <th></th>\n",
       "      <th></th>\n",
       "      <th></th>\n",
       "      <th></th>\n",
       "      <th></th>\n",
       "      <th></th>\n",
       "      <th></th>\n",
       "      <th></th>\n",
       "      <th></th>\n",
       "      <th></th>\n",
       "      <th></th>\n",
       "      <th></th>\n",
       "      <th></th>\n",
       "      <th></th>\n",
       "      <th></th>\n",
       "      <th></th>\n",
       "    </tr>\n",
       "  </thead>\n",
       "  <tbody>\n",
       "    <tr>\n",
       "      <th>51635</th>\n",
       "      <td>-0.125617</td>\n",
       "      <td>-0.564323</td>\n",
       "      <td>-1.949488</td>\n",
       "      <td>-0.518036</td>\n",
       "      <td>1.548731</td>\n",
       "      <td>1.518260</td>\n",
       "      <td>0.315039</td>\n",
       "      <td>-0.330317</td>\n",
       "      <td>-0.678309</td>\n",
       "      <td>1.652225</td>\n",
       "      <td>...</td>\n",
       "      <td>-1.121820</td>\n",
       "      <td>-0.799507</td>\n",
       "      <td>-1.227111</td>\n",
       "      <td>-0.629981</td>\n",
       "      <td>-0.823108</td>\n",
       "      <td>-0.829233</td>\n",
       "      <td>-0.848049</td>\n",
       "      <td>-10.0000</td>\n",
       "      <td>-0.9592</td>\n",
       "      <td>1.8779</td>\n",
       "    </tr>\n",
       "    <tr>\n",
       "      <th>8872</th>\n",
       "      <td>-0.289844</td>\n",
       "      <td>-1.531495</td>\n",
       "      <td>-0.173728</td>\n",
       "      <td>0.521163</td>\n",
       "      <td>-0.877650</td>\n",
       "      <td>0.294446</td>\n",
       "      <td>-0.549678</td>\n",
       "      <td>-0.507737</td>\n",
       "      <td>-0.589620</td>\n",
       "      <td>0.595361</td>\n",
       "      <td>...</td>\n",
       "      <td>-0.065263</td>\n",
       "      <td>-1.959731</td>\n",
       "      <td>-1.051817</td>\n",
       "      <td>0.060470</td>\n",
       "      <td>1.186062</td>\n",
       "      <td>-0.293673</td>\n",
       "      <td>0.032575</td>\n",
       "      <td>-1.4244</td>\n",
       "      <td>-0.5366</td>\n",
       "      <td>-0.4779</td>\n",
       "    </tr>\n",
       "  </tbody>\n",
       "</table>\n",
       "<p>2 rows × 473647 columns</p>\n",
       "</div>"
      ],
      "text/plain": [
       "cid    CPC005_A375_6H:BRD-A85280935-003-01-7:10  \\\n",
       "rid                                               \n",
       "51635                                 -0.125617   \n",
       "8872                                  -0.289844   \n",
       "\n",
       "cid    CPC005_A375_6H:BRD-A07824748-001-02-6:10  \\\n",
       "rid                                               \n",
       "51635                                 -0.564323   \n",
       "8872                                  -1.531495   \n",
       "\n",
       "cid    CPC004_A375_6H:BRD-K20482099-001-01-1:10  \\\n",
       "rid                                               \n",
       "51635                                 -1.949488   \n",
       "8872                                  -0.173728   \n",
       "\n",
       "cid    CPC005_A375_6H:BRD-K62929068-001-03-3:10  \\\n",
       "rid                                               \n",
       "51635                                 -0.518036   \n",
       "8872                                   0.521163   \n",
       "\n",
       "cid    CPC005_A375_6H:BRD-K43405658-001-01-8:10  \\\n",
       "rid                                               \n",
       "51635                                  1.548731   \n",
       "8872                                  -0.877650   \n",
       "\n",
       "cid    CPC004_A375_6H:BRD-K03670461-001-02-0:10  \\\n",
       "rid                                               \n",
       "51635                                  1.518260   \n",
       "8872                                   0.294446   \n",
       "\n",
       "cid    CPC004_A375_6H:BRD-K36737713-001-01-6:10  \\\n",
       "rid                                               \n",
       "51635                                  0.315039   \n",
       "8872                                  -0.549678   \n",
       "\n",
       "cid    CPC005_A375_6H:BRD-K51223576-001-01-3:10  \\\n",
       "rid                                               \n",
       "51635                                 -0.330317   \n",
       "8872                                  -0.507737   \n",
       "\n",
       "cid    CPC004_A375_6H:BRD-A14966924-001-03-0:10  \\\n",
       "rid                                               \n",
       "51635                                 -0.678309   \n",
       "8872                                  -0.589620   \n",
       "\n",
       "cid    CPC004_A375_6H:BRD-K79131256-001-08-8:10  ...  \\\n",
       "rid                                              ...   \n",
       "51635                                  1.652225  ...   \n",
       "8872                                   0.595361  ...   \n",
       "\n",
       "cid    PCLB003_PC3_24H:BRD-A52530684-003-01-7:0.04  \\\n",
       "rid                                                  \n",
       "51635                                    -1.121820   \n",
       "8872                                     -0.065263   \n",
       "\n",
       "cid    PCLB003_PC3_24H:BRD-A75409952-001-01-6:10  \\\n",
       "rid                                                \n",
       "51635                                  -0.799507   \n",
       "8872                                   -1.959731   \n",
       "\n",
       "cid    PCLB003_PC3_24H:BRD-A75409952-001-01-6:3.33  \\\n",
       "rid                                                  \n",
       "51635                                    -1.227111   \n",
       "8872                                     -1.051817   \n",
       "\n",
       "cid    PCLB003_PC3_24H:BRD-A75409952-001-01-6:1.11  \\\n",
       "rid                                                  \n",
       "51635                                    -0.629981   \n",
       "8872                                      0.060470   \n",
       "\n",
       "cid    PCLB003_PC3_24H:BRD-A75409952-001-01-6:0.37  \\\n",
       "rid                                                  \n",
       "51635                                    -0.823108   \n",
       "8872                                      1.186062   \n",
       "\n",
       "cid    PCLB003_PC3_24H:BRD-A75409952-001-01-6:0.12  \\\n",
       "rid                                                  \n",
       "51635                                    -0.829233   \n",
       "8872                                     -0.293673   \n",
       "\n",
       "cid    PCLB003_PC3_24H:BRD-A75409952-001-01-6:0.04  \\\n",
       "rid                                                  \n",
       "51635                                    -0.848049   \n",
       "8872                                      0.032575   \n",
       "\n",
       "cid    PCLB003_PC3_24H:BRD-K42573370-001-01-1:10  \\\n",
       "rid                                                \n",
       "51635                                   -10.0000   \n",
       "8872                                     -1.4244   \n",
       "\n",
       "cid    PCLB003_PC3_24H:BRD-K53665955-001-01-4:0.04  \\\n",
       "rid                                                  \n",
       "51635                                      -0.9592   \n",
       "8872                                       -0.5366   \n",
       "\n",
       "cid    PCLB003_PC3_24H:BRD-K04466929-001-05-1:10  \n",
       "rid                                               \n",
       "51635                                     1.8779  \n",
       "8872                                     -0.4779  \n",
       "\n",
       "[2 rows x 473647 columns]"
      ]
     },
     "execution_count": 32,
     "metadata": {},
     "output_type": "execute_result"
    }
   ],
   "source": [
    "critical_gene_only_gctoo.data_df.head(2)"
   ]
  },
  {
   "cell_type": "code",
   "execution_count": 138,
   "id": "personalized-maryland",
   "metadata": {},
   "outputs": [
    {
     "data": {
      "image/png": "[encoded data removed]",
      "text/plain": [
       "<Figure size 432x288 with 1 Axes>"
      ]
     },
     "metadata": {
      "needs_background": "light"
     },
     "output_type": "display_data"
    }
   ],
   "source": [
    "plt.hist(critical_gene_only_gctoo.data_df.loc['8872'], bins = 15);"
   ]
  },
  {
   "cell_type": "markdown",
   "id": "transsexual-procurement",
   "metadata": {},
   "source": [
    "# get > 90% connectivity "
   ]
  },
  {
   "cell_type": "code",
   "execution_count": 68,
   "id": "amazing-interest",
   "metadata": {},
   "outputs": [],
   "source": [
    "positive_num = critical_gene_only_gctoo.data_df.loc['51635'][critical_gene_only_gctoo.data_df.loc['51635'] > 0].shape[0]"
   ]
  },
  {
   "cell_type": "code",
   "execution_count": 69,
   "id": "advance-cycle",
   "metadata": {},
   "outputs": [
    {
     "data": {
      "text/plain": [
       "234795"
      ]
     },
     "execution_count": 69,
     "metadata": {},
     "output_type": "execute_result"
    }
   ],
   "source": [
    "positive_num"
   ]
  },
  {
   "cell_type": "code",
   "execution_count": 107,
   "id": "bridal-condition",
   "metadata": {},
   "outputs": [
    {
     "data": {
      "text/plain": [
       "23479"
      ]
     },
     "execution_count": 107,
     "metadata": {},
     "output_type": "execute_result"
    }
   ],
   "source": [
    "int(0.1*positive_num)"
   ]
  },
  {
   "cell_type": "code",
   "execution_count": 108,
   "id": "allied-tournament",
   "metadata": {},
   "outputs": [
    {
     "data": {
      "text/plain": [
       "1.4417499"
      ]
     },
     "execution_count": 108,
     "metadata": {},
     "output_type": "execute_result"
    }
   ],
   "source": [
    "critical_gene_only_gctoo.data_df.loc['51635'].sort_values(ascending = False)[23479]"
   ]
  },
  {
   "cell_type": "code",
   "execution_count": 109,
   "id": "marked-brooks",
   "metadata": {},
   "outputs": [],
   "source": [
    "cids = critical_gene_only_gctoo.data_df.loc['51635'][critical_gene_only_gctoo.data_df.loc['51635'] > 1.442].index"
   ]
  },
  {
   "cell_type": "code",
   "execution_count": 120,
   "id": "arranged-threat",
   "metadata": {},
   "outputs": [
    {
     "data": {
      "text/html": [
       "<div>\n",
       "<style scoped>\n",
       "    .dataframe tbody tr th:only-of-type {\n",
       "        vertical-align: middle;\n",
       "    }\n",
       "\n",
       "    .dataframe tbody tr th {\n",
       "        vertical-align: top;\n",
       "    }\n",
       "\n",
       "    .dataframe thead th {\n",
       "        text-align: right;\n",
       "    }\n",
       "</style>\n",
       "<table border=\"1\" class=\"dataframe\">\n",
       "  <thead>\n",
       "    <tr style=\"text-align: right;\">\n",
       "      <th></th>\n",
       "      <th>sig_id</th>\n",
       "      <th>pert_id</th>\n",
       "      <th>pert_iname</th>\n",
       "      <th>pert_type</th>\n",
       "      <th>cell_id</th>\n",
       "      <th>pert_dose</th>\n",
       "      <th>pert_dose_unit</th>\n",
       "      <th>pert_idose</th>\n",
       "      <th>pert_time</th>\n",
       "      <th>pert_time_unit</th>\n",
       "      <th>pert_itime</th>\n",
       "      <th>distil_id</th>\n",
       "    </tr>\n",
       "  </thead>\n",
       "  <tbody>\n",
       "    <tr>\n",
       "      <th>0</th>\n",
       "      <td>AML001_CD34_24H:A05</td>\n",
       "      <td>DMSO</td>\n",
       "      <td>DMSO</td>\n",
       "      <td>ctl_vehicle</td>\n",
       "      <td>CD34</td>\n",
       "      <td>0.1</td>\n",
       "      <td>%</td>\n",
       "      <td>0.1 %</td>\n",
       "      <td>24</td>\n",
       "      <td>h</td>\n",
       "      <td>24 h</td>\n",
       "      <td>AML001_CD34_24H_X1_F1B10:A05</td>\n",
       "    </tr>\n",
       "    <tr>\n",
       "      <th>1</th>\n",
       "      <td>AML001_CD34_24H:A06</td>\n",
       "      <td>DMSO</td>\n",
       "      <td>DMSO</td>\n",
       "      <td>ctl_vehicle</td>\n",
       "      <td>CD34</td>\n",
       "      <td>0.1</td>\n",
       "      <td>%</td>\n",
       "      <td>0.1 %</td>\n",
       "      <td>24</td>\n",
       "      <td>h</td>\n",
       "      <td>24 h</td>\n",
       "      <td>AML001_CD34_24H_X3_F1B10:A06</td>\n",
       "    </tr>\n",
       "    <tr>\n",
       "      <th>2</th>\n",
       "      <td>AML001_CD34_24H:B05</td>\n",
       "      <td>DMSO</td>\n",
       "      <td>DMSO</td>\n",
       "      <td>ctl_vehicle</td>\n",
       "      <td>CD34</td>\n",
       "      <td>0.1</td>\n",
       "      <td>%</td>\n",
       "      <td>0.1 %</td>\n",
       "      <td>24</td>\n",
       "      <td>h</td>\n",
       "      <td>24 h</td>\n",
       "      <td>AML001_CD34_24H_X1_F1B10:B05|AML001_CD34_24H_X...</td>\n",
       "    </tr>\n",
       "    <tr>\n",
       "      <th>3</th>\n",
       "      <td>AML001_CD34_24H:B06</td>\n",
       "      <td>DMSO</td>\n",
       "      <td>DMSO</td>\n",
       "      <td>ctl_vehicle</td>\n",
       "      <td>CD34</td>\n",
       "      <td>0.1</td>\n",
       "      <td>%</td>\n",
       "      <td>0.1 %</td>\n",
       "      <td>24</td>\n",
       "      <td>h</td>\n",
       "      <td>24 h</td>\n",
       "      <td>AML001_CD34_24H_X3_F1B10:B06</td>\n",
       "    </tr>\n",
       "    <tr>\n",
       "      <th>4</th>\n",
       "      <td>AML001_CD34_24H:BRD-A03772856:0.37037</td>\n",
       "      <td>BRD-A03772856</td>\n",
       "      <td>BRD-A03772856</td>\n",
       "      <td>trt_cp</td>\n",
       "      <td>CD34</td>\n",
       "      <td>0.37037</td>\n",
       "      <td>µM</td>\n",
       "      <td>500 nM</td>\n",
       "      <td>24</td>\n",
       "      <td>h</td>\n",
       "      <td>24 h</td>\n",
       "      <td>AML001_CD34_24H_X1_F1B10:J04|AML001_CD34_24H_X...</td>\n",
       "    </tr>\n",
       "  </tbody>\n",
       "</table>\n",
       "</div>"
      ],
      "text/plain": [
       "                                  sig_id        pert_id     pert_iname  \\\n",
       "0                    AML001_CD34_24H:A05           DMSO           DMSO   \n",
       "1                    AML001_CD34_24H:A06           DMSO           DMSO   \n",
       "2                    AML001_CD34_24H:B05           DMSO           DMSO   \n",
       "3                    AML001_CD34_24H:B06           DMSO           DMSO   \n",
       "4  AML001_CD34_24H:BRD-A03772856:0.37037  BRD-A03772856  BRD-A03772856   \n",
       "\n",
       "     pert_type cell_id pert_dose pert_dose_unit pert_idose  pert_time  \\\n",
       "0  ctl_vehicle    CD34       0.1              %      0.1 %         24   \n",
       "1  ctl_vehicle    CD34       0.1              %      0.1 %         24   \n",
       "2  ctl_vehicle    CD34       0.1              %      0.1 %         24   \n",
       "3  ctl_vehicle    CD34       0.1              %      0.1 %         24   \n",
       "4       trt_cp    CD34   0.37037             µM     500 nM         24   \n",
       "\n",
       "  pert_time_unit pert_itime                                          distil_id  \n",
       "0              h       24 h                       AML001_CD34_24H_X1_F1B10:A05  \n",
       "1              h       24 h                       AML001_CD34_24H_X3_F1B10:A06  \n",
       "2              h       24 h  AML001_CD34_24H_X1_F1B10:B05|AML001_CD34_24H_X...  \n",
       "3              h       24 h                       AML001_CD34_24H_X3_F1B10:B06  \n",
       "4              h       24 h  AML001_CD34_24H_X1_F1B10:J04|AML001_CD34_24H_X...  "
      ]
     },
     "execution_count": 120,
     "metadata": {},
     "output_type": "execute_result"
    }
   ],
   "source": [
    "sig_info.head()"
   ]
  },
  {
   "cell_type": "code",
   "execution_count": 121,
   "id": "religious-document",
   "metadata": {},
   "outputs": [
    {
     "data": {
      "text/plain": [
       "True"
      ]
     },
     "execution_count": 121,
     "metadata": {},
     "output_type": "execute_result"
    }
   ],
   "source": [
    "cids[0] in sig_info['sig_id'].unique()"
   ]
  },
  {
   "cell_type": "code",
   "execution_count": 122,
   "id": "aggregate-attention",
   "metadata": {},
   "outputs": [],
   "source": [
    "sample_of_interest = sig_info[sig_info['sig_id'].isin(cids)]"
   ]
  },
  {
   "cell_type": "code",
   "execution_count": 128,
   "id": "correct-minnesota",
   "metadata": {},
   "outputs": [
    {
     "data": {
      "text/html": [
       "<div>\n",
       "<style scoped>\n",
       "    .dataframe tbody tr th:only-of-type {\n",
       "        vertical-align: middle;\n",
       "    }\n",
       "\n",
       "    .dataframe tbody tr th {\n",
       "        vertical-align: top;\n",
       "    }\n",
       "\n",
       "    .dataframe thead th {\n",
       "        text-align: right;\n",
       "    }\n",
       "</style>\n",
       "<table border=\"1\" class=\"dataframe\">\n",
       "  <thead>\n",
       "    <tr style=\"text-align: right;\">\n",
       "      <th></th>\n",
       "      <th>sig_id</th>\n",
       "      <th>pert_id</th>\n",
       "      <th>pert_iname</th>\n",
       "      <th>pert_type</th>\n",
       "      <th>cell_id</th>\n",
       "      <th>pert_dose</th>\n",
       "      <th>pert_dose_unit</th>\n",
       "      <th>pert_idose</th>\n",
       "      <th>pert_time</th>\n",
       "      <th>pert_time_unit</th>\n",
       "      <th>pert_itime</th>\n",
       "      <th>distil_id</th>\n",
       "    </tr>\n",
       "  </thead>\n",
       "  <tbody>\n",
       "    <tr>\n",
       "      <th>28643</th>\n",
       "      <td>CGS001_NPC_96H:CLASRP:1.5</td>\n",
       "      <td>CGS001-11129</td>\n",
       "      <td>CLASRP</td>\n",
       "      <td>trt_sh.cgs</td>\n",
       "      <td>NPC</td>\n",
       "      <td>1.5</td>\n",
       "      <td>µL</td>\n",
       "      <td>1.5 µL</td>\n",
       "      <td>96</td>\n",
       "      <td>h</td>\n",
       "      <td>96 h</td>\n",
       "      <td>KDB008_NPC_96H:TRCN0000075089:-666|KDB008_NPC_...</td>\n",
       "    </tr>\n",
       "    <tr>\n",
       "      <th>28666</th>\n",
       "      <td>CGS001_NPC_96H:CREB3L2:1.5</td>\n",
       "      <td>CGS001-64764</td>\n",
       "      <td>CREB3L2</td>\n",
       "      <td>trt_sh.cgs</td>\n",
       "      <td>NPC</td>\n",
       "      <td>1.5</td>\n",
       "      <td>µL</td>\n",
       "      <td>1.5 µL</td>\n",
       "      <td>96</td>\n",
       "      <td>h</td>\n",
       "      <td>96 h</td>\n",
       "      <td>KDB007_NPC_96H:TRCN0000016439:-666|KDB007_NPC_...</td>\n",
       "    </tr>\n",
       "    <tr>\n",
       "      <th>28700</th>\n",
       "      <td>CGS001_NPC_96H:DHDDS:1.5</td>\n",
       "      <td>CGS001-79947</td>\n",
       "      <td>DHDDS</td>\n",
       "      <td>trt_sh.cgs</td>\n",
       "      <td>NPC</td>\n",
       "      <td>1.5</td>\n",
       "      <td>µL</td>\n",
       "      <td>1.5 µL</td>\n",
       "      <td>96</td>\n",
       "      <td>h</td>\n",
       "      <td>96 h</td>\n",
       "      <td>KDB009_NPC_96H:TRCN0000045573:-666|KDB009_NPC_...</td>\n",
       "    </tr>\n",
       "    <tr>\n",
       "      <th>28707</th>\n",
       "      <td>CGS001_NPC_96H:DLGAP5:1.5</td>\n",
       "      <td>CGS001-9787</td>\n",
       "      <td>DLGAP5</td>\n",
       "      <td>trt_sh.cgs</td>\n",
       "      <td>NPC</td>\n",
       "      <td>1.5</td>\n",
       "      <td>µL</td>\n",
       "      <td>1.5 µL</td>\n",
       "      <td>96</td>\n",
       "      <td>h</td>\n",
       "      <td>96 h</td>\n",
       "      <td>KDB005_NPC_96H:TRCN0000062230:-666|KDB005_NPC_...</td>\n",
       "    </tr>\n",
       "    <tr>\n",
       "      <th>28751</th>\n",
       "      <td>CGS001_NPC_96H:EPHA2:1.5</td>\n",
       "      <td>CGS001-1969</td>\n",
       "      <td>EPHA2</td>\n",
       "      <td>trt_sh.cgs</td>\n",
       "      <td>NPC</td>\n",
       "      <td>1.5</td>\n",
       "      <td>µL</td>\n",
       "      <td>1.5 µL</td>\n",
       "      <td>96</td>\n",
       "      <td>h</td>\n",
       "      <td>96 h</td>\n",
       "      <td>KDB007_NPC_96H:TRCN0000006403:-666|KDB007_NPC_...</td>\n",
       "    </tr>\n",
       "    <tr>\n",
       "      <th>...</th>\n",
       "      <td>...</td>\n",
       "      <td>...</td>\n",
       "      <td>...</td>\n",
       "      <td>...</td>\n",
       "      <td>...</td>\n",
       "      <td>...</td>\n",
       "      <td>...</td>\n",
       "      <td>...</td>\n",
       "      <td>...</td>\n",
       "      <td>...</td>\n",
       "      <td>...</td>\n",
       "      <td>...</td>\n",
       "    </tr>\n",
       "    <tr>\n",
       "      <th>437327</th>\n",
       "      <td>NMH002_NPC_6H:BRD-K97399794-001-12-0:10</td>\n",
       "      <td>BRD-K97399794</td>\n",
       "      <td>quercetin</td>\n",
       "      <td>trt_cp</td>\n",
       "      <td>NPC</td>\n",
       "      <td>10.0</td>\n",
       "      <td>µM</td>\n",
       "      <td>10 µM</td>\n",
       "      <td>6</td>\n",
       "      <td>h</td>\n",
       "      <td>6 h</td>\n",
       "      <td>NMH002_NPC_6H_X1_B6_DUO52HI53LO:C12|NMH002_NPC...</td>\n",
       "    </tr>\n",
       "    <tr>\n",
       "      <th>437332</th>\n",
       "      <td>NMH002_NPC_6H:BRD-K99667445-001-02-2:10</td>\n",
       "      <td>BRD-K99667445</td>\n",
       "      <td>licochalcone-a</td>\n",
       "      <td>trt_cp</td>\n",
       "      <td>NPC</td>\n",
       "      <td>10.0</td>\n",
       "      <td>µM</td>\n",
       "      <td>10 µM</td>\n",
       "      <td>6</td>\n",
       "      <td>h</td>\n",
       "      <td>6 h</td>\n",
       "      <td>NMH002_NPC_6H_X1_B6_DUO52HI53LO:L05|NMH002_NPC...</td>\n",
       "    </tr>\n",
       "    <tr>\n",
       "      <th>437347</th>\n",
       "      <td>NMH002_NPC_6H:J16</td>\n",
       "      <td>DMSO</td>\n",
       "      <td>DMSO</td>\n",
       "      <td>ctl_vehicle</td>\n",
       "      <td>NPC</td>\n",
       "      <td>-666.0</td>\n",
       "      <td>-666</td>\n",
       "      <td>-666</td>\n",
       "      <td>6</td>\n",
       "      <td>h</td>\n",
       "      <td>6 h</td>\n",
       "      <td>NMH002_NPC_6H_X1_B6_DUO52HI53LO:J16|NMH002_NPC...</td>\n",
       "    </tr>\n",
       "    <tr>\n",
       "      <th>437348</th>\n",
       "      <td>NMH002_NPC_6H:M09</td>\n",
       "      <td>DMSO</td>\n",
       "      <td>DMSO</td>\n",
       "      <td>ctl_vehicle</td>\n",
       "      <td>NPC</td>\n",
       "      <td>-666.0</td>\n",
       "      <td>-666</td>\n",
       "      <td>-666</td>\n",
       "      <td>6</td>\n",
       "      <td>h</td>\n",
       "      <td>6 h</td>\n",
       "      <td>NMH002_NPC_6H_X1_B6_DUO52HI53LO:M09|NMH002_NPC...</td>\n",
       "    </tr>\n",
       "    <tr>\n",
       "      <th>437351</th>\n",
       "      <td>NMH002_NPC_6H:N10</td>\n",
       "      <td>DMSO</td>\n",
       "      <td>DMSO</td>\n",
       "      <td>ctl_vehicle</td>\n",
       "      <td>NPC</td>\n",
       "      <td>-666.0</td>\n",
       "      <td>-666</td>\n",
       "      <td>-666</td>\n",
       "      <td>6</td>\n",
       "      <td>h</td>\n",
       "      <td>6 h</td>\n",
       "      <td>NMH002_NPC_6H_X1_B6_DUO52HI53LO:N10|NMH002_NPC...</td>\n",
       "    </tr>\n",
       "  </tbody>\n",
       "</table>\n",
       "<p>1135 rows × 12 columns</p>\n",
       "</div>"
      ],
      "text/plain": [
       "                                         sig_id        pert_id  \\\n",
       "28643                 CGS001_NPC_96H:CLASRP:1.5   CGS001-11129   \n",
       "28666                CGS001_NPC_96H:CREB3L2:1.5   CGS001-64764   \n",
       "28700                  CGS001_NPC_96H:DHDDS:1.5   CGS001-79947   \n",
       "28707                 CGS001_NPC_96H:DLGAP5:1.5    CGS001-9787   \n",
       "28751                  CGS001_NPC_96H:EPHA2:1.5    CGS001-1969   \n",
       "...                                         ...            ...   \n",
       "437327  NMH002_NPC_6H:BRD-K97399794-001-12-0:10  BRD-K97399794   \n",
       "437332  NMH002_NPC_6H:BRD-K99667445-001-02-2:10  BRD-K99667445   \n",
       "437347                        NMH002_NPC_6H:J16           DMSO   \n",
       "437348                        NMH002_NPC_6H:M09           DMSO   \n",
       "437351                        NMH002_NPC_6H:N10           DMSO   \n",
       "\n",
       "            pert_iname    pert_type cell_id pert_dose pert_dose_unit  \\\n",
       "28643           CLASRP   trt_sh.cgs     NPC       1.5             µL   \n",
       "28666          CREB3L2   trt_sh.cgs     NPC       1.5             µL   \n",
       "28700            DHDDS   trt_sh.cgs     NPC       1.5             µL   \n",
       "28707           DLGAP5   trt_sh.cgs     NPC       1.5             µL   \n",
       "28751            EPHA2   trt_sh.cgs     NPC       1.5             µL   \n",
       "...                ...          ...     ...       ...            ...   \n",
       "437327       quercetin       trt_cp     NPC      10.0             µM   \n",
       "437332  licochalcone-a       trt_cp     NPC      10.0             µM   \n",
       "437347            DMSO  ctl_vehicle     NPC    -666.0           -666   \n",
       "437348            DMSO  ctl_vehicle     NPC    -666.0           -666   \n",
       "437351            DMSO  ctl_vehicle     NPC    -666.0           -666   \n",
       "\n",
       "       pert_idose  pert_time pert_time_unit pert_itime  \\\n",
       "28643      1.5 µL         96              h       96 h   \n",
       "28666      1.5 µL         96              h       96 h   \n",
       "28700      1.5 µL         96              h       96 h   \n",
       "28707      1.5 µL         96              h       96 h   \n",
       "28751      1.5 µL         96              h       96 h   \n",
       "...           ...        ...            ...        ...   \n",
       "437327      10 µM          6              h        6 h   \n",
       "437332      10 µM          6              h        6 h   \n",
       "437347       -666          6              h        6 h   \n",
       "437348       -666          6              h        6 h   \n",
       "437351       -666          6              h        6 h   \n",
       "\n",
       "                                                distil_id  \n",
       "28643   KDB008_NPC_96H:TRCN0000075089:-666|KDB008_NPC_...  \n",
       "28666   KDB007_NPC_96H:TRCN0000016439:-666|KDB007_NPC_...  \n",
       "28700   KDB009_NPC_96H:TRCN0000045573:-666|KDB009_NPC_...  \n",
       "28707   KDB005_NPC_96H:TRCN0000062230:-666|KDB005_NPC_...  \n",
       "28751   KDB007_NPC_96H:TRCN0000006403:-666|KDB007_NPC_...  \n",
       "...                                                   ...  \n",
       "437327  NMH002_NPC_6H_X1_B6_DUO52HI53LO:C12|NMH002_NPC...  \n",
       "437332  NMH002_NPC_6H_X1_B6_DUO52HI53LO:L05|NMH002_NPC...  \n",
       "437347  NMH002_NPC_6H_X1_B6_DUO52HI53LO:J16|NMH002_NPC...  \n",
       "437348  NMH002_NPC_6H_X1_B6_DUO52HI53LO:M09|NMH002_NPC...  \n",
       "437351  NMH002_NPC_6H_X1_B6_DUO52HI53LO:N10|NMH002_NPC...  \n",
       "\n",
       "[1135 rows x 12 columns]"
      ]
     },
     "execution_count": 128,
     "metadata": {},
     "output_type": "execute_result"
    }
   ],
   "source": [
    "sample_of_interest[sample_of_interest['cell_id'].isin(neu_ids)]"
   ]
  },
  {
   "cell_type": "markdown",
   "id": "stylish-marks",
   "metadata": {},
   "source": [
    "# Also, add methods to query a list of critical genes and find high connectivity score for all of them --> better candidate"
   ]
  },
  {
   "cell_type": "markdown",
   "id": "official-irish",
   "metadata": {},
   "source": [
    "# Next, determine the connectivity score for these treatments for each gene"
   ]
  },
  {
   "cell_type": "code",
   "execution_count": null,
   "id": "constant-planning",
   "metadata": {},
   "outputs": [],
   "source": []
  },
  {
   "cell_type": "code",
   "execution_count": 116,
   "id": "chicken-corporation",
   "metadata": {},
   "outputs": [
    {
     "data": {
      "text/plain": [
       "23466"
      ]
     },
     "execution_count": 116,
     "metadata": {},
     "output_type": "execute_result"
    }
   ],
   "source": [
    "len(cell_types)"
   ]
  },
  {
   "cell_type": "code",
   "execution_count": null,
   "id": "material-angola",
   "metadata": {},
   "outputs": [],
   "source": []
  },
  {
   "cell_type": "code",
   "execution_count": 111,
   "id": "expanded-buying",
   "metadata": {},
   "outputs": [],
   "source": [
    "from collections import Counter\n",
    "cell_type_cnt = Counter(cell_types)"
   ]
  },
  {
   "cell_type": "code",
   "execution_count": 112,
   "id": "stupid-albany",
   "metadata": {},
   "outputs": [
    {
     "data": {
      "text/plain": [
       "61    SHSY5Y\n",
       "83      MNEU\n",
       "84       NEU\n",
       "85       NEU\n",
       "86       NPC\n",
       "87       NPC\n",
       "88       NPC\n",
       "89     HUES3\n",
       "Name: base_cell_id, dtype: object"
      ]
     },
     "execution_count": 112,
     "metadata": {},
     "output_type": "execute_result"
    }
   ],
   "source": [
    "neu_ids"
   ]
  },
  {
   "cell_type": "code",
   "execution_count": 113,
   "id": "amended-tolerance",
   "metadata": {},
   "outputs": [
    {
     "data": {
      "text/plain": [
       "859"
      ]
     },
     "execution_count": 113,
     "metadata": {},
     "output_type": "execute_result"
    }
   ],
   "source": [
    "cell_type_cnt['NPC']"
   ]
  },
  {
   "cell_type": "code",
   "execution_count": null,
   "id": "historical-scottish",
   "metadata": {},
   "outputs": [],
   "source": []
  },
  {
   "cell_type": "code",
   "execution_count": 34,
   "id": "altered-arlington",
   "metadata": {},
   "outputs": [
    {
     "data": {
      "text/plain": [
       "728      8872\n",
       "1479     8803\n",
       "6361    51635\n",
       "6972    23306\n",
       "7480    11051\n",
       "Name: pr_gene_id, dtype: object"
      ]
     },
     "execution_count": 34,
     "metadata": {},
     "output_type": "execute_result"
    }
   ],
   "source": [
    "critical_gene_only_gctoo.data_df"
   ]
  },
  {
   "cell_type": "code",
   "execution_count": null,
   "id": "coated-printing",
   "metadata": {},
   "outputs": [],
   "source": []
  }
 ],
 "metadata": {
  "kernelspec": {
   "display_name": "Python 3",
   "language": "python",
   "name": "python3"
  },
  "language_info": {
   "codemirror_mode": {
    "name": "ipython",
    "version": 3
   },
   "file_extension": ".py",
   "mimetype": "text/x-python",
   "name": "python",
   "nbconvert_exporter": "python",
   "pygments_lexer": "ipython3",
   "version": "3.8.3"
  }
 },
 "nbformat": 4,
 "nbformat_minor": 5
}
