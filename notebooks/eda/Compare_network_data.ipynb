{
 "cells": [
  {
   "cell_type": "markdown",
   "id": "ongoing-python",
   "metadata": {},
   "source": [
    "# This notebook is to compare the TOM data uploaded directly by Laura on 10/18/2020 and the TOM data obtained from the \"coga-inia.wgcna.hub.genes.files.RData\""
   ]
  },
  {
   "cell_type": "code",
   "execution_count": 1,
   "id": "apparent-salmon",
   "metadata": {},
   "outputs": [],
   "source": [
    "import sys\n",
    "sys.path.append(\"../..\")\n",
    "from sys import platform \n",
    "import pandas as pd\n",
    "import matplotlib.pyplot as plt\n",
    "%matplotlib inline\n",
    "%load_ext autoreload\n",
    "%autoreload 2"
   ]
  },
  {
   "cell_type": "code",
   "execution_count": null,
   "id": "dominant-hamilton",
   "metadata": {},
   "outputs": [],
   "source": [
    "%%time\n",
    "prefix = 'G:' if platform == 'win32' else '/Volumes/GoogleDrive'\n",
    "old_tom = pd.read_csv(prefix + '/Shared drives/NIAAA_ASSIST/Data/Kapoor_TOM.csv', index_col = 0)"
   ]
  },
  {
   "cell_type": "code",
   "execution_count": null,
   "id": "opening-number",
   "metadata": {},
   "outputs": [],
   "source": [
    "new_tom = pd.read_csv(prefix + '/Shared drives/NIAAA_ASSIST/Data/kapoor_TOM_Apr5.csv', index_col = 0)"
   ]
  },
  {
   "cell_type": "code",
   "execution_count": null,
   "id": "unavailable-burning",
   "metadata": {},
   "outputs": [],
   "source": []
  },
  {
   "cell_type": "code",
   "execution_count": null,
   "id": "turned-empire",
   "metadata": {},
   "outputs": [],
   "source": []
  },
  {
   "cell_type": "code",
   "execution_count": null,
   "id": "royal-minister",
   "metadata": {},
   "outputs": [],
   "source": []
  }
 ],
 "metadata": {
  "kernelspec": {
   "display_name": "Python 3",
   "language": "python",
   "name": "python3"
  },
  "language_info": {
   "codemirror_mode": {
    "name": "ipython",
    "version": 3
   },
   "file_extension": ".py",
   "mimetype": "text/x-python",
   "name": "python",
   "nbconvert_exporter": "python",
   "pygments_lexer": "ipython3",
   "version": "3.8.5"
  }
 },
 "nbformat": 4,
 "nbformat_minor": 5
}
