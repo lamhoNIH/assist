{
 "cells": [
  {
   "cell_type": "markdown",
   "id": "overall-tucson",
   "metadata": {},
   "source": [
    "# This notebook is to compare the TOM data uploaded directly by Laura on 10/18/2020 and the TOM data obtained from the \"coga-inia.wgcna.hub.genes.files.RData\""
   ]
  },
  {
   "cell_type": "code",
   "execution_count": 1,
   "id": "altered-bailey",
   "metadata": {},
   "outputs": [],
   "source": [
    "import sys\n",
    "sys.path.append(\"../..\")\n",
    "from sys import platform \n",
    "import pandas as pd\n",
    "from src.eda.eda_functions import scale_free_validate\n",
    "import numpy as np\n",
    "import matplotlib.pyplot as plt\n",
    "%matplotlib inline\n",
    "%load_ext autoreload\n",
    "%autoreload 2"
   ]
  },
  {
   "cell_type": "code",
   "execution_count": 2,
   "id": "historical-anger",
   "metadata": {},
   "outputs": [
    {
     "name": "stdout",
     "output_type": "stream",
     "text": [
      "Wall time: 5min 39s\n"
     ]
    }
   ],
   "source": [
    "%%time\n",
    "prefix = 'G:' if platform == 'win32' else '/Volumes/GoogleDrive'\n",
    "old_tom = pd.read_csv(prefix + '/Shared drives/NIAAA_ASSIST/Data/Kapoor_TOM.csv', index_col = 0)"
   ]
  },
  {
   "cell_type": "code",
   "execution_count": 5,
   "id": "noted-blair",
   "metadata": {},
   "outputs": [],
   "source": [
    "new_tom = pd.read_csv(prefix + '/Shared drives/NIAAA_ASSIST/Data/kapoor_TOM_Apr5.csv', index_col = 0)"
   ]
  },
  {
   "cell_type": "code",
   "execution_count": 6,
   "id": "solid-hampton",
   "metadata": {},
   "outputs": [
    {
     "data": {
      "text/html": [
       "<div>\n",
       "<style scoped>\n",
       "    .dataframe tbody tr th:only-of-type {\n",
       "        vertical-align: middle;\n",
       "    }\n",
       "\n",
       "    .dataframe tbody tr th {\n",
       "        vertical-align: top;\n",
       "    }\n",
       "\n",
       "    .dataframe thead th {\n",
       "        text-align: right;\n",
       "    }\n",
       "</style>\n",
       "<table border=\"1\" class=\"dataframe\">\n",
       "  <thead>\n",
       "    <tr style=\"text-align: right;\">\n",
       "      <th></th>\n",
       "      <th>ENSG00000227232</th>\n",
       "      <th>ENSG00000237683</th>\n",
       "      <th>ENSG00000241860</th>\n",
       "      <th>ENSG00000228463</th>\n",
       "      <th>ENSG00000225972</th>\n",
       "      <th>ENSG00000225630</th>\n",
       "      <th>ENSG00000237973</th>\n",
       "      <th>ENSG00000229344</th>\n",
       "      <th>ENSG00000248527</th>\n",
       "      <th>ENSG00000198744</th>\n",
       "      <th>...</th>\n",
       "      <th>ENSG00000226555</th>\n",
       "      <th>ENSG00000176728</th>\n",
       "      <th>ENSG00000217896</th>\n",
       "      <th>ENSG00000185275</th>\n",
       "      <th>ENSG00000131002</th>\n",
       "      <th>ENSG00000267793</th>\n",
       "      <th>ENSG00000260197</th>\n",
       "      <th>ENSG00000012817</th>\n",
       "      <th>ENSG00000229236</th>\n",
       "      <th>ENSG00000198692</th>\n",
       "    </tr>\n",
       "  </thead>\n",
       "  <tbody>\n",
       "    <tr>\n",
       "      <th>ENSG00000227232</th>\n",
       "      <td>1.000000</td>\n",
       "      <td>0.000020</td>\n",
       "      <td>0.000030</td>\n",
       "      <td>0.000005</td>\n",
       "      <td>0.000073</td>\n",
       "      <td>3.861530e-05</td>\n",
       "      <td>0.000023</td>\n",
       "      <td>1.242536e-04</td>\n",
       "      <td>0.000057</td>\n",
       "      <td>0.000027</td>\n",
       "      <td>...</td>\n",
       "      <td>3.331294e-06</td>\n",
       "      <td>3.597243e-06</td>\n",
       "      <td>3.057570e-06</td>\n",
       "      <td>0.000014</td>\n",
       "      <td>3.406501e-06</td>\n",
       "      <td>2.426621e-06</td>\n",
       "      <td>2.787483e-06</td>\n",
       "      <td>4.098064e-06</td>\n",
       "      <td>3.525666e-06</td>\n",
       "      <td>3.664547e-06</td>\n",
       "    </tr>\n",
       "    <tr>\n",
       "      <th>ENSG00000237683</th>\n",
       "      <td>0.000020</td>\n",
       "      <td>1.000000</td>\n",
       "      <td>0.000502</td>\n",
       "      <td>0.000009</td>\n",
       "      <td>0.000014</td>\n",
       "      <td>4.467564e-06</td>\n",
       "      <td>0.000005</td>\n",
       "      <td>2.258114e-05</td>\n",
       "      <td>0.000017</td>\n",
       "      <td>0.000003</td>\n",
       "      <td>...</td>\n",
       "      <td>2.347299e-06</td>\n",
       "      <td>1.652009e-06</td>\n",
       "      <td>3.248601e-06</td>\n",
       "      <td>0.000005</td>\n",
       "      <td>1.489917e-06</td>\n",
       "      <td>1.919215e-06</td>\n",
       "      <td>1.754257e-06</td>\n",
       "      <td>1.478108e-06</td>\n",
       "      <td>1.977784e-06</td>\n",
       "      <td>1.150159e-06</td>\n",
       "    </tr>\n",
       "    <tr>\n",
       "      <th>ENSG00000241860</th>\n",
       "      <td>0.000030</td>\n",
       "      <td>0.000502</td>\n",
       "      <td>1.000000</td>\n",
       "      <td>0.000261</td>\n",
       "      <td>0.000013</td>\n",
       "      <td>8.949508e-06</td>\n",
       "      <td>0.000003</td>\n",
       "      <td>9.220565e-06</td>\n",
       "      <td>0.000011</td>\n",
       "      <td>0.000008</td>\n",
       "      <td>...</td>\n",
       "      <td>8.338342e-06</td>\n",
       "      <td>8.376668e-06</td>\n",
       "      <td>8.015016e-06</td>\n",
       "      <td>0.000009</td>\n",
       "      <td>8.176414e-06</td>\n",
       "      <td>7.759969e-06</td>\n",
       "      <td>8.165011e-06</td>\n",
       "      <td>8.027337e-06</td>\n",
       "      <td>8.343403e-06</td>\n",
       "      <td>8.062646e-06</td>\n",
       "    </tr>\n",
       "    <tr>\n",
       "      <th>ENSG00000228463</th>\n",
       "      <td>0.000005</td>\n",
       "      <td>0.000009</td>\n",
       "      <td>0.000261</td>\n",
       "      <td>1.000000</td>\n",
       "      <td>0.000002</td>\n",
       "      <td>3.453618e-07</td>\n",
       "      <td>0.000002</td>\n",
       "      <td>7.867309e-07</td>\n",
       "      <td>0.000001</td>\n",
       "      <td>0.000003</td>\n",
       "      <td>...</td>\n",
       "      <td>2.153623e-04</td>\n",
       "      <td>2.191977e-04</td>\n",
       "      <td>2.016207e-04</td>\n",
       "      <td>0.000004</td>\n",
       "      <td>2.180072e-04</td>\n",
       "      <td>2.042036e-04</td>\n",
       "      <td>2.147238e-04</td>\n",
       "      <td>2.118926e-04</td>\n",
       "      <td>2.172393e-04</td>\n",
       "      <td>2.141004e-04</td>\n",
       "    </tr>\n",
       "    <tr>\n",
       "      <th>ENSG00000225972</th>\n",
       "      <td>0.000073</td>\n",
       "      <td>0.000014</td>\n",
       "      <td>0.000013</td>\n",
       "      <td>0.000002</td>\n",
       "      <td>1.000000</td>\n",
       "      <td>5.194191e-03</td>\n",
       "      <td>0.000008</td>\n",
       "      <td>3.568830e-02</td>\n",
       "      <td>0.078554</td>\n",
       "      <td>0.013108</td>\n",
       "      <td>...</td>\n",
       "      <td>6.351416e-07</td>\n",
       "      <td>8.297258e-07</td>\n",
       "      <td>6.014009e-07</td>\n",
       "      <td>0.000006</td>\n",
       "      <td>7.768816e-07</td>\n",
       "      <td>6.322786e-07</td>\n",
       "      <td>6.572636e-07</td>\n",
       "      <td>9.048092e-07</td>\n",
       "      <td>7.631883e-07</td>\n",
       "      <td>9.059659e-07</td>\n",
       "    </tr>\n",
       "  </tbody>\n",
       "</table>\n",
       "<p>5 rows × 19911 columns</p>\n",
       "</div>"
      ],
      "text/plain": [
       "                 ENSG00000227232  ENSG00000237683  ENSG00000241860  \\\n",
       "ENSG00000227232         1.000000         0.000020         0.000030   \n",
       "ENSG00000237683         0.000020         1.000000         0.000502   \n",
       "ENSG00000241860         0.000030         0.000502         1.000000   \n",
       "ENSG00000228463         0.000005         0.000009         0.000261   \n",
       "ENSG00000225972         0.000073         0.000014         0.000013   \n",
       "\n",
       "                 ENSG00000228463  ENSG00000225972  ENSG00000225630  \\\n",
       "ENSG00000227232         0.000005         0.000073     3.861530e-05   \n",
       "ENSG00000237683         0.000009         0.000014     4.467564e-06   \n",
       "ENSG00000241860         0.000261         0.000013     8.949508e-06   \n",
       "ENSG00000228463         1.000000         0.000002     3.453618e-07   \n",
       "ENSG00000225972         0.000002         1.000000     5.194191e-03   \n",
       "\n",
       "                 ENSG00000237973  ENSG00000229344  ENSG00000248527  \\\n",
       "ENSG00000227232         0.000023     1.242536e-04         0.000057   \n",
       "ENSG00000237683         0.000005     2.258114e-05         0.000017   \n",
       "ENSG00000241860         0.000003     9.220565e-06         0.000011   \n",
       "ENSG00000228463         0.000002     7.867309e-07         0.000001   \n",
       "ENSG00000225972         0.000008     3.568830e-02         0.078554   \n",
       "\n",
       "                 ENSG00000198744  ...  ENSG00000226555  ENSG00000176728  \\\n",
       "ENSG00000227232         0.000027  ...     3.331294e-06     3.597243e-06   \n",
       "ENSG00000237683         0.000003  ...     2.347299e-06     1.652009e-06   \n",
       "ENSG00000241860         0.000008  ...     8.338342e-06     8.376668e-06   \n",
       "ENSG00000228463         0.000003  ...     2.153623e-04     2.191977e-04   \n",
       "ENSG00000225972         0.013108  ...     6.351416e-07     8.297258e-07   \n",
       "\n",
       "                 ENSG00000217896  ENSG00000185275  ENSG00000131002  \\\n",
       "ENSG00000227232     3.057570e-06         0.000014     3.406501e-06   \n",
       "ENSG00000237683     3.248601e-06         0.000005     1.489917e-06   \n",
       "ENSG00000241860     8.015016e-06         0.000009     8.176414e-06   \n",
       "ENSG00000228463     2.016207e-04         0.000004     2.180072e-04   \n",
       "ENSG00000225972     6.014009e-07         0.000006     7.768816e-07   \n",
       "\n",
       "                 ENSG00000267793  ENSG00000260197  ENSG00000012817  \\\n",
       "ENSG00000227232     2.426621e-06     2.787483e-06     4.098064e-06   \n",
       "ENSG00000237683     1.919215e-06     1.754257e-06     1.478108e-06   \n",
       "ENSG00000241860     7.759969e-06     8.165011e-06     8.027337e-06   \n",
       "ENSG00000228463     2.042036e-04     2.147238e-04     2.118926e-04   \n",
       "ENSG00000225972     6.322786e-07     6.572636e-07     9.048092e-07   \n",
       "\n",
       "                 ENSG00000229236  ENSG00000198692  \n",
       "ENSG00000227232     3.525666e-06     3.664547e-06  \n",
       "ENSG00000237683     1.977784e-06     1.150159e-06  \n",
       "ENSG00000241860     8.343403e-06     8.062646e-06  \n",
       "ENSG00000228463     2.172393e-04     2.141004e-04  \n",
       "ENSG00000225972     7.631883e-07     9.059659e-07  \n",
       "\n",
       "[5 rows x 19911 columns]"
      ]
     },
     "execution_count": 6,
     "metadata": {},
     "output_type": "execute_result"
    }
   ],
   "source": [
    "old_tom.head()"
   ]
  },
  {
   "cell_type": "code",
   "execution_count": 7,
   "id": "recognized-torture",
   "metadata": {},
   "outputs": [
    {
     "data": {
      "text/html": [
       "<div>\n",
       "<style scoped>\n",
       "    .dataframe tbody tr th:only-of-type {\n",
       "        vertical-align: middle;\n",
       "    }\n",
       "\n",
       "    .dataframe tbody tr th {\n",
       "        vertical-align: top;\n",
       "    }\n",
       "\n",
       "    .dataframe thead th {\n",
       "        text-align: right;\n",
       "    }\n",
       "</style>\n",
       "<table border=\"1\" class=\"dataframe\">\n",
       "  <thead>\n",
       "    <tr style=\"text-align: right;\">\n",
       "      <th></th>\n",
       "      <th>ENSG00000227232</th>\n",
       "      <th>ENSG00000237683</th>\n",
       "      <th>ENSG00000241860</th>\n",
       "      <th>ENSG00000228463</th>\n",
       "      <th>ENSG00000225972</th>\n",
       "      <th>ENSG00000225630</th>\n",
       "      <th>ENSG00000237973</th>\n",
       "      <th>ENSG00000229344</th>\n",
       "      <th>ENSG00000248527</th>\n",
       "      <th>ENSG00000198744</th>\n",
       "      <th>...</th>\n",
       "      <th>ENSG00000226555</th>\n",
       "      <th>ENSG00000176728</th>\n",
       "      <th>ENSG00000217896</th>\n",
       "      <th>ENSG00000185275</th>\n",
       "      <th>ENSG00000131002</th>\n",
       "      <th>ENSG00000267793</th>\n",
       "      <th>ENSG00000260197</th>\n",
       "      <th>ENSG00000012817</th>\n",
       "      <th>ENSG00000229236</th>\n",
       "      <th>ENSG00000198692</th>\n",
       "    </tr>\n",
       "  </thead>\n",
       "  <tbody>\n",
       "    <tr>\n",
       "      <th>ENSG00000227232</th>\n",
       "      <td>1.000000</td>\n",
       "      <td>0.000020</td>\n",
       "      <td>0.000030</td>\n",
       "      <td>0.000005</td>\n",
       "      <td>0.000073</td>\n",
       "      <td>3.861530e-05</td>\n",
       "      <td>0.000023</td>\n",
       "      <td>1.242536e-04</td>\n",
       "      <td>0.000057</td>\n",
       "      <td>0.000027</td>\n",
       "      <td>...</td>\n",
       "      <td>3.331294e-06</td>\n",
       "      <td>3.597243e-06</td>\n",
       "      <td>3.057570e-06</td>\n",
       "      <td>0.000014</td>\n",
       "      <td>3.406501e-06</td>\n",
       "      <td>2.426621e-06</td>\n",
       "      <td>2.787483e-06</td>\n",
       "      <td>4.098064e-06</td>\n",
       "      <td>3.525666e-06</td>\n",
       "      <td>3.664547e-06</td>\n",
       "    </tr>\n",
       "    <tr>\n",
       "      <th>ENSG00000237683</th>\n",
       "      <td>0.000020</td>\n",
       "      <td>1.000000</td>\n",
       "      <td>0.000502</td>\n",
       "      <td>0.000009</td>\n",
       "      <td>0.000014</td>\n",
       "      <td>4.467564e-06</td>\n",
       "      <td>0.000005</td>\n",
       "      <td>2.258114e-05</td>\n",
       "      <td>0.000017</td>\n",
       "      <td>0.000003</td>\n",
       "      <td>...</td>\n",
       "      <td>2.347299e-06</td>\n",
       "      <td>1.652009e-06</td>\n",
       "      <td>3.248601e-06</td>\n",
       "      <td>0.000005</td>\n",
       "      <td>1.489917e-06</td>\n",
       "      <td>1.919215e-06</td>\n",
       "      <td>1.754257e-06</td>\n",
       "      <td>1.478108e-06</td>\n",
       "      <td>1.977784e-06</td>\n",
       "      <td>1.150159e-06</td>\n",
       "    </tr>\n",
       "    <tr>\n",
       "      <th>ENSG00000241860</th>\n",
       "      <td>0.000030</td>\n",
       "      <td>0.000502</td>\n",
       "      <td>1.000000</td>\n",
       "      <td>0.000261</td>\n",
       "      <td>0.000013</td>\n",
       "      <td>8.949508e-06</td>\n",
       "      <td>0.000003</td>\n",
       "      <td>9.220565e-06</td>\n",
       "      <td>0.000011</td>\n",
       "      <td>0.000008</td>\n",
       "      <td>...</td>\n",
       "      <td>8.338342e-06</td>\n",
       "      <td>8.376668e-06</td>\n",
       "      <td>8.015016e-06</td>\n",
       "      <td>0.000009</td>\n",
       "      <td>8.176414e-06</td>\n",
       "      <td>7.759969e-06</td>\n",
       "      <td>8.165011e-06</td>\n",
       "      <td>8.027337e-06</td>\n",
       "      <td>8.343403e-06</td>\n",
       "      <td>8.062646e-06</td>\n",
       "    </tr>\n",
       "    <tr>\n",
       "      <th>ENSG00000228463</th>\n",
       "      <td>0.000005</td>\n",
       "      <td>0.000009</td>\n",
       "      <td>0.000261</td>\n",
       "      <td>1.000000</td>\n",
       "      <td>0.000002</td>\n",
       "      <td>3.453618e-07</td>\n",
       "      <td>0.000002</td>\n",
       "      <td>7.867309e-07</td>\n",
       "      <td>0.000001</td>\n",
       "      <td>0.000003</td>\n",
       "      <td>...</td>\n",
       "      <td>2.153623e-04</td>\n",
       "      <td>2.191977e-04</td>\n",
       "      <td>2.016207e-04</td>\n",
       "      <td>0.000004</td>\n",
       "      <td>2.180072e-04</td>\n",
       "      <td>2.042036e-04</td>\n",
       "      <td>2.147238e-04</td>\n",
       "      <td>2.118926e-04</td>\n",
       "      <td>2.172393e-04</td>\n",
       "      <td>2.141004e-04</td>\n",
       "    </tr>\n",
       "    <tr>\n",
       "      <th>ENSG00000225972</th>\n",
       "      <td>0.000073</td>\n",
       "      <td>0.000014</td>\n",
       "      <td>0.000013</td>\n",
       "      <td>0.000002</td>\n",
       "      <td>1.000000</td>\n",
       "      <td>5.194191e-03</td>\n",
       "      <td>0.000008</td>\n",
       "      <td>3.568830e-02</td>\n",
       "      <td>0.078554</td>\n",
       "      <td>0.013108</td>\n",
       "      <td>...</td>\n",
       "      <td>6.351416e-07</td>\n",
       "      <td>8.297258e-07</td>\n",
       "      <td>6.014009e-07</td>\n",
       "      <td>0.000006</td>\n",
       "      <td>7.768816e-07</td>\n",
       "      <td>6.322786e-07</td>\n",
       "      <td>6.572636e-07</td>\n",
       "      <td>9.048092e-07</td>\n",
       "      <td>7.631883e-07</td>\n",
       "      <td>9.059659e-07</td>\n",
       "    </tr>\n",
       "  </tbody>\n",
       "</table>\n",
       "<p>5 rows × 19911 columns</p>\n",
       "</div>"
      ],
      "text/plain": [
       "                 ENSG00000227232  ENSG00000237683  ENSG00000241860  \\\n",
       "ENSG00000227232         1.000000         0.000020         0.000030   \n",
       "ENSG00000237683         0.000020         1.000000         0.000502   \n",
       "ENSG00000241860         0.000030         0.000502         1.000000   \n",
       "ENSG00000228463         0.000005         0.000009         0.000261   \n",
       "ENSG00000225972         0.000073         0.000014         0.000013   \n",
       "\n",
       "                 ENSG00000228463  ENSG00000225972  ENSG00000225630  \\\n",
       "ENSG00000227232         0.000005         0.000073     3.861530e-05   \n",
       "ENSG00000237683         0.000009         0.000014     4.467564e-06   \n",
       "ENSG00000241860         0.000261         0.000013     8.949508e-06   \n",
       "ENSG00000228463         1.000000         0.000002     3.453618e-07   \n",
       "ENSG00000225972         0.000002         1.000000     5.194191e-03   \n",
       "\n",
       "                 ENSG00000237973  ENSG00000229344  ENSG00000248527  \\\n",
       "ENSG00000227232         0.000023     1.242536e-04         0.000057   \n",
       "ENSG00000237683         0.000005     2.258114e-05         0.000017   \n",
       "ENSG00000241860         0.000003     9.220565e-06         0.000011   \n",
       "ENSG00000228463         0.000002     7.867309e-07         0.000001   \n",
       "ENSG00000225972         0.000008     3.568830e-02         0.078554   \n",
       "\n",
       "                 ENSG00000198744  ...  ENSG00000226555  ENSG00000176728  \\\n",
       "ENSG00000227232         0.000027  ...     3.331294e-06     3.597243e-06   \n",
       "ENSG00000237683         0.000003  ...     2.347299e-06     1.652009e-06   \n",
       "ENSG00000241860         0.000008  ...     8.338342e-06     8.376668e-06   \n",
       "ENSG00000228463         0.000003  ...     2.153623e-04     2.191977e-04   \n",
       "ENSG00000225972         0.013108  ...     6.351416e-07     8.297258e-07   \n",
       "\n",
       "                 ENSG00000217896  ENSG00000185275  ENSG00000131002  \\\n",
       "ENSG00000227232     3.057570e-06         0.000014     3.406501e-06   \n",
       "ENSG00000237683     3.248601e-06         0.000005     1.489917e-06   \n",
       "ENSG00000241860     8.015016e-06         0.000009     8.176414e-06   \n",
       "ENSG00000228463     2.016207e-04         0.000004     2.180072e-04   \n",
       "ENSG00000225972     6.014009e-07         0.000006     7.768816e-07   \n",
       "\n",
       "                 ENSG00000267793  ENSG00000260197  ENSG00000012817  \\\n",
       "ENSG00000227232     2.426621e-06     2.787483e-06     4.098064e-06   \n",
       "ENSG00000237683     1.919215e-06     1.754257e-06     1.478108e-06   \n",
       "ENSG00000241860     7.759969e-06     8.165011e-06     8.027337e-06   \n",
       "ENSG00000228463     2.042036e-04     2.147238e-04     2.118926e-04   \n",
       "ENSG00000225972     6.322786e-07     6.572636e-07     9.048092e-07   \n",
       "\n",
       "                 ENSG00000229236  ENSG00000198692  \n",
       "ENSG00000227232     3.525666e-06     3.664547e-06  \n",
       "ENSG00000237683     1.977784e-06     1.150159e-06  \n",
       "ENSG00000241860     8.343403e-06     8.062646e-06  \n",
       "ENSG00000228463     2.172393e-04     2.141004e-04  \n",
       "ENSG00000225972     7.631883e-07     9.059659e-07  \n",
       "\n",
       "[5 rows x 19911 columns]"
      ]
     },
     "execution_count": 7,
     "metadata": {},
     "output_type": "execute_result"
    }
   ],
   "source": [
    "new_tom.head()"
   ]
  },
  {
   "cell_type": "code",
   "execution_count": 8,
   "id": "behind-bottle",
   "metadata": {},
   "outputs": [
    {
     "data": {
      "text/plain": [
       "19911"
      ]
     },
     "execution_count": 8,
     "metadata": {},
     "output_type": "execute_result"
    }
   ],
   "source": [
    "len(new_tom.columns[new_tom.columns == old_tom.columns])"
   ]
  },
  {
   "cell_type": "code",
   "execution_count": 16,
   "id": "angry-indonesia",
   "metadata": {},
   "outputs": [
    {
     "name": "stdout",
     "output_type": "stream",
     "text": [
      "The old TOM size is equal to the new TOM size\n"
     ]
    },
    {
     "data": {
      "text/plain": [
       "True"
      ]
     },
     "execution_count": 16,
     "metadata": {},
     "output_type": "execute_result"
    }
   ],
   "source": [
    "print('The old TOM size is equal to the new TOM size')\n",
    "sys.getsizeof(old_tom) == sys.getsizeof(new_tom)"
   ]
  },
  {
   "cell_type": "code",
   "execution_count": 14,
   "id": "engaged-public",
   "metadata": {},
   "outputs": [
    {
     "data": {
      "image/png": "[encoded data removed]",
      "text/plain": [
       "<Figure size 288x288 with 1 Axes>"
      ]
     },
     "metadata": {
      "needs_background": "light"
     },
     "output_type": "display_data"
    }
   ],
   "source": [
    "scale_free_validate(old_tom, 'old TOM')"
   ]
  },
  {
   "cell_type": "code",
   "execution_count": 13,
   "id": "editorial-department",
   "metadata": {},
   "outputs": [
    {
     "data": {
      "image/png": "[encoded data removed]",
      "text/plain": [
       "<Figure size 288x288 with 1 Axes>"
      ]
     },
     "metadata": {
      "needs_background": "light"
     },
     "output_type": "display_data"
    }
   ],
   "source": [
    "scale_free_validate(new_tom, 'new TOM')"
   ]
  },
  {
   "cell_type": "code",
   "execution_count": 18,
   "id": "mobile-waters",
   "metadata": {},
   "outputs": [
    {
     "data": {
      "text/plain": [
       "ENSG00000237683     True\n",
       "ENSG00000241860    False\n",
       "ENSG00000228463     True\n",
       "ENSG00000225972     True\n",
       "ENSG00000225630     True\n",
       "ENSG00000237973    False\n",
       "ENSG00000229344     True\n",
       "ENSG00000248527     True\n",
       "ENSG00000198744     True\n",
       "Name: ENSG00000227232, dtype: bool"
      ]
     },
     "execution_count": 18,
     "metadata": {},
     "output_type": "execute_result"
    }
   ],
   "source": [
    "old.iloc[1:10,0] == new_tom.iloc[1:10,0]"
   ]
  },
  {
   "cell_type": "code",
   "execution_count": 19,
   "id": "original-corrections",
   "metadata": {},
   "outputs": [
    {
     "data": {
      "text/plain": [
       "2.04943457634286e-05"
      ]
     },
     "execution_count": 19,
     "metadata": {},
     "output_type": "execute_result"
    }
   ],
   "source": [
    "old_tom.iloc[1,0]"
   ]
  },
  {
   "cell_type": "code",
   "execution_count": 41,
   "id": "sunset-outside",
   "metadata": {},
   "outputs": [],
   "source": [
    "identical_cnt = 0\n",
    "for col in old_tom.columns:\n",
    "    if old_tom[col][round(old_tom[col], 8) == round(new_tom[col], 8)].shape[0] == 19911:\n",
    "        identical_cnt += 1"
   ]
  },
  {
   "cell_type": "code",
   "execution_count": 44,
   "id": "african-charleston",
   "metadata": {},
   "outputs": [
    {
     "name": "stdout",
     "output_type": "stream",
     "text": [
      "Out of 19911 genes, 19911 genes have the same edge weights at the 8th decimal point\n"
     ]
    }
   ],
   "source": [
    "print('Out of 19911 genes,', identical_cnt, 'genes have the same edge weights at the 8th decimal point')"
   ]
  }
 ],
 "metadata": {
  "kernelspec": {
   "display_name": "Python 3",
   "language": "python",
   "name": "python3"
  },
  "language_info": {
   "codemirror_mode": {
    "name": "ipython",
    "version": 3
   },
   "file_extension": ".py",
   "mimetype": "text/x-python",
   "name": "python",
   "nbconvert_exporter": "python",
   "pygments_lexer": "ipython3",
   "version": "3.8.5"
  }
 },
 "nbformat": 4,
 "nbformat_minor": 5
}
